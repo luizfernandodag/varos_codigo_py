{
 "cells": [
  {
   "cell_type": "markdown",
   "metadata": {},
   "source": [
    "# GALAXIA 6"
   ]
  },
  {
   "cell_type": "code",
   "execution_count": 3,
   "metadata": {},
   "outputs": [
    {
     "name": "stdout",
     "output_type": "stream",
     "text": [
      "1960\n",
      "Preto\n",
      "['__class__', '__delattr__', '__dict__', '__dir__', '__doc__', '__eq__', '__format__', '__ge__', '__getattribute__', '__gt__', '__hash__', '__init__', '__init_subclass__', '__le__', '__lt__', '__module__', '__ne__', '__new__', '__reduce__', '__reduce_ex__', '__repr__', '__setattr__', '__sizeof__', '__str__', '__subclasshook__', '__weakref__']\n",
      "False\n"
     ]
    }
   ],
   "source": [
    "#MUNDO 2\n",
    "class Empresa:\n",
    "    def __init__(self, nome='', ticker='', ano_fundacao=1900, cnpj=''):\n",
    "        self.nome = nome \n",
    "        self.ticker = ticker\n",
    "        self.ano_fundacao = ano_fundacao\n",
    "        self.cnpj = cnpj \n",
    "\n",
    "# Criando uma instância da classe Empresa com valores padrão\n",
    "petro = Empresa(nome=\"Petrobras\", ticker=\"PETR4\")\n",
    "\n",
    "class Carro:\n",
    "    def __init__(self, cor, direcao):\n",
    "        self.cor_do_carro = cor \n",
    "        self.tipo_direcao = direcao \n",
    "        \n",
    "        \n",
    "if __name__ == \"__main__\":\n",
    "    empresa_de_motor = Empresa(nome=\"WEG\", ticker=\"WEGE3\", ano_fundacao=1960, cnpj=\"3981381291\")\n",
    "    carro_do_nelson = Carro(cor = \"Preto\", direcao=\"Elétrica\")\n",
    "    print(empresa_de_motor.ano_fundacao)\n",
    "    print(carro_do_nelson.cor_do_carro)\n",
    "    print(dir(Empresa))\n",
    "    print(hasattr(Empresa, 'nome'))\n",
    "   \n"
   ]
  },
  {
   "cell_type": "code",
   "execution_count": 7,
   "metadata": {},
   "outputs": [
    {
     "name": "stdout",
     "output_type": "stream",
     "text": [
      "O CNPJ só com números é 84429695000111\n"
     ]
    }
   ],
   "source": [
    "from datetime import datetime \n",
    "\n",
    "class Empresa:\n",
    "    \n",
    "    def __init__(self, nome=\"\", ticker=\"\", ano_fundacao=0, cnpj=\"\"):\n",
    "        self.nome = nome \n",
    "        self.ticker = ticker\n",
    "        self.cnpj = cnpj \n",
    "        self.ano_fundacao = ano_fundacao\n",
    "        self.ano_atual = datetime.now().year \n",
    "        \n",
    "    def tempo_existencia(self):\n",
    "        if( not hasattr(self, 'anos_existencia')):\n",
    "            \n",
    "            self.anos_existencia = self.ano_atual - self.ano_fundacao\n",
    "        print(f\"A empresa existe há {self.anos_existencia} anos !\")\n",
    "        \n",
    "    def cnpj_numerico(self):\n",
    "        self.cnpj_inteiro = int(self.cnpj.replace(\"-\",\"\").replace(\".\",\"\").replace(\",\",\"\").replace(\"/\",\"\"))\n",
    "        print(f\"O CNPJ só com números é {self.cnpj_inteiro}\")\n",
    "        \n",
    "        \n",
    "weg = Empresa(nome = \"WEG\", ticker = \"WEGE3\", ano_fundacao=1960, cnpj=\"84.429.695/0001-11\")\n",
    "  \n",
    "weg.cnpj_numerico()\n",
    "                \n",
    "        "
   ]
  },
  {
   "cell_type": "markdown",
   "metadata": {},
   "source": []
  },
  {
   "cell_type": "code",
   "execution_count": 19,
   "metadata": {},
   "outputs": [
    {
     "name": "stdout",
     "output_type": "stream",
     "text": [
      "Petrobras\n"
     ]
    }
   ],
   "source": [
    "#MUNDO 2 2\n",
    "\n",
    "\n",
    "#petro = Empresa(nome=\"Petrobras\", ticker=\"PETR4\", ano_fundacao=1953, cnpj=\"12345678000195\")\n",
    "\n",
    "petro = Empresa(nome=\"Petrobras\", ticker=\"PETR4\")\n",
    "\n",
    "print(petro.nome)\n",
    "\n"
   ]
  },
  {
   "cell_type": "markdown",
   "metadata": {},
   "source": [
    "# Mundo 4"
   ]
  },
  {
   "cell_type": "code",
   "execution_count": null,
   "metadata": {},
   "outputs": [],
   "source": [
    "from datetime import datetime\n",
    "class Empresa:\n",
    "    \n",
    "    ano_atual = datetime.now().year\n",
    "    def __init__(self, nome, ticker, ano_fundacao, cnpj):\n",
    "        self.nome = nome\n",
    "        self.ticker = ticker \n",
    "        self.ano_fundacao = ano_fundacao\n",
    "        self.cnpj = cnpj \n",
    "        \n",
    "    def tempo_existencia(self):\n",
    "        if(not hasattr(self, 'anos_existencia')):\n",
    "            self.anos_existencia = self.ano_atual - self.ano_fundacao\n",
    "        print(f\"A empresa existe há {self.anos_existencia}\")\n",
    "        \n",
    "        \n",
    "    def cnpj_numerico(self):\n",
    "        self.cnpj_inteiro = int(self.cnpj.replace(\"-\",\"\").replace())"
   ]
  },
  {
   "cell_type": "markdown",
   "metadata": {},
   "source": [
    "# Mundo 4 2 "
   ]
  },
  {
   "cell_type": "code",
   "execution_count": 11,
   "metadata": {},
   "outputs": [
    {
     "name": "stdout",
     "output_type": "stream",
     "text": [
      "1960\n",
      "WEGE3\n"
     ]
    }
   ],
   "source": [
    "\n",
    "class Empresa:\n",
    "\n",
    "    ano_atual = 2022\n",
    "    \n",
    "\n",
    "    def __init__(self, nome, ticker, ano_fundacao, cnpj): #construtor\n",
    "\n",
    "        self.nome = nome #atributos da instancia \n",
    "        self.ticker = ticker\n",
    "        self.ano_fundacao = ano_fundacao\n",
    "        self.cnpj = cnpj\n",
    "\n",
    "    def tempo_existencia(self): \n",
    "    #preciso passar o self pois é um método da instancia. Só é possível executar ele com os atributos da instancia existindo\n",
    "\n",
    "        self.anos_existencia = self.ano_atual - self.ano_fundacao\n",
    "        print(f\"A empresa existe há {self.anos_existencia} anos!\")\n",
    "\n",
    "    def cnpj_numerico(self):\n",
    "\n",
    "        self.cnpj_inteiro = int(self.cnpj.replace(\"-\", \"\").replace(\".\", \"\").replace(\"/\", \"\"))\n",
    "        print(f\"O CNPJ só com números é {self.cnpj_inteiro}.\")\n",
    "\n",
    "\n",
    "\n",
    "\n",
    "    #Mundo 4: Método de classe\n",
    "\n",
    "    #é referente a classe, não a instancia (objeto específico). \n",
    "    #Pode ser usado para construir as instancias, quando você só tem parte dos argumentos necessários.\n",
    "    #vamos supor que você precisa do ano de fundação mas só tem os anos de existencia da empresa. \n",
    "    #Você pode construir um método de classe q calcula isso pra você.\n",
    "\n",
    "     #atributo de classe. Não importa a instância\n",
    "    \n",
    "    @classmethod \n",
    "    def extraindo_empresa_por_ano_existencia(cls, anos_existencia, nome, ticker, cnpj):\n",
    "\n",
    "        ano_fundacao = cls.ano_atual - anos_existencia\n",
    "        return cls(nome, ticker, ano_fundacao, cnpj) #tem que ser na mesma ordem do init\n",
    "\n",
    "        #usado pra quando voce nao tem, ou não quer ter a instancia no primeiro momento\n",
    "\n",
    "    @classmethod\n",
    "    def extraindo_empresa_corrigindo_ticker(cls, nome, texto_ticker, codigo_ticker, ano_fundacao, cnpj): \n",
    "\n",
    "        ticker = texto_ticker + codigo_ticker\n",
    "        return cls(nome, ticker, ano_fundacao, cnpj)\n",
    "    \n",
    "    #Ex 113: Elabore um método de classe que você crie uma instância a partir das informações\n",
    "#  nome, texto_ticker, codigo_ticker, ano_fundacao e cnpj. Você irá passar os argumentos \"WEGE\" e \"3\", por exemplo, a, partir disso, será\n",
    "#criado o atributo ticker. \n",
    "\n",
    "    \n",
    "\n",
    "if __name__ == \"__main__\": \n",
    "\n",
    "\n",
    "    weg = Empresa.extraindo_empresa_por_ano_existencia(nome = \"WEG\", ticker = \"WEGE3\", anos_existencia=62, cnpj=\"84.429.695/0001-11\")\n",
    "\n",
    "\n",
    "    print(weg.ano_fundacao)\n",
    "\n",
    "\n",
    "    weg = Empresa.extraindo_empresa_corrigindo_ticker(nome = \"WEG\", texto_ticker = \"WEGE\", codigo_ticker = \"3\",\n",
    "                                                                            ano_fundacao=1960, cnpj=\"84.429.695/0001-11\")\n",
    "\n",
    "    print(weg.ticker)\n",
    "\n",
    "\n",
    "\n",
    "#Ex 113: Elabore um método de classe que você crie uma instância a partir das informações\n",
    "#  nome, texto_ticker, codigo_ticker, ano_fundacao e cnpj. Você irá passar os argumentos \"WEGE\" e \"3\", por exemplo, a, partir disso, será\n",
    "#criado o atributo ticker. \n",
    "                                                                            \n",
    "\n",
    "\n",
    "\n"
   ]
  },
  {
   "cell_type": "markdown",
   "metadata": {},
   "source": [
    "# Mundo 5"
   ]
  },
  {
   "cell_type": "code",
   "execution_count": 12,
   "metadata": {},
   "outputs": [
    {
     "name": "stdout",
     "output_type": "stream",
     "text": [
      "A recomendacao é de Venda para a empresa 1960\n"
     ]
    }
   ],
   "source": [
    "import random \n",
    "\n",
    "class Empresa:\n",
    "    \n",
    "    ano_atual = 2024 \n",
    "    \n",
    "    def __init__(self, nome, ticker, ano_fundacao, cnpj):\n",
    "        \n",
    "        self.nome = nome \n",
    "        self.ticker = ticker \n",
    "        self.ano_fundacao = ano_fundacao\n",
    "        self.cnpj = cnpj \n",
    "        \n",
    "        \n",
    "        \n",
    "    def tempo_existencia(self):\n",
    "        \n",
    "        self.anos_existencia = self.ano_atual - self.ano_fundacao\n",
    "        print(f\"A empresa existe há {self.anos_existencia} anos!\")\n",
    "        \n",
    "    def cnpj_numerico(self):\n",
    "        \n",
    "        self.cnpj_inteiro = int(self.cnpj.replace(\"-\", \"\").replace(\".\", \"\").replace(\"/\", \"\"))\n",
    "        \n",
    "        \n",
    "        print(f\"O CNPJ só com números é {self.cnpj_inteiro}.\")\n",
    "        \n",
    "    @classmethod\n",
    "     #é referente a classe, não a instancia. Pode ser usado para construir a instancias, quando você só tem parte dos argumentos necessários.\n",
    "    #vamos supor que você precisa do ano de fundação mas só tem os anos de existencia da empresa. Você pode construir um método de classe q calcula isso pra você.\n",
    "    \n",
    "    def extraindo_empresa_por_ano_existencia(cls, anos_existencia, nome, ticker, cnpj):\n",
    "        ano_fundacao = cls.ano_atual - anos_existencia\n",
    "        return cls(nome, ticker, ano_fundacao, cnpj)\n",
    "    \n",
    "    \n",
    "    @classmethod\n",
    "    def extraindo_empresa_corrigindo_ticker(cls, nome, texto_ticker, codigo_ticker, ano_fundacao, cnpj):\n",
    "        ticker = texto_ticker + codigo_ticker\n",
    "        return cls(nome, ticker, ano_fundacao, cnpj)\n",
    "    \n",
    "    \n",
    "    @staticmethod\n",
    "    def gera_id():\n",
    "        id_aleatorio = random.randint(0,100)\n",
    "        return id_aleatorio\n",
    "    \n",
    "    \n",
    "    @staticmethod\n",
    "    def gera_recomendacao_investimento(ticker):\n",
    "        \n",
    "        lista_recomendacoes = ['Compra','Neutro','Venda']\n",
    "        \n",
    "        recomendacao = random.choice(lista_recomendacoes)\n",
    "        \n",
    "        return print(f\"A recomendacao é de {recomendacao} para a empresa {ticker}\")\n",
    "    \n",
    "    \n",
    "if __name__ == \"__main__\":\n",
    "    id_empresa = Empresa.gera_id()\n",
    "    \n",
    "    empresa_recomendada = Empresa.gera_recomendacao_investimento(\"1960\")       \n",
    "        \n",
    "    \n",
    "        \n",
    "        \n",
    "        "
   ]
  },
  {
   "cell_type": "markdown",
   "metadata": {},
   "source": [
    "# Mundo 6"
   ]
  },
  {
   "cell_type": "code",
   "execution_count": 19,
   "metadata": {},
   "outputs": [
    {
     "name": "stdout",
     "output_type": "stream",
     "text": [
      "wEg\n",
      "wEg\n",
      "WEGE3\n"
     ]
    }
   ],
   "source": [
    "import random\n",
    "\n",
    "class Empresa:\n",
    "\n",
    "    ano_atual = 2022 #atributo de classe. Não importa a instância\n",
    "\n",
    "    def __init__(self, nome, ticker, ano_fundacao, cnpj): #construtor\n",
    "\n",
    "        self.__nome = nome #atributos da instancia \n",
    "        self.ticker = ticker\n",
    "        self.ano_fundacao = ano_fundacao\n",
    "        self.cnpj = cnpj\n",
    "\n",
    "    def tempo_existencia(self): \n",
    "    #preciso passar o self pois é um método da instancia. Só é possível executar ele com os atributos da instancia existindo\n",
    "\n",
    "        self.anos_existencia = self.ano_atual - self.ano_fundacao\n",
    "        print(f\"A empresa existe há {self.anos_existencia} anos!\")\n",
    "\n",
    "    def cnpj_numerico(self): \n",
    "\n",
    "        self.cnpj_inteiro = int(self.cnpj.replace(\"-\", \"\").replace(\".\", \"\").replace(\"/\", \"\"))\n",
    "        print(f\"O CNPJ só com números é {self.cnpj_inteiro}.\")\n",
    "\n",
    "    @classmethod #é referente a classe, não a instancia. Pode ser usado para construir a instancias, quando você só tem parte dos argumentos necessários.\n",
    "    #vamos supor que você precisa do ano de fundação mas só tem os anos de existencia da empresa. Você pode construir um método de classe q calcula isso pra você.\n",
    "    def extraindo_empresa_por_ano_existencia(cls, anos_existencia, nome, ticker, cnpj):\n",
    "\n",
    "        ano_fundacao = cls.ano_atual - anos_existencia\n",
    "        return cls(nome, ticker, ano_fundacao, cnpj) #tem que ser na mesma ordem do init\n",
    "\n",
    "        #usado pra quando voce nao tem, ou não quer ter a instancia no primeiro momento\n",
    "    \n",
    "    @classmethod\n",
    "    def extraindo_empresa_corrigindo_ticker(cls, nome, texto_ticker, codigo_ticker, ano_fundacao, cnpj): \n",
    "\n",
    "        ticker = texto_ticker + codigo_ticker\n",
    "        return cls(nome, ticker, ano_fundacao, cnpj)\n",
    "\n",
    "    @staticmethod #só deixa aqui por organização, uma função normal\n",
    "    def gera_id():\n",
    "\n",
    "        id_aleatorio = random.randint(0, 100)\n",
    "        return id_aleatorio\n",
    "    \n",
    "    @staticmethod\n",
    "    def gera_recomendacao_investimento(): \n",
    "\n",
    "        lista_recomendacoes = ['Compra', 'Neutro', 'Venda']\n",
    "        recomendacao = random.choice(lista_recomendacoes)\n",
    "\n",
    "        return print(recomendacao)\n",
    "\n",
    "    #getter e setter servem para tratamento de dados.\n",
    "    # Nesse mundo iremos tratar o ano da fundação. Assim eu n preciso ficar tratando dado na classe inteira\n",
    "    #nada mais é que um validador de dados. vai criar só pro que o usuário que pode fazer merda\n",
    "    #dificilmente você vai usar no dia a dia, principalmente em análise de dados, mas é bom saber que existe.\n",
    "\n",
    "    #getter\n",
    "    @property\n",
    "    def ano_fundacao(self): #pode ser qualquer nome\n",
    "        return self._ano_fundacao #aqui pode ser qualquer nome\n",
    "\n",
    "    @ano_fundacao.setter #o mesmo nome do getter\n",
    "    def ano_fundacao(self, ano): #o importante é a definição aqui, com o atributo sendo o nome da função.\n",
    "\n",
    "        self._ano_fundacao = int(ano)\n",
    "\n",
    "    @property \n",
    "    def nome(self): \n",
    "        return self.__nome \n",
    "\n",
    "    @nome.setter \n",
    "    def nome(self, valor): \n",
    "\n",
    "        self.__nome = valor.title() \n",
    "\n",
    "\n",
    "if __name__ == \"__main__\": \n",
    "\n",
    "\n",
    "    weg = Empresa(nome = \"wEg\", ticker = \"WEGE3\", ano_fundacao=\"1960\", cnpj=\"84.429.695/0001-11\")\n",
    "\n",
    "    print(weg.nome)\n",
    "\n",
    "    weg.__nome = \"Petrobras\"\n",
    "\n",
    "    print(weg.nome)\n",
    "    print(weg.ticker)\n",
    "\n",
    "\n",
    "\n",
    "\n",
    "\n",
    "#exercicio 115: Crie um Getter e Setter que trate o atributo \"nome\" e configure sempre para o formato Title.\n",
    "\n"
   ]
  },
  {
   "cell_type": "markdown",
   "metadata": {},
   "source": [
    "# Mundo 7"
   ]
  },
  {
   "cell_type": "code",
   "execution_count": 24,
   "metadata": {},
   "outputs": [
    {
     "name": "stdout",
     "output_type": "stream",
     "text": [
      "et bilu\n",
      "http://dados.cvm.gov.br/dados/CIA_ABERTA/DOC/ITR/DADOS/\n"
     ]
    },
    {
     "data": {
      "text/plain": [
       "'\\nPróximas aulas:\\n\\nAssociação, Agregação, Composição e Herança\\n\\n'"
      ]
     },
     "execution_count": 24,
     "metadata": {},
     "output_type": "execute_result"
    }
   ],
   "source": [
    "\n",
    "'''\n",
    "Atributo e métodos privados/públicos\n",
    "\n",
    "Variáveis públicas - Nada\n",
    "Variáveis protegidas - \"_\" isso aqui pra muita gente deveria ser suficiente. (ele é publico com um _)\n",
    "Variáveis privadas - \"__\" isso aqui não deixa você fazer merda de jeito nenhum\n",
    "\n",
    "Serve pra método também.\n",
    "\n",
    "'''\n",
    "\n",
    "import wget\n",
    "\n",
    "class Cvm:\n",
    "\n",
    "    def __init__(self):\n",
    "\n",
    "        self.site = \"http://dados.cvm.gov.br/dados/CIA_ABERTA/DOC/ITR/DADOS/\"\n",
    "\n",
    "        self._site = \"http://dados.cvm.gov.br/dados/CIA_ABERTA/DOC/ITR/DADOS/\"\n",
    "\n",
    "        self.__site = \"http://dados.cvm.gov.br/dados/CIA_ABERTA/DOC/ITR/DADOS/\"\n",
    "\n",
    "\n",
    "    def pegando_itr(self, ano_arquivo):\n",
    "\n",
    "        #url = self._site + f\"itr_cia_aberta_{ano_arquivo}.zip\"\n",
    "\n",
    "        url = self.__site + f\"itr_cia_aberta_{ano_arquivo}.zip\" \n",
    "\n",
    "        wget.download(url)\n",
    "\n",
    "\n",
    "\n",
    "baixando_dados = Cvm()\n",
    "\n",
    "#baixando_dados.site = \"et bilu\"\n",
    "\n",
    "#baixando_dados._site = \"et bilu\"\n",
    "\n",
    "baixando_dados.__site = \"et bilu\"\n",
    "\n",
    "print(baixando_dados.__site)\n",
    "\n",
    "print(baixando_dados._Cvm__site) #ele vai renomear a variável internamente e pra acessar ela, só assim agora. \n",
    "\n",
    "baixando_dados.pegando_itr(2022)\n",
    "\n",
    "\n",
    "'''\n",
    "Próximas aulas:\n",
    "\n",
    "Associação, Agregação, Composição e Herança\n",
    "\n",
    "'''\n",
    "\n",
    "\n",
    "\n",
    "\n",
    "\n",
    "\n",
    "\n",
    "\n",
    "\n",
    "\n"
   ]
  },
  {
   "cell_type": "markdown",
   "metadata": {},
   "source": [
    "# Mundo 8"
   ]
  },
  {
   "cell_type": "code",
   "execution_count": 26,
   "metadata": {},
   "outputs": [
    {
     "name": "stdout",
     "output_type": "stream",
     "text": [
      "83.33\n"
     ]
    }
   ],
   "source": [
    "\n",
    "\n",
    "'''\n",
    "Associação - Uma classe usa a outra, mas existem sozinhas\n",
    "\n",
    "Classe dados x banco de dados.\n",
    "\n",
    "'''\n",
    "\n",
    "class Banco_de_dados:\n",
    "    def __init__(self, senha, user):\n",
    "        self.senha = senha\n",
    "        self.user = user \n",
    "        \n",
    "    def iniciar_conexao(self):\n",
    "        self.conexao = self.user + self.senha \n",
    "        \n",
    "        print('Conexão iniciada com sucesso')\n",
    "\n",
    "class Cotacoes_empresas:\n",
    "    \n",
    "    def __init__(self):\n",
    "        self.cotacoes = [20, 20.03, 21, 22.30]\n",
    "        self.bd = Banco_de_dados(user = \"edufinance\", senha = \"codigo.py\")\n",
    "        \n",
    "    def soma_cotacoes(self):\n",
    "        return print(sum(self.cotacoes))\n",
    "    \n",
    "    def colocar_cotacoes_na_base_de_dados(self):\n",
    "        self.bd.iniciar_conexao()\n",
    "        colocar_dados = (self.bd.conexao, self.cotacoes)\n",
    "        print(\" Dados na base! \")\n",
    "        \n",
    "teste_cotacoes = Cotacoes_empresas()\n",
    "teste_cotacoes.soma_cotacoes()\n",
    "        \n",
    "    \n",
    "    \n",
    "    \n",
    "    \n",
    "    \n",
    "    "
   ]
  },
  {
   "cell_type": "markdown",
   "metadata": {},
   "source": [
    "# Mundo 9"
   ]
  },
  {
   "cell_type": "code",
   "execution_count": 27,
   "metadata": {},
   "outputs": [
    {
     "name": "stdout",
     "output_type": "stream",
     "text": [
      "WEGE3 Weg\n",
      "PETR4 Petrobras\n"
     ]
    }
   ],
   "source": [
    "'''\n",
    "Agregação -> A classe usa outra classe mas ela precisa da outra pra existir. \n",
    "Elas existem sozinhas mas precisam funcionar juntas.\n",
    "Ações + Carteira de investimento\n",
    "'''\n",
    "\n",
    "\n",
    "class Carteira_Investimentos:\n",
    "    def __init__(self, nome_pessoa):\n",
    "        self.proprietario = nome_pessoa\n",
    "        self.carteira = []\n",
    "        \n",
    "    def inserir_acao(self, acao):\n",
    "        self.carteira.append(acao)\n",
    "        \n",
    "    def listar_acao(self):\n",
    "        \n",
    "        for acao in self.carteira:\n",
    "            print(acao.ticker, acao.nome_empresa)\n",
    "\n",
    "\n",
    "class Acoes:\n",
    "    \n",
    "    def __init__(self, ticker, nome_empresa):\n",
    "        self.ticker = ticker\n",
    "        self.nome_empresa = nome_empresa \n",
    "        \n",
    "        \n",
    "carteira_luiz = Carteira_Investimentos(\"Luiz\")\n",
    "\n",
    "weg = Acoes(\"WEGE3\", \"Weg\")\n",
    "petro = Acoes(\"PETR4\", \"Petrobras\")\n",
    "\n",
    "carteira_luiz.inserir_acao(weg)\n",
    "carteira_luiz.inserir_acao(petro)\n",
    "        \n",
    "        \n",
    "carteira_luiz.listar_acao()\n",
    "                \n",
    "        \n",
    "        "
   ]
  },
  {
   "cell_type": "markdown",
   "metadata": {},
   "source": [
    "# Mundo 10"
   ]
  },
  {
   "cell_type": "code",
   "execution_count": 33,
   "metadata": {},
   "outputs": [
    {
     "name": "stdout",
     "output_type": "stream",
     "text": [
      "Weg foi apagado\n",
      "Sobradinho foi apagado\n",
      "Jaraguá do Sul foi apagado\n",
      "País:Brasil, Estado:SC, Cidade: Jaraguá do Sul\n",
      "País:Brasil, Estado:DF, Cidade: Sobradinho\n",
      "----------------------------------------\n"
     ]
    }
   ],
   "source": [
    "'''\n",
    "\n",
    "Composição -> uma classe é dona de outra classe. Uma só existe se a outra existir. \n",
    "Se a classe principal for apagada, tudo é apagado. \n",
    "\n",
    "'''\n",
    "\n",
    "    \n",
    "class Empresa:\n",
    "    \n",
    "    def __init__(self, nome_empresa, ticker):\n",
    "        self.nome= nome_empresa \n",
    "        self.ticker = ticker \n",
    "        self.enderecos = [] \n",
    "        \n",
    "        \n",
    "    def _adicionar_endereco(self, endereco: Endereco):\n",
    "        self.enderecos.append(endereco)\n",
    "    def adicionar_endereco(self, estado, cidade, pais):\n",
    "        endereco = Endereco(estado=estado, cidade=cidade, pais=pais)\n",
    "        self._adicionar_endereco(endereco)\n",
    "    def lista_enderecos(self):\n",
    "        for endereco in self.enderecos:\n",
    "            endereco.__str__()\n",
    "    def __del__(self):\n",
    "        print(f\"{self.nome} foi apagado\")\n",
    "        \n",
    "\n",
    "class Endereco:\n",
    "    def __init__(self, estado:str=\"\", cidade:str=\"\", pais:str=\"\"):\n",
    "        self.estado = estado \n",
    "        self.cidade = cidade \n",
    "        self.pais = pais\n",
    "        \n",
    "    def __str__(self):\n",
    "        return print(f\"País:{self.pais}, Estado:{self.estado}, Cidade: {self.cidade}\") \n",
    "    \n",
    "    def __del__(self):\n",
    "        print(f\"{self.cidade} foi apagado\")\n",
    "        \n",
    "weg = Empresa(\"Weg\", \"WEGE3\")\n",
    "\n",
    "weg.adicionar_endereco(estado='SC', cidade=\"Jaraguá do Sul\", pais=\"Brasil\")\n",
    "weg.adicionar_endereco(estado='DF', cidade=\"Sobradinho\", pais=\"Brasil\")\n",
    "\n",
    "weg.lista_enderecos()\n",
    "\n",
    "print(\"-\"*40)\n",
    "        \n",
    "        \n",
    "        \n",
    "        "
   ]
  },
  {
   "cell_type": "markdown",
   "metadata": {},
   "source": [
    "# Mundo 11"
   ]
  },
  {
   "cell_type": "code",
   "execution_count": 34,
   "metadata": {},
   "outputs": [
    {
     "name": "stdout",
     "output_type": "stream",
     "text": [
      "luiz está fazendo leis\n",
      "luiz está falando sobre futebol\n"
     ]
    }
   ],
   "source": [
    "'''\n",
    "Herança - Um objeto é o outro objeto\n",
    "'''\n",
    "\n",
    "class Pessoa:\n",
    "    def __init__(self, nome:str, cidade: str):\n",
    "        self.nome = nome \n",
    "        self.cidade = cidade \n",
    "        \n",
    "    def falar_sobre_futebol(self):\n",
    "        print(f\"{self.nome} está falando sobre futebol\")\n",
    "        \n",
    "class Investidor(Pessoa):\n",
    "    \n",
    "    def comprar_acoes(self):\n",
    "        print(f\"{self.nome} está comprando ações!\")\n",
    "        \n",
    "class Politico(Pessoa):\n",
    "    \n",
    "    def fazer_leis(self):\n",
    "        print(f\"{self.nome} está fazendo leis\")\n",
    "        \n",
    "        \n",
    "luiz = Politico(nome=\"luiz\", cidade=\"Brasília\")\n",
    "luiz.fazer_leis()\n",
    "\n",
    "luiz.falar_sobre_futebol()\n",
    "        \n",
    "        \n",
    "        \n",
    "        \n",
    "\n",
    "\n",
    "\n",
    "\n",
    "\n"
   ]
  }
 ],
 "metadata": {
  "kernelspec": {
   "display_name": "Python 3",
   "language": "python",
   "name": "python3"
  },
  "language_info": {
   "codemirror_mode": {
    "name": "ipython",
    "version": 3
   },
   "file_extension": ".py",
   "mimetype": "text/x-python",
   "name": "python",
   "nbconvert_exporter": "python",
   "pygments_lexer": "ipython3",
   "version": "3.10.12"
  }
 },
 "nbformat": 4,
 "nbformat_minor": 2
}
