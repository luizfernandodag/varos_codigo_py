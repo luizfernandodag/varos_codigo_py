{
 "cells": [
  {
   "cell_type": "markdown",
   "id": "39feef31",
   "metadata": {
    "id": "39feef31"
   },
   "source": [
    "# Mundo 4"
   ]
  },
  {
   "cell_type": "code",
   "execution_count": 1,
   "id": "552c2e86",
   "metadata": {
    "id": "552c2e86"
   },
   "outputs": [],
   "source": [
    "import numpy as np"
   ]
  },
  {
   "cell_type": "code",
   "execution_count": 4,
   "id": "1e0af066",
   "metadata": {
    "id": "1e0af066"
   },
   "outputs": [
    {
     "name": "stdout",
     "output_type": "stream",
     "text": [
      "[1 2 3 4 5 6 7 8 9]\n",
      "[[1 2 3]\n",
      " [4 5 6]\n",
      " [7 8 9]]\n"
     ]
    }
   ],
   "source": [
    "vetor = np.array([1, 2, 3, 4, 5, 6, 7, 8, 9])\n",
    "\n",
    "vetor2d = np.array([[1, 2, 3], [4, 5, 6], [7, 8, 9]])\n",
    "\n",
    "print(vetor)\n",
    "print(vetor2d)\n"
   ]
  },
  {
   "cell_type": "code",
   "execution_count": 5,
   "id": "ef584be8",
   "metadata": {
    "id": "ef584be8",
    "outputId": "48a87eed-e2f7-49de-9dcc-47c67824d78b"
   },
   "outputs": [
    {
     "name": "stdout",
     "output_type": "stream",
     "text": [
      "1\n",
      "[1 2]\n",
      "9\n",
      "7\n",
      "2\n"
     ]
    }
   ],
   "source": [
    "#posições\n",
    "\n",
    "print(vetor[0])\n",
    "\n",
    "print(vetor[0:2])\n",
    "\n",
    "print(vetor[-1])\n",
    "\n",
    "print(vetor2d[2][0])\n",
    "print(vetor2d[0][1])"
   ]
  },
  {
   "cell_type": "code",
   "execution_count": 6,
   "id": "2b2b478b",
   "metadata": {
    "id": "2b2b478b",
    "outputId": "83de4dfc-2033-46f3-c058-b89cb14d7e51"
   },
   "outputs": [
    {
     "name": "stdout",
     "output_type": "stream",
     "text": [
      "[6 7 8 9]\n",
      "[2 4 6 8]\n",
      "[5]\n",
      "[6 7]\n"
     ]
    }
   ],
   "source": [
    "#filtrando dados\n",
    "\n",
    "vetor = np.array([1, 2, 3, 4, 5, 6, 7, 8, 9])\n",
    "\n",
    "maior_que_5 = vetor[vetor > 5]\n",
    "\n",
    "somente_par = vetor[vetor % 2 == 0]\n",
    "\n",
    "igual_a_5 = vetor[vetor == 5]\n",
    "\n",
    "maior_que_3_menor_que_8 = vetor[ (vetor > 5) & (vetor < 8)] \n",
    "\n",
    "print(maior_que_5)\n",
    "print(somente_par)\n",
    "print(igual_a_5)\n",
    "print(maior_que_3_menor_que_8)"
   ]
  },
  {
   "cell_type": "markdown",
   "id": "c80bcd11",
   "metadata": {
    "id": "c80bcd11"
   },
   "source": [
    "# Exercício\n",
    "\n",
    "* Exercício 33: Faça um programa que gere um vetor de retornos positivos ou negativos entre -1 e 1 na quantidade de dias que o usuário escolher. Devolva um vetor dos retornos positivos, o primeiro e o último retorno."
   ]
  },
  {
   "cell_type": "code",
   "execution_count": null,
   "id": "3e7efb97",
   "metadata": {
    "id": "3e7efb97",
    "outputId": "ec2cca0a-5b53-4dc4-fa62-f15084be6526"
   },
   "outputs": [
    {
     "name": "stdout",
     "output_type": "stream",
     "text": [
      "Digite quantos retornos devem ser gerados: 5\n",
      "Os retornos positivos são [0.60856617 0.06255511 0.92303492 0.86236994] \n",
      "        O primeiro retorno é 0.6085661682050787 e o último é 0.8623699352162697\n"
     ]
    }
   ],
   "source": [
    "dias = int(input(\"Digite quantos retornos devem ser gerados: \"))\n",
    "\n",
    "retorno_aleatorio = np.random.uniform(-1, 1, dias)\n",
    "\n",
    "retornos_positivos = retorno_aleatorio[retorno_aleatorio > 0]\n",
    "\n",
    "print(f'''Os retornos positivos são {retornos_positivos} \n",
    "        O primeiro retorno é {retornos_positivos[0]} e o último é {retornos_positivos[-1]}''')"
   ]
  },
  {
   "cell_type": "markdown",
   "id": "43b95d5b",
   "metadata": {
    "id": "43b95d5b"
   },
   "source": [
    "# Mundo 5\n",
    "\n",
    "Essas últimas duas aulas foram rápidas e bem simples. Nos mundos 5 e 6 nós vamos mais a fundo no numpy, descobrindo como podemos fazer conta, extrair\n",
    "estatísticas, juntar arrays, rankear arrays, adicionar e excluir dados e muito mais. No mundo 5 descobrir como manipular esses arrays da melhor forma!"
   ]
  },
  {
   "cell_type": "code",
   "execution_count": null,
   "id": "62892236",
   "metadata": {
    "id": "62892236"
   },
   "outputs": [],
   "source": []
  },
  {
   "cell_type": "code",
   "execution_count": null,
   "id": "7ce1e783",
   "metadata": {
    "id": "7ce1e783"
   },
   "outputs": [],
   "source": []
  }
 ],
 "metadata": {
  "colab": {
   "name": "Mundo 4.ipynb",
   "provenance": []
  },
  "kernelspec": {
   "display_name": "Python 3",
   "language": "python",
   "name": "python3"
  },
  "language_info": {
   "codemirror_mode": {
    "name": "ipython",
    "version": 3
   },
   "file_extension": ".py",
   "mimetype": "text/x-python",
   "name": "python",
   "nbconvert_exporter": "python",
   "pygments_lexer": "ipython3",
   "version": "3.10.12"
  }
 },
 "nbformat": 4,
 "nbformat_minor": 5
}
