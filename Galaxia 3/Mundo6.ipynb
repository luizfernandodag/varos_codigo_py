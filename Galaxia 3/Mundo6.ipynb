{
 "cells": [
  {
   "cell_type": "markdown",
   "id": "da342286",
   "metadata": {
    "id": "da342286"
   },
   "source": [
    "# Mundo 6"
   ]
  },
  {
   "cell_type": "code",
   "execution_count": 2,
   "id": "11a6d5a3",
   "metadata": {
    "id": "11a6d5a3"
   },
   "outputs": [],
   "source": [
    "import numpy as np"
   ]
  },
  {
   "cell_type": "code",
   "execution_count": 5,
   "id": "fde599ae",
   "metadata": {
    "id": "fde599ae"
   },
   "outputs": [
    {
     "name": "stdout",
     "output_type": "stream",
     "text": [
      "[5 3 7 3]\n",
      "[1, 1, 1, 1, 4, 2, 6, 2]\n"
     ]
    }
   ],
   "source": [
    "#todas as operações funcionam com os vetores.\n",
    "\n",
    "array1 = np.array([1, 1, 1, 1])\n",
    "array2 = np.array([4, 2, 6, 2])\n",
    "array3 = np.array([2, 2])\n",
    "\n",
    "lista_normal = [1, 1, 1, 1]\n",
    "lista_normal2 = [4, 2, 6, 2]\n",
    "\n",
    "print(array1 + array2)\n",
    "print(lista_normal + lista_normal2)"
   ]
  },
  {
   "cell_type": "code",
   "execution_count": 4,
   "id": "8195b273",
   "metadata": {
    "id": "8195b273"
   },
   "outputs": [
    {
     "ename": "ValueError",
     "evalue": "operands could not be broadcast together with shapes (4,) (2,) ",
     "output_type": "error",
     "traceback": [
      "\u001b[0;31m---------------------------------------------------------------------------\u001b[0m",
      "\u001b[0;31mValueError\u001b[0m                                Traceback (most recent call last)",
      "Cell \u001b[0;32mIn[4], line 1\u001b[0m\n\u001b[0;32m----> 1\u001b[0m \u001b[38;5;28mprint\u001b[39m(\u001b[43marray1\u001b[49m\u001b[43m \u001b[49m\u001b[38;5;241;43m+\u001b[39;49m\u001b[43m \u001b[49m\u001b[43marray3\u001b[49m)\n",
      "\u001b[0;31mValueError\u001b[0m: operands could not be broadcast together with shapes (4,) (2,) "
     ]
    }
   ],
   "source": [
    "print(array1 + array3)"
   ]
  },
  {
   "cell_type": "code",
   "execution_count": 6,
   "id": "f1dd9131",
   "metadata": {
    "id": "f1dd9131",
    "outputId": "21d75d92-955b-4a6c-bba0-8f8e54670d27"
   },
   "outputs": [
    {
     "name": "stdout",
     "output_type": "stream",
     "text": [
      "[21 21 21 21]\n"
     ]
    }
   ],
   "source": [
    "#E se eu quiser somar um número só?\n",
    "\n",
    "soma_a_todos_os_elementos = np.array([1, 1, 1, 1]) + 20\n",
    "\n",
    "print(soma_a_todos_os_elementos)"
   ]
  },
  {
   "cell_type": "code",
   "execution_count": 7,
   "id": "1bc394e6",
   "metadata": {
    "id": "1bc394e6",
    "outputId": "e1f35bc7-6122-4148-bb58-535e17ac07a0"
   },
   "outputs": [
    {
     "name": "stdout",
     "output_type": "stream",
     "text": [
      "[-3 -1 -5 -1]\n",
      "[0.25       0.5        0.16666667 0.5       ]\n",
      "[4 2 6 2]\n",
      "[1 1 1 1]\n"
     ]
    }
   ],
   "source": [
    "#todas as operações funcionam normal\n",
    "array1 = np.array([1, 1, 1, 1])\n",
    "array2 = np.array([4, 2, 6, 2])\n",
    "\n",
    "subtracao = array1 - array2\n",
    "divisao = array1/array2\n",
    "multiplicacao = array1 * array2\n",
    "exponenciacao = array1 ** array2\n",
    "\n",
    "print(subtracao)\n",
    "print(divisao)\n",
    "print(multiplicacao)\n",
    "print(exponenciacao)"
   ]
  },
  {
   "cell_type": "code",
   "execution_count": 8,
   "id": "6e7656a1",
   "metadata": {
    "id": "6e7656a1",
    "outputId": "e676162f-d75e-40c0-cbca-d304617a1e67"
   },
   "outputs": [
    {
     "name": "stdout",
     "output_type": "stream",
     "text": [
      "[ 1  4 -4 -1  2]\n",
      "2\n",
      "4\n",
      "-4\n",
      "[1 4 4 1 2]\n"
     ]
    }
   ],
   "source": [
    "#Operações dentro do próprio vetor\n",
    "\n",
    "vetor = np.array([1, 4, -4, -1, 2])\n",
    "\n",
    "print(vetor)\n",
    "print(vetor.sum())\n",
    "print(vetor.max())\n",
    "print(vetor.min())\n",
    "print(np.abs(vetor))"
   ]
  },
  {
   "cell_type": "code",
   "execution_count": 9,
   "id": "0e3c70c1",
   "metadata": {
    "id": "0e3c70c1",
    "outputId": "594d7b96-a644-4704-e7bf-17f365c8ad13"
   },
   "outputs": [
    {
     "name": "stdout",
     "output_type": "stream",
     "text": [
      "401.0\n",
      "1.0\n",
      "799.56938410622\n",
      "639311.2\n"
     ]
    }
   ],
   "source": [
    "#Estatisticas descritivas\n",
    "\n",
    "vetor = np.array([1, 20, -4, -12, 2000])\n",
    "\n",
    "media = np.mean(vetor)\n",
    "mediana = np.median(vetor)\n",
    "desvio_p = np.std(vetor)\n",
    "var = np.var(vetor)\n",
    "\n",
    "print(media) #media\n",
    "print(mediana) #mediana\n",
    "print(desvio_p) #desvio padrao\n",
    "print(var) #variancia"
   ]
  },
  {
   "cell_type": "code",
   "execution_count": 10,
   "id": "ab4f64a0",
   "metadata": {
    "id": "ab4f64a0",
    "outputId": "54a2b316-9e9b-43fd-9634-c0997d2fe368"
   },
   "outputs": [
    {
     "data": {
      "text/plain": [
       "array([[ 1.        ,  0.25471058, -0.13247913],\n",
       "       [ 0.25471058,  1.        ,  0.76783876],\n",
       "       [-0.13247913,  0.76783876,  1.        ]])"
      ]
     },
     "execution_count": 10,
     "metadata": {},
     "output_type": "execute_result"
    }
   ],
   "source": [
    "#matriz de correlação \n",
    "vetor = np.array([1, 20, -4, -12, 2000])\n",
    "\n",
    "vetor2 = np.array([5, 4, 3, -5, 4])\n",
    "vetor3 = np.array([2, 6, 7, -5, 1])\n",
    "\n",
    "correlacao = np.corrcoef((vetor, vetor2, vetor3))\n",
    "\n",
    "correlacao"
   ]
  },
  {
   "cell_type": "markdown",
   "id": "c4cfcc82",
   "metadata": {
    "id": "c4cfcc82"
   },
   "source": [
    "# Exercício\n",
    "\n",
    "* Exercício 35: Faça um programa que o usuário digite a rentabilidade de ações, com quantas ações o usuário quiser. Transforme essas listas em arrays e devolva pro usuário:\n",
    "\n",
    "        A média de rentabilidade da carteira.\n",
    "        O Desvio padrão da carteira.\n",
    "        A mediana de retornos da carteira.\n",
    "        O maior retorno.\n",
    "        O menor retorno."
   ]
  },
  {
   "cell_type": "code",
   "execution_count": null,
   "id": "b8a55d89",
   "metadata": {
    "id": "b8a55d89",
    "outputId": "309da061-2da2-4beb-cace-e7a06757deb0"
   },
   "outputs": [
    {
     "name": "stdout",
     "output_type": "stream",
     "text": [
      "Digite uma rentabilidade: 0.2\n",
      "Deseja cadastrar mais rentabilidades? [S/N]vosvisivj\n",
      "Por favor, digite um comando válido: [S/N]s\n",
      "Digite uma rentabilidade: 0.3\n",
      "Deseja cadastrar mais rentabilidades? [S/N]s\n",
      "Digite uma rentabilidade: 0.65\n",
      "Deseja cadastrar mais rentabilidades? [S/N]n\n",
      "\n",
      "Aqui estão as estatísticas das rentabilidades:\n",
      "Média: 38%\n",
      "Mediana: 30%\n",
      "Desvio padrão: 19%\n",
      "Rentabilidade máxima: 65%\n",
      "Rentabilidade mínima: 20%\n"
     ]
    }
   ],
   "source": [
    "continuar = True\n",
    "\n",
    "array_rentabilidade = np.array([])\n",
    "\n",
    "while continuar:\n",
    "\n",
    "    rent = float(input(\"Digite uma rentabilidade: \"))\n",
    "\n",
    "    array_rentabilidade = np.append(array_rentabilidade, rent)\n",
    "\n",
    "    deseja_continuar = str(input(\"Deseja cadastrar mais rentabilidades? [S/N]\")).lower()\n",
    "\n",
    "    if deseja_continuar != \"n\" and deseja_continuar != \"s\":\n",
    "\n",
    "        invalido = True\n",
    "\n",
    "        while invalido:\n",
    "\n",
    "            deseja_continuar = str(input(\"Por favor, digite um comando válido: [S/N]\")).lower()\n",
    "\n",
    "            if deseja_continuar == \"n\" or deseja_continuar == \"s\":\n",
    "\n",
    "                break\n",
    "\n",
    "    if deseja_continuar == \"n\":\n",
    "\n",
    "        break\n",
    "\n",
    "media = np.mean(array_rentabilidade)\n",
    "mediana = np.median(array_rentabilidade)\n",
    "desvio_padrao = np.std(array_rentabilidade)\n",
    "rent_max = array_rentabilidade.max()\n",
    "rent_min = array_rentabilidade.min()\n",
    "\n",
    "media = \"{:.0%}\".format(media)\n",
    "mediana = \"{:.0%}\".format(mediana)\n",
    "desvio_padrao = \"{:.0%}\".format(desvio_padrao)\n",
    "rent_max = \"{:.0%}\".format(rent_max)\n",
    "rent_min = \"{:.0%}\".format(rent_min)\n",
    "\n",
    "print(\"\")\n",
    "print(\"Aqui estão as estatísticas das rentabilidades:\")\n",
    "print(f\"Média: {media}\")\n",
    "print(f\"Mediana: {mediana}\")\n",
    "print(f\"Desvio padrão: {desvio_padrao}\")\n",
    "print(f\"Rentabilidade máxima: {rent_max}\")\n",
    "print(f\"Rentabilidade mínima: {rent_min}\")"
   ]
  },
  {
   "cell_type": "markdown",
   "id": "f49d2a38",
   "metadata": {
    "id": "f49d2a38"
   },
   "source": [
    "# Galáxia 4\n",
    "\n",
    "Fim do módulo do Numpy! Na galáxia 4 nós iremos abordar o módulo Pandas, a principal biblioteca de análise de dados que existe.\n",
    "Vamos aprender a puxar cotações, criar médias móveis, tratar dados, ler planilhas de excel e muito mais. Te vejo lá!"
   ]
  },
  {
   "cell_type": "code",
   "execution_count": null,
   "id": "24fa54f2",
   "metadata": {
    "id": "24fa54f2"
   },
   "outputs": [],
   "source": []
  }
 ],
 "metadata": {
  "colab": {
   "name": "Mundo 6.ipynb",
   "provenance": []
  },
  "kernelspec": {
   "display_name": "Python 3",
   "language": "python",
   "name": "python3"
  },
  "language_info": {
   "codemirror_mode": {
    "name": "ipython",
    "version": 3
   },
   "file_extension": ".py",
   "mimetype": "text/x-python",
   "name": "python",
   "nbconvert_exporter": "python",
   "pygments_lexer": "ipython3",
   "version": "3.10.12"
  }
 },
 "nbformat": 4,
 "nbformat_minor": 5
}
