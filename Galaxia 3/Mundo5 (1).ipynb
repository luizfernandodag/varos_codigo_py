{
 "cells": [
  {
   "cell_type": "markdown",
   "id": "73330d43",
   "metadata": {
    "id": "73330d43"
   },
   "source": [
    "# Mundo 5"
   ]
  },
  {
   "cell_type": "code",
   "execution_count": 2,
   "id": "bf1868c3",
   "metadata": {
    "id": "bf1868c3"
   },
   "outputs": [],
   "source": [
    "import numpy as np"
   ]
  },
  {
   "cell_type": "code",
   "execution_count": 5,
   "id": "7003cb95",
   "metadata": {
    "id": "7003cb95",
    "outputId": "2ebfb112-705f-4577-f982-30acc4a63735"
   },
   "outputs": [
    {
     "name": "stdout",
     "output_type": "stream",
     "text": [
      "[20 21 22 23 24  0  1  2  3  4  5  6  7  8  9 10 11 12 13 14]\n"
     ]
    }
   ],
   "source": [
    "#juntar dois arrays\n",
    "\n",
    "array1 = np.arange(20, 25)\n",
    "array2 = np.arange(15)\n",
    "\n",
    "array_completo = np.concatenate([array1, array2])\n",
    "\n",
    "print(array_completo)"
   ]
  },
  {
   "cell_type": "code",
   "execution_count": 8,
   "id": "a565da0d",
   "metadata": {
    "id": "a565da0d",
    "outputId": "d7583ebb-a66a-42bb-f5a1-56bcd0a403b5"
   },
   "outputs": [
    {
     "name": "stdout",
     "output_type": "stream",
     "text": [
      "[20 21 22 23 24  0  1  2  3  4]\n",
      "[ 5  6  7  8  9 10 11 12 13 14]\n"
     ]
    }
   ],
   "source": [
    "#separando em dois arrays\n",
    "\n",
    "array_separado1, array_separado2 = np.split(array_completo, [10])\n",
    "\n",
    "print(array_separado1)\n",
    "print(array_separado2)"
   ]
  },
  {
   "cell_type": "code",
   "execution_count": 9,
   "id": "c7f15b2e",
   "metadata": {
    "id": "c7f15b2e",
    "outputId": "60ffe886-8f09-497f-f3e4-d3c68ee191b5"
   },
   "outputs": [
    {
     "name": "stdout",
     "output_type": "stream",
     "text": [
      "[  20   21   22 3000   23   24    0    1    2    3    4    5    6    7\n",
      "    8    9   10   11   12   13   14 2000]\n"
     ]
    }
   ],
   "source": [
    "#colocar novos dados em um array\n",
    "\n",
    "#[20 21 22 23 24  0  1  2  3  4  5  6  7  8  9 10 11 12 13 14]\n",
    "\n",
    "array_completo = np.append(array_completo, 2000)\n",
    "\n",
    "array_completo = np.insert(array_completo, 3,  3000)\n",
    "\n",
    "print(array_completo)"
   ]
  },
  {
   "cell_type": "code",
   "execution_count": 10,
   "id": "2a554660",
   "metadata": {
    "id": "2a554660",
    "outputId": "0cb7053e-9901-41fa-ef7f-2a81b56ec160"
   },
   "outputs": [
    {
     "name": "stdout",
     "output_type": "stream",
     "text": [
      "[  20   21   22 3000   23   24    0    1    2    3    4    5    6    7\n",
      "    8    9   10   11   12   13   14]\n"
     ]
    }
   ],
   "source": [
    "#deletar dados de um array\n",
    "\n",
    "array_completo = np.delete(array_completo, -1)\n",
    "\n",
    "print(array_completo)"
   ]
  },
  {
   "cell_type": "code",
   "execution_count": 11,
   "id": "cb446d93",
   "metadata": {
    "id": "cb446d93",
    "outputId": "59bec4b9-0834-41f6-c223-205d0d54c8be"
   },
   "outputs": [
    {
     "name": "stdout",
     "output_type": "stream",
     "text": [
      "[[0 1 2]\n",
      " [3 4 5]\n",
      " [6 7 8]]\n"
     ]
    }
   ],
   "source": [
    "#reshape\n",
    "\n",
    "array_3x3 = np.arange(9).reshape(3, 3) #isso aqui é util na hora de fazer regressão linear\n",
    "\n",
    "print(array_3x3)"
   ]
  },
  {
   "cell_type": "code",
   "execution_count": 12,
   "id": "319dfc21",
   "metadata": {
    "id": "319dfc21",
    "outputId": "c88ed935-c2a3-4ff1-c4d8-411829bfeed9"
   },
   "outputs": [
    {
     "name": "stdout",
     "output_type": "stream",
     "text": [
      "[  0   0   0   0   0   0   0   0   0   0   0 675  74 465]\n"
     ]
    }
   ],
   "source": [
    "#trocando números dentro de uma condição\n",
    "\n",
    "array_inicial = np.array([4, 4, 4, 4, 7, 6, 5, 32, 13, 2, 32, 675, 74, 465])\n",
    "\n",
    "#como trocar todos os numero menores que 40 por 0?\n",
    "\n",
    "array_inicial[array_inicial < 40] = 0\n",
    "\n",
    "print(array_inicial)"
   ]
  },
  {
   "cell_type": "code",
   "execution_count": 15,
   "id": "31ea6479",
   "metadata": {
    "id": "31ea6479",
    "outputId": "f144e4d6-21f2-4130-fa05-f18996bf9199"
   },
   "outputs": [
    {
     "name": "stdout",
     "output_type": "stream",
     "text": [
      "[    3     5    20   349  2349 12490 23109] [23109 12490  2349   349    20     5     3]\n"
     ]
    }
   ],
   "source": [
    "#como ordernar objetos dentro de uma lista?\n",
    "\n",
    "array_desordenado = np.array([23109, 2349, 349, 20, 3, 5, 12490])\n",
    "\n",
    "array_crescente = np.sort(array_desordenado)\n",
    "array_decrescente = -np.sort(-array_desordenado)\n",
    "\n",
    "print(array_crescente, array_decrescente)"
   ]
  },
  {
   "cell_type": "markdown",
   "id": "d99c5868",
   "metadata": {
    "id": "d99c5868"
   },
   "source": [
    "# Exercício\n",
    "\n",
    "* Exercício 34: Peça ao usuário digitar o lucro da Petrobras, Vale e Weg. Mostre os lucros em ordem do maior pro menor. (Utilize arrays e ferramentas como append, np.sort, etc)"
   ]
  },
  {
   "cell_type": "code",
   "execution_count": null,
   "id": "fb5b2fc4",
   "metadata": {
    "id": "fb5b2fc4",
    "outputId": "fdf648c3-1689-462f-e510-e58fc396b0b1"
   },
   "outputs": [
    {
     "name": "stdout",
     "output_type": "stream",
     "text": [
      "Digite o lucro da Weg: 20\n",
      "Digite o lucro da Vale: 50\n",
      "Digite o lucro da Petrobras: 80\n",
      "Lucro das empresas, do maior pro menor: [80. 50. 20.]\n"
     ]
    }
   ],
   "source": [
    "empresas = np.array([\"Weg\", \"Vale\", \"Petrobras\"])\n",
    "\n",
    "array_lucros = np.array([])\n",
    "\n",
    "for empresa in empresas:\n",
    "    \n",
    "    lucro = float(input(f\"Digite o lucro da {empresa}: \"))\n",
    "    array_lucros = np.append(array_lucros, lucro)\n",
    "\n",
    "array_lucros = -np.sort(-array_lucros)\n",
    "\n",
    "print(f'Lucro das empresas, do maior pro menor: {array_lucros}')"
   ]
  },
  {
   "cell_type": "markdown",
   "id": "03e591de",
   "metadata": {
    "id": "03e591de"
   },
   "source": [
    "# Mundo 6\n",
    "\n",
    "Bom, agora que você já aprendeu a manipular arrays, como a gente pode fazer operações com arrays, que é o mais importante no numpy?\n",
    "Como calcula média, desvio padrão? No mundo 6 a gente vai descobrir! "
   ]
  },
  {
   "cell_type": "code",
   "execution_count": null,
   "id": "4966fde4",
   "metadata": {
    "id": "4966fde4"
   },
   "outputs": [],
   "source": []
  }
 ],
 "metadata": {
  "colab": {
   "name": "Mundo 5.ipynb",
   "provenance": []
  },
  "kernelspec": {
   "display_name": "Python 3",
   "language": "python",
   "name": "python3"
  },
  "language_info": {
   "codemirror_mode": {
    "name": "ipython",
    "version": 3
   },
   "file_extension": ".py",
   "mimetype": "text/x-python",
   "name": "python",
   "nbconvert_exporter": "python",
   "pygments_lexer": "ipython3",
   "version": "3.10.12"
  }
 },
 "nbformat": 4,
 "nbformat_minor": 5
}
