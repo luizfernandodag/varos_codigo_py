{
 "cells": [
  {
   "cell_type": "markdown",
   "metadata": {},
   "source": []
  },
  {
   "cell_type": "markdown",
   "metadata": {},
   "source": []
  },
  {
   "cell_type": "markdown",
   "metadata": {},
   "source": [
    "# GALAXIA 3"
   ]
  },
  {
   "cell_type": "markdown",
   "metadata": {},
   "source": [
    "* Exercício 30: Peça pro usuário inputar a cotação de 3 ações. Crie um array de cotações.\n"
   ]
  },
  {
   "cell_type": "code",
   "execution_count": 4,
   "metadata": {},
   "outputs": [
    {
     "name": "stdout",
     "output_type": "stream",
     "text": [
      "[1. 1. 1.]\n"
     ]
    }
   ],
   "source": [
    "import numpy as np\n",
    "acoes = []\n",
    "\n",
    "for i in range(1,4):\n",
    "    acoes.append(float(input(f\"cotação {i}\")))\n",
    "\n",
    "acoes = np.array(acoes)\n",
    "print(acoes)\n",
    "vetor_aleatorio_inteiro = np.random.randint(low = 0, high = 10, size = 3)"
   ]
  },
  {
   "cell_type": "markdown",
   "metadata": {},
   "source": [
    "* Exercício 31: Peça pro usuário digitar dois números no programa e crie um arrange sequencial entre esse números.\n"
   ]
  },
  {
   "cell_type": "code",
   "execution_count": 6,
   "metadata": {},
   "outputs": [
    {
     "name": "stdout",
     "output_type": "stream",
     "text": [
      "[ 1  2  3  4  5  6  7  8  9 10 11]\n"
     ]
    }
   ],
   "source": [
    "begin = int(input(\"Digite o inicio da lista\"))\n",
    "end = int(input(\"Digite o fim da lista\"))\n",
    "\n",
    "vetor = np.arange(begin, end+1)\n",
    "print(vetor)\n"
   ]
  },
  {
   "cell_type": "markdown",
   "metadata": {},
   "source": [
    "* Exercício 32: Crie um programa que gere numeros aleatórios inteiros entre 0 e 60 e devolva 6 números da mega sena pro usuário. Depois, exiba uma probabilidade aleatória de o usuário sair vencedor. Garanta que sejam 6 números diferentes!"
   ]
  },
  {
   "cell_type": "code",
   "execution_count": 105,
   "metadata": {},
   "outputs": [
    {
     "name": "stdout",
     "output_type": "stream",
     "text": [
      "[47 59  6 33 51 40]\n",
      "Probabilidade de vencer: 93.48\n",
      "Probabilidade de vencer 2: 60.55\n"
     ]
    }
   ],
   "source": [
    "vetor_aleatorio_inteiro = np.random.choice(range(61), size=6, replace=False)\n",
    "print(vetor_aleatorio_inteiro)\n",
    "p = round(np.random.uniform(0,100),2)\n",
    "p2 = np.random.uniform(0,100)\n",
    "print(f\"Probabilidade de vencer: {p}\")\n",
    "print(f\"Probabilidade de vencer 2: {p2:.2f}\")\n",
    "\n"
   ]
  },
  {
   "cell_type": "markdown",
   "metadata": {},
   "source": [
    "# MUNDO 3"
   ]
  },
  {
   "cell_type": "markdown",
   "metadata": {},
   "source": [
    "# DESAFIO"
   ]
  },
  {
   "cell_type": "code",
   "execution_count": null,
   "metadata": {},
   "outputs": [],
   "source": []
  },
  {
   "cell_type": "markdown",
   "metadata": {},
   "source": [
    "# MUNDO 4"
   ]
  },
  {
   "cell_type": "markdown",
   "metadata": {},
   "source": [
    "## EXERCICIO"
   ]
  },
  {
   "cell_type": "markdown",
   "metadata": {},
   "source": [
    "* Exercício 33: Faça um programa que gere um vetor de retornos positivos ou negativos entre -1 e 1 na quantidade de dias que o usuário escolher. Devolva um vetor dos retornos positivos, o primeiro e o último retorno."
   ]
  },
  {
   "cell_type": "code",
   "execution_count": 114,
   "metadata": {},
   "outputs": [
    {
     "name": "stdout",
     "output_type": "stream",
     "text": [
      "primeiro: 0.2884569171392044\n",
      "ultimo: 0.6893272214572412\n",
      "[0.28845692 0.19452778 0.87798864 0.92450713 0.80432929 0.51517767\n",
      " 0.64142427 0.68932722]\n"
     ]
    }
   ],
   "source": [
    "dias = int(input(\"Digite a quantidade de dias:\"))\n",
    "\n",
    "aleatorios = np.random.uniform(-1,1, dias)\n",
    "positivos = aleatorios[aleatorios>0]\n",
    "\n",
    "print(f\"primeiro: {positivos[0]}\")\n",
    "print(f\"ultimo: {positivos[-1]}\")\n",
    "\n",
    "print(positivos)"
   ]
  },
  {
   "cell_type": "code",
   "execution_count": null,
   "metadata": {},
   "outputs": [],
   "source": [
    "dias = int(input(\"Digite quantos retornos devem ser gerados: \"))\n",
    "\n",
    "retorno_aleatorio = np.random.uniform(-1, 1, dias)\n",
    "\n",
    "retornos_positivos = retorno_aleatorio[retorno_aleatorio > 0]\n",
    "\n",
    "print(f'''Os retornos positivos são {retornos_positivos} \n",
    "        O primeiro retorno é {retornos_positivos[0]} e o último é {retornos_positivos[-1]}''')"
   ]
  },
  {
   "cell_type": "markdown",
   "metadata": {},
   "source": [
    "# Mundo 5"
   ]
  },
  {
   "cell_type": "code",
   "execution_count": null,
   "metadata": {},
   "outputs": [],
   "source": [
    "#* Exercício 34: Peça ao usuário digitar o lucro da Petrobras, Vale e Weg. Mostre os lucros em ordem do maior pro menor. (Utilize arrays e ferramentas como append, np.sort, etc)"
   ]
  },
  {
   "cell_type": "code",
   "execution_count": null,
   "metadata": {},
   "outputs": [],
   "source": [
    "empresas = np.array([\"Weg\", \"Vale\", \"Petrobras\"])\n",
    "\n",
    "array_lucros = np.array([])\n",
    "\n",
    "for empresa in empresas:\n",
    "    \n",
    "    lucro = float(input(f\"Digite o lucro da {empresa}: \"))\n",
    "    array_lucros = np.append(array_lucros, lucro)\n",
    "\n",
    "array_lucros = -np.sort(-array_lucros)\n",
    "\n",
    "print(f'Lucro das empresas, do maior pro menor: {array_lucros}')"
   ]
  },
  {
   "cell_type": "code",
   "execution_count": 115,
   "metadata": {},
   "outputs": [
    {
     "name": "stdout",
     "output_type": "stream",
     "text": [
      "Lucro das empresas do maior ao menor: [3. 2. 1.]\n"
     ]
    }
   ],
   "source": [
    "empresas = np.array([\"WEG\", \"VALE\",\"PETROBRAS\"])\n",
    "\n",
    "array_lucros = np.array([])\n",
    "\n",
    "\n",
    "for empresa in empresas:\n",
    "    \n",
    "    lucro = float(input(f\"Digite o lucro da empresa {empresa}\"))\n",
    "    array_lucros = np.append(array_lucros, lucro)\n",
    "    \n",
    "    \n",
    "array_lucros = -np.sort(-array_lucros)\n",
    "\n",
    "\n",
    "print(f\"Lucro das empresas do maior ao menor: {array_lucros}\")\n",
    "    \n",
    "    \n",
    "    \n",
    "    \n",
    "    \n",
    "    \n",
    "    "
   ]
  },
  {
   "cell_type": "code",
   "execution_count": null,
   "metadata": {},
   "outputs": [],
   "source": [
    "petrobras = float(input(\"Lucro petrobras\"))\n",
    "vale = float(input(\"Lucro vale\"))\n",
    "weg = float(input(\"Lucro weg\"))\n",
    "\n",
    "\n"
   ]
  },
  {
   "cell_type": "markdown",
   "metadata": {},
   "source": [
    "# MUNDO 6"
   ]
  },
  {
   "cell_type": "code",
   "execution_count": 116,
   "metadata": {},
   "outputs": [
    {
     "name": "stdout",
     "output_type": "stream",
     "text": [
      "\n",
      "Aqui estão as estatísticas das rentabilidades:\n",
      "Média: 200%\n",
      "Mediana: 200%\n",
      "Desvio padrão: 82%\n",
      "Rentabilidade máxima: 300%\n",
      "Rentabilidade mínima: 100%\n"
     ]
    }
   ],
   "source": [
    "continuar = True\n",
    "\n",
    "array_rentabilidade = np.array([])\n",
    "\n",
    "while(continuar):\n",
    "    \n",
    "    rent = float(input(\"Digite uma rentabilidade:\"))\n",
    "    \n",
    "    array_rentabilidade = np.append(array_rentabilidade, rent)\n",
    "    \n",
    "    deseja_continuar = str(input(\"Deseja cadastrar mais rentabilidades?S/N\")).lower()\n",
    "    \n",
    "    if (deseja_continuar == 'n'):\n",
    "        break\n",
    "\n",
    "media = np.mean(array_rentabilidade)\n",
    "mediana = np.median(array_rentabilidade)\n",
    "desvio = np.std(array_rentabilidade)\n",
    "rent_max = np.max(array_rentabilidade)\n",
    "rent_min = np.min(array_rentabilidade)\n",
    "\n",
    "\n",
    "\n",
    "\n",
    "media = \"{:.0%}\".format(media)\n",
    "mediana = \"{:.0%}\".format(mediana)\n",
    "desvio_padrao = \"{:.0%}\".format(desvio)\n",
    "rent_max = \"{:.0%}\".format(rent_max)\n",
    "rent_min = \"{:.0%}\".format(rent_min)\n",
    "\n",
    "print(\"\")\n",
    "print(\"Aqui estão as estatísticas das rentabilidades:\")\n",
    "print(f\"Média: {media}\")\n",
    "print(f\"Mediana: {mediana}\")\n",
    "print(f\"Desvio padrão: {desvio_padrao}\")\n",
    "print(f\"Rentabilidade máxima: {rent_max}\")\n",
    "print(f\"Rentabilidade mínima: {rent_min}\")\n",
    "\n",
    "\n"
   ]
  },
  {
   "cell_type": "code",
   "execution_count": null,
   "metadata": {},
   "outputs": [],
   "source": [
    "continuar = True\n",
    "\n",
    "array_rentabilidade = np.array([])\n",
    "\n",
    "while continuar:\n",
    "\n",
    "    rent = float(input(\"Digite uma rentabilidade: \"))\n",
    "\n",
    "    array_rentabilidade = np.append(array_rentabilidade, rent)\n",
    "\n",
    "    deseja_continuar = str(input(\"Deseja cadastrar mais rentabilidades? [S/N]\")).lower()\n",
    "\n",
    "    if deseja_continuar != \"n\" and deseja_continuar != \"s\":\n",
    "\n",
    "        invalido = True\n",
    "\n",
    "        while invalido:\n",
    "\n",
    "            deseja_continuar = str(input(\"Por favor, digite um comando válido: [S/N]\")).lower()\n",
    "\n",
    "            if deseja_continuar == \"n\" or deseja_continuar == \"s\":\n",
    "\n",
    "                break\n",
    "\n",
    "    if deseja_continuar == \"n\":\n",
    "\n",
    "        break\n",
    "\n",
    "media = np.mean(array_rentabilidade)\n",
    "mediana = np.median(array_rentabilidade)\n",
    "desvio_padrao = np.std(array_rentabilidade)\n",
    "rent_max = array_rentabilidade.max()\n",
    "rent_min = array_rentabilidade.min()\n",
    "\n",
    "media = \"{:.0%}\".format(media)\n",
    "mediana = \"{:.0%}\".format(mediana)\n",
    "desvio_padrao = \"{:.0%}\".format(desvio_padrao)\n",
    "rent_max = \"{:.0%}\".format(rent_max)\n",
    "rent_min = \"{:.0%}\".format(rent_min)\n",
    "\n",
    "print(\"\")\n",
    "print(\"Aqui estão as estatísticas das rentabilidades:\")\n",
    "print(f\"Média: {media}\")\n",
    "print(f\"Mediana: {mediana}\")\n",
    "print(f\"Desvio padrão: {desvio_padrao}\")\n",
    "print(f\"Rentabilidade máxima: {rent_max}\")\n",
    "print(f\"Rentabilidade mínima: {rent_min}\")"
   ]
  },
  {
   "cell_type": "markdown",
   "metadata": {},
   "source": []
  },
  {
   "cell_type": "code",
   "execution_count": null,
   "metadata": {},
   "outputs": [],
   "source": []
  },
  {
   "cell_type": "code",
   "execution_count": null,
   "metadata": {},
   "outputs": [],
   "source": []
  }
 ],
 "metadata": {
  "kernelspec": {
   "display_name": "Python 3",
   "language": "python",
   "name": "python3"
  },
  "language_info": {
   "codemirror_mode": {
    "name": "ipython",
    "version": 3
   },
   "file_extension": ".py",
   "mimetype": "text/x-python",
   "name": "python",
   "nbconvert_exporter": "python",
   "pygments_lexer": "ipython3",
   "version": "3.10.12"
  }
 },
 "nbformat": 4,
 "nbformat_minor": 2
}
