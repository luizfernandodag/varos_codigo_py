{
 "cells": [
  {
   "cell_type": "markdown",
   "id": "744bf518",
   "metadata": {},
   "source": [
    "# Mundo 14 - Animações com Matplotlib\n",
    "\n",
    "O matplotlib permite que você crie vídeos a partir dos gráficos.\n",
    "Um gráfico nada mais é do que uma \"foto\". Caso você plote um gráfico de linha, por exemplo, a cada ponto, gerando essa \"foto\", você terá um vídeo no final.\n",
    "\n",
    "O submódulo que iremos utilizar é o *FuncAnimation*"
   ]
  },
  {
   "cell_type": "code",
   "execution_count": null,
   "id": "e2a462fc",
   "metadata": {},
   "outputs": [],
   "source": [
    "%matplotlib notebook"
   ]
  },
  {
   "cell_type": "code",
   "execution_count": null,
   "id": "b22909ca",
   "metadata": {},
   "outputs": [],
   "source": [
    "import pandas as pd\n",
    "import matplotlib.pyplot as plt\n",
    "from matplotlib.animation import FuncAnimation\n",
    "import matplotlib.animation as animation\n",
    "import matplotlib.ticker as mtick\n",
    "import numpy as np\n",
    "from datetime import date\n",
    "import matplotlib.dates as mdate\n",
    "import yfinance as yf   \n",
    "from datetime import datetime\n",
    "import os\n",
    "import mplcyberpunk"
   ]
  },
  {
   "cell_type": "code",
   "execution_count": null,
   "id": "0ce4182c",
   "metadata": {},
   "outputs": [],
   "source": [
    "params = {\"ytick.color\" : \"k\",\n",
    "          \"xtick.color\" : \"k\",\n",
    "          \"axes.labelcolor\" : \"k\",\n",
    "          \"axes.edgecolor\" : \"k\"}\n",
    "plt.rcParams.update(params)"
   ]
  },
  {
   "cell_type": "code",
   "execution_count": null,
   "id": "065b1001",
   "metadata": {},
   "outputs": [],
   "source": [
    "cotacoes = yf.download([\"^BVSP\"], \"2001-12-28\", \"2023-01-01\")['Adj Close']"
   ]
  },
  {
   "cell_type": "code",
   "execution_count": null,
   "id": "ddb77135",
   "metadata": {},
   "outputs": [],
   "source": [
    "fig, ax = plt.subplots()\n",
    "\n",
    "ax.plot(cotacoes)"
   ]
  },
  {
   "cell_type": "code",
   "execution_count": null,
   "id": "658f28d9",
   "metadata": {
    "scrolled": false
   },
   "outputs": [],
   "source": [
    "cotacoes_ani = cotacoes.resample(\"M\").last()\n",
    "\n",
    "\n",
    "fig, ax = plt.subplots()\n",
    "ax.set_xlim(date(2001, 1, 1), date(2023, 12, 31))\n",
    "ax.set_ylim(6000, 130000)\n",
    "\n",
    "\n",
    "def animate(i):\n",
    "    \n",
    "    data = cotacoes_ani.iloc[:int(i+1)] #select data range\n",
    "    ax.plot(data.index, data.values, color = \"b\")\n",
    "    \n",
    "    \n",
    "ani = FuncAnimation(fig, animate, frames = range(0, len(cotacoes_ani)), interval=50, repeat = False)\n",
    "\n",
    "plt.show()\n"
   ]
  },
  {
   "cell_type": "code",
   "execution_count": null,
   "id": "d7e22303",
   "metadata": {},
   "outputs": [],
   "source": [
    "cotacoes_ani.iloc[:int(2+1)]"
   ]
  },
  {
   "cell_type": "code",
   "execution_count": null,
   "id": "995afc92",
   "metadata": {},
   "outputs": [],
   "source": [
    "dados_iphone = pd.read_csv(\"dados_iphone.csv\", index_col=\"lancamento\")\n",
    "\n",
    "serie_preco_iphone = dados_iphone['quantidade_salario_minimo']\n",
    "\n",
    "serie_preco_iphone = serie_preco_iphone.str.replace(\",\", \".\")\n",
    "\n",
    "serie_preco_iphone = serie_preco_iphone.astype(float)\n",
    "\n",
    "serie_preco_iphone.index = pd.to_datetime(serie_preco_iphone.index)\n",
    "\n",
    "serie_preco_iphone"
   ]
  },
  {
   "cell_type": "code",
   "execution_count": null,
   "id": "f6853573",
   "metadata": {},
   "outputs": [],
   "source": [
    "fig, ax = plt.subplots()\n",
    "ax.set_xlim(date(2008, 1, 1), date(2022, 12, 31))\n",
    "ax.set_ylim(3, 16)\n",
    "\n",
    "\n",
    "def animate(i):\n",
    "    \n",
    "    data = serie_preco_iphone.iloc[:int(i+1)] #select data range\n",
    "    ax.plot(data.index, data.values, color = \"b\")\n",
    "    \n",
    "    \n",
    "ani = FuncAnimation(fig, animate, frames = range(0, len(serie_preco_iphone)), interval=150, repeat = False)\n",
    "\n",
    "\n",
    "plt.show()"
   ]
  },
  {
   "cell_type": "code",
   "execution_count": null,
   "id": "f782c352",
   "metadata": {},
   "outputs": [],
   "source": [
    "#isso aqui aumenta o numero de frames. Basta passa o eixo x, y e o numero de steps que você deseja a mais. \n",
    "#Por exemplo, num dataset de 10 itens, caso numsteps = 10, o dataset final terá 100 itens\n",
    "\n",
    "def augment(xold,yold,numsteps):\n",
    "    xnew = []\n",
    "    ynew = []\n",
    "    for i in range(len(xold)-1):\n",
    "        difX = xold[i+1]-xold[i]\n",
    "        stepsX = difX/numsteps\n",
    "        difY = yold[i+1]-yold[i]\n",
    "        stepsY = difY/numsteps\n",
    "        for s in range(numsteps):\n",
    "            xnew = np.append(xnew,xold[i]+s*stepsX)\n",
    "            ynew = np.append(ynew,yold[i]+s*stepsY)\n",
    "    return xnew,ynew"
   ]
  },
  {
   "cell_type": "code",
   "execution_count": null,
   "id": "b0c81f31",
   "metadata": {},
   "outputs": [],
   "source": [
    "#essa função suaviza o gráfico, deixando as transições mais arredondadas. \n",
    "\n",
    "def smoothListGaussian(listin, degree=5):  \n",
    "    window=degree*2-1  \n",
    "    weight=np.array([1.0]*window)  \n",
    "    weightGauss=[] \n",
    "    for i in range(window):  \n",
    "        i=i-degree+1  \n",
    "        frac=i/float(window)  \n",
    "        gauss=1/(np.exp((4*(frac))**2))  \n",
    "        weightGauss.append(gauss)\n",
    "    weight=np.array(weightGauss)*weight  \n",
    "    smoothed=[0.0]*(len(listin)-window)  \n",
    "    for i in range(len(smoothed)):        \n",
    "        smoothed[i]=sum(np.array(listin[i:i+window])*weight)/sum(weight)  \n",
    "    return smoothed"
   ]
  },
  {
   "cell_type": "code",
   "execution_count": null,
   "id": "baf594b2",
   "metadata": {},
   "outputs": [],
   "source": [
    "novos_dadosx_iphone, novos_dadosy_iphone = augment(serie_preco_iphone.index, \n",
    "                                                   serie_preco_iphone, numsteps=20)\n",
    "\n",
    "novos_dadosy_iphone"
   ]
  },
  {
   "cell_type": "code",
   "execution_count": null,
   "id": "1d14cd9a",
   "metadata": {},
   "outputs": [],
   "source": [
    "dadosy_suavizado_iphone = smoothListGaussian(novos_dadosy_iphone)\n",
    "\n",
    "dadosy_suavizado_iphone"
   ]
  },
  {
   "cell_type": "code",
   "execution_count": null,
   "id": "91035d1c",
   "metadata": {},
   "outputs": [],
   "source": [
    "print(len(dadosy_suavizado_iphone))\n",
    "print(len(novos_dadosy_iphone))\n",
    "print(len(novos_dadosx_iphone))"
   ]
  },
  {
   "cell_type": "code",
   "execution_count": null,
   "id": "85f67da9",
   "metadata": {},
   "outputs": [],
   "source": [
    "novo_indice = pd.date_range(start=serie_preco_iphone.index[0], \n",
    "                            end=serie_preco_iphone.index[-1], periods=len(dadosy_suavizado_iphone))\n",
    "\n",
    "serie_preco_iphone = pd.Series(data=dadosy_suavizado_iphone, index=novo_indice)\n",
    "\n",
    "serie_preco_iphone"
   ]
  },
  {
   "cell_type": "code",
   "execution_count": null,
   "id": "e01b7d9e",
   "metadata": {},
   "outputs": [],
   "source": [
    "fig, ax = plt.subplots()\n",
    "ax.set_xlim(date(2008, 1, 1), date(2022, 12, 31))\n",
    "ax.set_ylim(3, 16)\n",
    "ax.set_title(\"Preço do Iphone x Salário Mínimo\")\n",
    "\n",
    "\n",
    "def animate(i):\n",
    "    \n",
    "    data = serie_preco_iphone.iloc[:int(i+1)] #select data range\n",
    "    ax.plot(data.index, data.values, color = \"b\")\n",
    "    \n",
    "    \n",
    "ani = FuncAnimation(fig, animate, frames = range(0, len(serie_preco_iphone)), interval=20, repeat = False)\n",
    "\n",
    "\n",
    "plt.show()"
   ]
  },
  {
   "cell_type": "code",
   "execution_count": null,
   "id": "c6275ff3",
   "metadata": {},
   "outputs": [],
   "source": [
    "inflacao_americana = pd.read_csv(\"CPIAUCSL.csv\", index_col=\"DATE\")\n",
    "\n",
    "taxa_de_juros_americana = pd.read_csv(\"DFF.csv\", index_col=\"DATE\")\n",
    "\n",
    "taxa_de_juros_americana = taxa_de_juros_americana.squeeze()\n",
    "\n",
    "taxa_de_juros_americana = taxa_de_juros_americana.str.replace(\",\", \".\")\n",
    "\n",
    "taxa_de_juros_americana = taxa_de_juros_americana.astype(float)\n",
    "\n",
    "inflacao_americana = inflacao_americana.squeeze()\n",
    "\n",
    "inflacao_americana = inflacao_americana.str.replace(\",\", \".\")\n",
    "\n",
    "inflacao_americana = inflacao_americana.astype(float)\n",
    "\n",
    "inflacao_americana.index = pd.to_datetime(inflacao_americana.index)\n",
    "\n",
    "taxa_de_juros_americana.index = pd.to_datetime(taxa_de_juros_americana.index)\n",
    "\n",
    "inflacao_americana = inflacao_americana.resample(\"1Q\").last()\n",
    "taxa_de_juros_americana = taxa_de_juros_americana.resample(\"1Q\").last()\n",
    "\n",
    "inflacao_americana = inflacao_americana[inflacao_americana.index > \"1960-12-31\"]\n",
    "taxa_de_juros_americana = taxa_de_juros_americana[taxa_de_juros_americana.index > \"1960-12-31\"]\n",
    "\n",
    "var_inflacao_americana = (inflacao_americana.pct_change(periods=4)) * 100\n",
    "var_inflacao_americana = var_inflacao_americana.dropna()\n",
    "\n",
    "juro_real = taxa_de_juros_americana - var_inflacao_americana\n",
    "juro_real = juro_real.dropna()\n",
    "juro_real = juro_real.astype(float)\n",
    "\n",
    "juro_real"
   ]
  },
  {
   "cell_type": "code",
   "execution_count": null,
   "id": "3b6e12b2",
   "metadata": {},
   "outputs": [],
   "source": [
    "fig, ax = plt.subplots()\n",
    "ax.set_xlim(date(1962, 1, 1), date(2022, 12, 31))\n",
    "ax.set_ylim(-10, 20)\n",
    "\n",
    "\n",
    "def animate(i):\n",
    "    \n",
    "    data = juro_real.iloc[:int(i+1)] #select data range\n",
    "    ax.plot(data.index, data.values, color = \"b\")\n",
    "    \n",
    "    \n",
    "ani = FuncAnimation(fig, animate, frames = range(0, len(juro_real)), interval=50, repeat = False)\n",
    "\n",
    "\n",
    "plt.show()"
   ]
  },
  {
   "cell_type": "code",
   "execution_count": null,
   "id": "398f1c6b",
   "metadata": {
    "scrolled": true
   },
   "outputs": [],
   "source": [
    "novo_indice = pd.date_range(start=juro_real.index[0], end=juro_real.index[-1], periods=len(smoothListGaussian(juro_real)))\n",
    "juro_real = pd.Series(data=smoothListGaussian(juro_real), index=novo_indice)\n",
    "\n",
    "juro_real"
   ]
  },
  {
   "cell_type": "code",
   "execution_count": null,
   "id": "36e12c50",
   "metadata": {},
   "outputs": [],
   "source": [
    "!pip install ffmpeg"
   ]
  },
  {
   "cell_type": "markdown",
   "id": "9bcfc987",
   "metadata": {},
   "source": [
    "https://www.gyan.dev/ffmpeg/builds/\n",
    "<br>\n",
    "\n",
    "https://ffmpeg.org/download.html#build-windows"
   ]
  },
  {
   "cell_type": "code",
   "execution_count": null,
   "id": "2b906217",
   "metadata": {},
   "outputs": [],
   "source": []
  },
  {
   "cell_type": "code",
   "execution_count": null,
   "id": "57c88e1e",
   "metadata": {
    "scrolled": false
   },
   "outputs": [],
   "source": [
    "plt.style.use(\"cyberpunk\")\n",
    "\n",
    "fig, ax = plt.subplots()\n",
    "ax.set_xlim(date(1962, 1, 1), date(2022, 12, 31))\n",
    "ax.set_ylim(-10, 20)\n",
    "ax.yaxis.set_major_formatter(mtick.PercentFormatter(decimals = 0))\n",
    "ax.set_title(\"Taxa de juros real EUA\")\n",
    "\n",
    "def animate(i):\n",
    "    \n",
    "    data = juro_real.iloc[:int(i+1)] #select data range\n",
    "    ax.plot(data.index, data.values, color = \"#00FFFF\")\n",
    "    \n",
    "    \n",
    "ani = FuncAnimation(fig, animate, frames = range(0, len(juro_real)), interval=50, repeat = False)\n",
    "\n",
    "plt.rcParams['animation.ffmpeg_path'] ='C:\\\\Users\\\\lsiqu\\\\Downloads\\\\ffmpeg\\\\bin\\\\ffmpeg.exe'\n",
    "writervideo = animation.FFMpegWriter(fps=60) \n",
    "ani.save(\"juro_real_americano.mp4\", writer=writervideo)\n",
    "\n",
    "plt.show()"
   ]
  },
  {
   "cell_type": "markdown",
   "id": "742c498a",
   "metadata": {},
   "source": [
    "# Exercícios\n",
    "\n",
    "* Exercício 108: Crie uma animação do desempenho do preço do dólar desde 2008.\n",
    "* Exercício 109: Crie uma animação com a correlação móvel do ibovespa x WEGE3 e VALE3 entre 2010 e 2014.\n",
    "\n",
    "Use as funções de escala e normalização caso ache necessário.\n",
    "Não esqueça de dar resample nos dados. Dado diário geralmente é ruim pra animação."
   ]
  },
  {
   "cell_type": "code",
   "execution_count": null,
   "id": "7666b9a3",
   "metadata": {},
   "outputs": [],
   "source": []
  },
  {
   "cell_type": "code",
   "execution_count": null,
   "id": "b682aaff",
   "metadata": {},
   "outputs": [],
   "source": []
  },
  {
   "cell_type": "code",
   "execution_count": null,
   "id": "e37f7dfb",
   "metadata": {
    "scrolled": false
   },
   "outputs": [],
   "source": [
    "#gabarito 108\n",
    "\n",
    "dolar = yf.download([\"USDBRL=X\"], \"2007-12-28\", \"2023-01-01\")['Adj Close']\n",
    "\n",
    "dolar = dolar.resample(\"M\").last()\n",
    "\n",
    "plt.style.use(\"cyberpunk\")\n",
    "\n",
    "fig, ax = plt.subplots()\n",
    "ax.set_xlim(date(2008, 1, 1), date(2022, 12, 31))\n",
    "ax.set_ylim(0.5, 6)\n",
    "ax.yaxis.set_major_formatter('R${x:1.0f}')\n",
    "ax.set_title(\"Dólar x Real\")\n",
    "\n",
    "def animate(i):\n",
    "    \n",
    "    data = dolar.iloc[:int(i+1)] #select data range\n",
    "    ax.plot(data.index, data.values, color = \"#00FFFF\")\n",
    "    \n",
    "    \n",
    "ani = FuncAnimation(fig, animate, frames = range(0, len(dolar)), interval=50, repeat = False)\n",
    "\n",
    "plt.show()"
   ]
  },
  {
   "cell_type": "code",
   "execution_count": null,
   "id": "d43a9448",
   "metadata": {},
   "outputs": [],
   "source": [
    "acoes = [\"WEGE3.SA\", \"VALE3.SA\", \"^BVSP\"]\n",
    "\n",
    "cotacoes = yf.download(acoes, \"2009-01-01\", \"2015-01-01\")['Adj Close']"
   ]
  },
  {
   "cell_type": "code",
   "execution_count": null,
   "id": "81d4e2b0",
   "metadata": {
    "scrolled": true
   },
   "outputs": [],
   "source": [
    "#gabarito 109\n",
    "\n",
    "acoes = [\"WEGE3.SA\", \"VALE3.SA\", \"^BVSP\"]\n",
    "\n",
    "retornos = cotacoes.pct_change().dropna()\n",
    "\n",
    "acoes.remove(\"^BVSP\")\n",
    "\n",
    "janela_cor_weg = retornos['WEGE3.SA'].rolling(252).corr(retornos[\"^BVSP\"]).dropna()\n",
    "janela_cor_vale = retornos['VALE3.SA'].rolling(252).corr(retornos[\"^BVSP\"]).dropna()\n",
    "\n",
    "janela_cor_weg = janela_cor_weg.resample(\"M\").mean()\n",
    "janela_cor_vale = janela_cor_vale.resample(\"M\").mean()\n",
    "\n",
    "fig, ax = plt.subplots()\n",
    "ax.set_xlim(date(2010, 1, 1), date(2015, 1, 1))\n",
    "ax.set_ylim(0, 1)\n",
    "ax.set_title(\"Janela de correlação 12M x Ibovespa\", fontweight =\"bold\")\n",
    "\n",
    "\n",
    "def animate(i):\n",
    "    \n",
    "    data = janela_cor_weg.iloc[:int(i+1)] \n",
    "    weg = ax.plot(data.index, data.values, color = \"#00FFFF\", label = \"WEGE3\")\n",
    "    data = janela_cor_vale.iloc[:int(i+1)] \n",
    "    vale = ax.plot(data.index, data.values, color = \"fuchsia\", label = \"VALE3\")\n",
    "    \n",
    "    if i == 0:\n",
    "        ax.legend([\"WEGE3\", \"VALE3\"])\n",
    "\n",
    "\n",
    "ani = FuncAnimation(fig, animate, frames = range(0, len(dolar)), interval=30, repeat = False)\n",
    "\n",
    "plt.show()\n",
    "\n",
    "\n"
   ]
  },
  {
   "cell_type": "markdown",
   "id": "4fec8f22",
   "metadata": {},
   "source": [
    "# Mundo 15\n",
    "\n",
    "Gráfico especiais - Mapa de calor Seaborn"
   ]
  }
 ],
 "metadata": {
  "kernelspec": {
   "display_name": "Python 3",
   "language": "python",
   "name": "python3"
  },
  "language_info": {
   "codemirror_mode": {
    "name": "ipython",
    "version": 3
   },
   "file_extension": ".py",
   "mimetype": "text/x-python",
   "name": "python",
   "nbconvert_exporter": "python",
   "pygments_lexer": "ipython3",
   "version": "3.8.10"
  },
  "vscode": {
   "interpreter": {
    "hash": "916dbcbb3f70747c44a77c7bcd40155683ae19c65e1c03b4aa3499c5328201f1"
   }
  }
 },
 "nbformat": 4,
 "nbformat_minor": 5
}
