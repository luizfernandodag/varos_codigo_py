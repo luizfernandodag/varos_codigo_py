{
 "cells": [
  {
   "cell_type": "markdown",
   "id": "76280d9d",
   "metadata": {},
   "source": [
    "# Mundo 6\n",
    "\n",
    "### Introdução ao Pandas"
   ]
  },
  {
   "cell_type": "code",
   "execution_count": 1,
   "id": "7248e396",
   "metadata": {},
   "outputs": [],
   "source": [
    "import pandas as pd\n",
    "import numpy as np"
   ]
  },
  {
   "cell_type": "code",
   "execution_count": 2,
   "id": "265a8ff6",
   "metadata": {},
   "outputs": [],
   "source": [
    "def gerador_serie_historica(valor_inicial, volatilidade, periodos, dia_inicial, frequencia = \"M\"):\n",
    "    \n",
    "    vetor = [valor_inicial]\n",
    "\n",
    "    for i in range(periodos - 1):\n",
    "\n",
    "            preco = vetor[i] * (1 + np.random.normal(0, volatilidade))\n",
    "\n",
    "            vetor.append(preco)\n",
    "\n",
    "\n",
    "    serie = pd.Series(vetor, index = pd.date_range(dia_inicial, \n",
    "                                                   periods = periodos, freq = frequencia)) \n",
    "                               \n",
    "    return serie\n",
    "    \n",
    "    "
   ]
  },
  {
   "cell_type": "code",
   "execution_count": 9,
   "id": "4b781fda",
   "metadata": {
    "scrolled": true
   },
   "outputs": [
    {
     "data": {
      "text/plain": [
       "2022-01-31    20.000000\n",
       "2022-02-28    19.800156\n",
       "2022-03-31    22.414290\n",
       "2022-04-30    22.420354\n",
       "2022-05-31    23.195639\n",
       "Freq: M, dtype: float64"
      ]
     },
     "execution_count": 9,
     "metadata": {},
     "output_type": "execute_result"
    }
   ],
   "source": [
    "serie_euro = gerador_serie_historica(5, 0.01, 5, \"2022-01-01\")\n",
    "serie_cotacoes = gerador_serie_historica(20, 0.05, 5, \"2022-01-01\")\n",
    "serie_cotacoes"
   ]
  },
  {
   "cell_type": "code",
   "execution_count": 10,
   "id": "bbd44525",
   "metadata": {},
   "outputs": [
    {
     "data": {
      "text/plain": [
       "2022-01-31    5.000000\n",
       "2022-02-28    4.997614\n",
       "2022-03-31    4.961889\n",
       "2022-04-30    4.913211\n",
       "2022-05-31    4.896018\n",
       "Freq: M, dtype: float64"
      ]
     },
     "execution_count": 10,
     "metadata": {},
     "output_type": "execute_result"
    }
   ],
   "source": [
    "serie_euro"
   ]
  },
  {
   "cell_type": "code",
   "execution_count": 11,
   "id": "2fff8be0",
   "metadata": {},
   "outputs": [
    {
     "data": {
      "text/plain": [
       "2022-01-31    4.000000\n",
       "2022-02-28    3.961922\n",
       "2022-03-31    4.517290\n",
       "2022-04-30    4.563280\n",
       "2022-05-31    4.737653\n",
       "Freq: M, dtype: float64"
      ]
     },
     "execution_count": 11,
     "metadata": {},
     "output_type": "execute_result"
    }
   ],
   "source": [
    "#as operações aritméticas são feitas através dos índices! \n",
    "\n",
    "serie_cotacoes_em_euro = serie_cotacoes/serie_euro\n",
    "serie_cotacoes_em_euro"
   ]
  },
  {
   "cell_type": "code",
   "execution_count": 12,
   "id": "08aace19",
   "metadata": {},
   "outputs": [
    {
     "data": {
      "text/html": [
       "<div>\n",
       "<style scoped>\n",
       "    .dataframe tbody tr th:only-of-type {\n",
       "        vertical-align: middle;\n",
       "    }\n",
       "\n",
       "    .dataframe tbody tr th {\n",
       "        vertical-align: top;\n",
       "    }\n",
       "\n",
       "    .dataframe thead th {\n",
       "        text-align: right;\n",
       "    }\n",
       "</style>\n",
       "<table border=\"1\" class=\"dataframe\">\n",
       "  <thead>\n",
       "    <tr style=\"text-align: right;\">\n",
       "      <th></th>\n",
       "      <th>cotacao</th>\n",
       "      <th>lucro_por_acao</th>\n",
       "    </tr>\n",
       "  </thead>\n",
       "  <tbody>\n",
       "    <tr>\n",
       "      <th>2022-01-31</th>\n",
       "      <td>20.000000</td>\n",
       "      <td>2.000000</td>\n",
       "    </tr>\n",
       "    <tr>\n",
       "      <th>2022-02-28</th>\n",
       "      <td>19.375332</td>\n",
       "      <td>2.128839</td>\n",
       "    </tr>\n",
       "    <tr>\n",
       "      <th>2022-03-31</th>\n",
       "      <td>18.735870</td>\n",
       "      <td>3.075295</td>\n",
       "    </tr>\n",
       "    <tr>\n",
       "      <th>2022-04-30</th>\n",
       "      <td>18.553730</td>\n",
       "      <td>2.091368</td>\n",
       "    </tr>\n",
       "    <tr>\n",
       "      <th>2022-05-31</th>\n",
       "      <td>19.511469</td>\n",
       "      <td>1.367381</td>\n",
       "    </tr>\n",
       "  </tbody>\n",
       "</table>\n",
       "</div>"
      ],
      "text/plain": [
       "              cotacao  lucro_por_acao\n",
       "2022-01-31  20.000000        2.000000\n",
       "2022-02-28  19.375332        2.128839\n",
       "2022-03-31  18.735870        3.075295\n",
       "2022-04-30  18.553730        2.091368\n",
       "2022-05-31  19.511469        1.367381"
      ]
     },
     "execution_count": 12,
     "metadata": {},
     "output_type": "execute_result"
    }
   ],
   "source": [
    "serie_lucro = gerador_serie_historica(2, 0.5, 5, \"2022-01-01\")\n",
    "serie_cotacoes = gerador_serie_historica(20, 0.05, 5, \"2022-01-01\")\n",
    "\n",
    "\n",
    "df = pd.DataFrame({\"cotacao\": serie_cotacoes,\n",
    "                 \"lucro_por_acao\": serie_lucro})\n",
    "\n",
    "df"
   ]
  },
  {
   "cell_type": "code",
   "execution_count": 13,
   "id": "fae71440",
   "metadata": {},
   "outputs": [
    {
     "data": {
      "text/html": [
       "<div>\n",
       "<style scoped>\n",
       "    .dataframe tbody tr th:only-of-type {\n",
       "        vertical-align: middle;\n",
       "    }\n",
       "\n",
       "    .dataframe tbody tr th {\n",
       "        vertical-align: top;\n",
       "    }\n",
       "\n",
       "    .dataframe thead th {\n",
       "        text-align: right;\n",
       "    }\n",
       "</style>\n",
       "<table border=\"1\" class=\"dataframe\">\n",
       "  <thead>\n",
       "    <tr style=\"text-align: right;\">\n",
       "      <th></th>\n",
       "      <th>cotacao</th>\n",
       "      <th>lucro_por_acao</th>\n",
       "      <th>PL</th>\n",
       "    </tr>\n",
       "  </thead>\n",
       "  <tbody>\n",
       "    <tr>\n",
       "      <th>2022-01-31</th>\n",
       "      <td>20.000000</td>\n",
       "      <td>2.000000</td>\n",
       "      <td>10.000000</td>\n",
       "    </tr>\n",
       "    <tr>\n",
       "      <th>2022-02-28</th>\n",
       "      <td>19.375332</td>\n",
       "      <td>2.128839</td>\n",
       "      <td>9.101359</td>\n",
       "    </tr>\n",
       "    <tr>\n",
       "      <th>2022-03-31</th>\n",
       "      <td>18.735870</td>\n",
       "      <td>3.075295</td>\n",
       "      <td>6.092382</td>\n",
       "    </tr>\n",
       "    <tr>\n",
       "      <th>2022-04-30</th>\n",
       "      <td>18.553730</td>\n",
       "      <td>2.091368</td>\n",
       "      <td>8.871577</td>\n",
       "    </tr>\n",
       "    <tr>\n",
       "      <th>2022-05-31</th>\n",
       "      <td>19.511469</td>\n",
       "      <td>1.367381</td>\n",
       "      <td>14.269231</td>\n",
       "    </tr>\n",
       "  </tbody>\n",
       "</table>\n",
       "</div>"
      ],
      "text/plain": [
       "              cotacao  lucro_por_acao         PL\n",
       "2022-01-31  20.000000        2.000000  10.000000\n",
       "2022-02-28  19.375332        2.128839   9.101359\n",
       "2022-03-31  18.735870        3.075295   6.092382\n",
       "2022-04-30  18.553730        2.091368   8.871577\n",
       "2022-05-31  19.511469        1.367381  14.269231"
      ]
     },
     "execution_count": 13,
     "metadata": {},
     "output_type": "execute_result"
    }
   ],
   "source": [
    "#criando coluna P/L\n",
    "\n",
    "df['PL'] = df['cotacao']/df['lucro_por_acao']\n",
    "\n",
    "df"
   ]
  },
  {
   "cell_type": "code",
   "execution_count": 14,
   "id": "04c71e80",
   "metadata": {},
   "outputs": [
    {
     "name": "stdout",
     "output_type": "stream",
     "text": [
      "2022-01-31    22.000000\n",
      "2022-02-28    21.504171\n",
      "2022-03-31    21.811165\n",
      "2022-04-30    20.645097\n",
      "2022-05-31    20.878849\n",
      "Freq: M, dtype: float64\n",
      "2022-01-31    18.000000\n",
      "2022-02-28    17.246493\n",
      "2022-03-31    15.660576\n",
      "2022-04-30    16.462362\n",
      "2022-05-31    18.144088\n",
      "Freq: M, dtype: float64\n",
      "2022-01-31     400.000000\n",
      "2022-02-28     549.979773\n",
      "2022-03-31    8200.627610\n",
      "2022-04-30     449.527456\n",
      "2022-05-31      58.118904\n",
      "Freq: M, dtype: float64\n"
     ]
    }
   ],
   "source": [
    "#pode fazer qualquer operação \n",
    "\n",
    "print(df['cotacao'] + df['lucro_por_acao'])\n",
    "print(df['cotacao'] - df['lucro_por_acao'])\n",
    "print(df['cotacao'] ** df['lucro_por_acao'])"
   ]
  },
  {
   "cell_type": "code",
   "execution_count": 18,
   "id": "86208892",
   "metadata": {},
   "outputs": [
    {
     "name": "stdout",
     "output_type": "stream",
     "text": [
      "2022-03-31     20000.000000\n",
      "2022-06-30     68060.520196\n",
      "2022-09-30    273912.261713\n",
      "2022-12-31    712326.499107\n",
      "Freq: Q-DEC, dtype: float64\n"
     ]
    },
    {
     "data": {
      "text/plain": [
       "1074299.2810162662"
      ]
     },
     "execution_count": 18,
     "metadata": {},
     "output_type": "execute_result"
    }
   ],
   "source": [
    "#operações dentro de uma mesma coluna\n",
    "\n",
    "#somar dados de uma coluna\n",
    "\n",
    "serie_lucro_trimestral = gerador_serie_historica(20000, 2, 4, \"2022-01-01\", frequencia = \"Q\")\n",
    "\n",
    "print(serie_lucro_trimestral)\n",
    "\n",
    "lucro_anual = serie_lucro_trimestral.sum()\n",
    "lucro_anual"
   ]
  },
  {
   "cell_type": "code",
   "execution_count": 19,
   "id": "39e72bf8",
   "metadata": {},
   "outputs": [
    {
     "name": "stdout",
     "output_type": "stream",
     "text": [
      "2022-03-31     20000.000000\n",
      "2022-06-30     50292.768183\n",
      "2022-09-30     60491.045866\n",
      "2022-12-31    137288.277440\n",
      "Freq: Q-DEC, dtype: float64\n"
     ]
    },
    {
     "data": {
      "text/plain": [
       "2022-03-31     20000.000000\n",
       "2022-06-30     70292.768183\n",
       "2022-09-30    130783.814048\n",
       "2022-12-31    268072.091488\n",
       "Freq: Q-DEC, dtype: float64"
      ]
     },
     "execution_count": 19,
     "metadata": {},
     "output_type": "execute_result"
    }
   ],
   "source": [
    "#acumular dados de uma coluna\n",
    "\n",
    "serie_lucro_trimestral = gerador_serie_historica(20000, 2, 4, \"2022-01-01\", frequencia = \"Q\")\n",
    "\n",
    "print(serie_lucro_trimestral)\n",
    "\n",
    "crescimento_lucros  = serie_lucro_trimestral.cumsum()\n",
    "\n",
    "crescimento_lucros"
   ]
  },
  {
   "cell_type": "code",
   "execution_count": null,
   "id": "573a6bf6",
   "metadata": {},
   "outputs": [],
   "source": [
    "#maior e menor dado de lucro no trimestre"
   ]
  },
  {
   "cell_type": "code",
   "execution_count": 21,
   "id": "2147d92c",
   "metadata": {},
   "outputs": [
    {
     "name": "stdout",
     "output_type": "stream",
     "text": [
      "2022-03-31    20000.000000\n",
      "2022-06-30     7650.378125\n",
      "2022-09-30    12743.086812\n",
      "2022-12-31    38257.537934\n",
      "Freq: Q-DEC, dtype: float64\n",
      "7650.378125291027\n"
     ]
    },
    {
     "data": {
      "text/plain": [
       "38257.53793432035"
      ]
     },
     "execution_count": 21,
     "metadata": {},
     "output_type": "execute_result"
    }
   ],
   "source": [
    "serie_lucro_trimestral = gerador_serie_historica(20000, 2, 4, \"2022-01-01\", frequencia = \"Q\")\n",
    "\n",
    "print(serie_lucro_trimestral)\n",
    "\n",
    "lucro_max = serie_lucro_trimestral.max()\n",
    "lucro_min = serie_lucro_trimestral.min()\n",
    "\n",
    "print(lucro_min)\n",
    "lucro_max"
   ]
  },
  {
   "cell_type": "markdown",
   "id": "21e3586e",
   "metadata": {},
   "source": [
    "# Exercícios \n",
    "\n",
    "No dataframe base trabalhado em todas as aulas:\n",
    "\n",
    "* Exercício 50: Crie uma nova coluna chamada \"lucro_por_acao\" e calcule o lucro por ação baseado nas informações de PL e preço. Obs: LPA = P/Indicador(PL)\n",
    "* Exercício 51: Assuma a cotação do dólar como 5.25 e crie a coluna de cotações dolarizadas na tabela.\n",
    "* Exercício 52: Encontre qual volume total negociado por todas as ações. \n",
    "* Exercício 53: Selecione as ações com maior e menor Lucro por ação do dataframe. Dica: use métodos de seleção ensinados na aula passada! \n",
    "\n"
   ]
  },
  {
   "cell_type": "code",
   "execution_count": null,
   "id": "7523c91b",
   "metadata": {},
   "outputs": [],
   "source": []
  },
  {
   "cell_type": "code",
   "execution_count": null,
   "id": "50a005be",
   "metadata": {},
   "outputs": [],
   "source": []
  },
  {
   "cell_type": "code",
   "execution_count": null,
   "id": "640e6195",
   "metadata": {},
   "outputs": [],
   "source": []
  },
  {
   "cell_type": "code",
   "execution_count": null,
   "id": "999fb669",
   "metadata": {},
   "outputs": [],
   "source": []
  },
  {
   "cell_type": "code",
   "execution_count": 22,
   "id": "696d7124",
   "metadata": {},
   "outputs": [],
   "source": [
    "#df_base\n",
    "\n",
    "dicionario = {\n",
    "       \"nomes\": [\"Weg\", \"Petrobras\", \"Vale\", \"Petrobras\", \"Lojas Renner\"],\n",
    "       \"tickers\": [\"WEGE3\", \"PETR3\", \"VALE3\", \"PETR4\", \"LREN3\"],  \n",
    "       \"cotacoes\": [20, 30, 40, 12, 35],\n",
    "       \"preco_sobre_lucro\": [25, 6, 12, 7, 25],  \n",
    "       \"volume\": [5000, 1000, 4000, 7000, 1200]\n",
    "}\n",
    "\n",
    "df_info_empresas = pd.DataFrame(dicionario)\n",
    "\n",
    "df_info_empresas = df_info_empresas.set_index(\"tickers\")\n",
    "\n",
    "df_info_empresas.columns = ['nomes', 'precos', 'preco_sobre_lucro', 'volume']"
   ]
  },
  {
   "cell_type": "code",
   "execution_count": 23,
   "id": "e8254ada",
   "metadata": {},
   "outputs": [
    {
     "data": {
      "text/html": [
       "<div>\n",
       "<style scoped>\n",
       "    .dataframe tbody tr th:only-of-type {\n",
       "        vertical-align: middle;\n",
       "    }\n",
       "\n",
       "    .dataframe tbody tr th {\n",
       "        vertical-align: top;\n",
       "    }\n",
       "\n",
       "    .dataframe thead th {\n",
       "        text-align: right;\n",
       "    }\n",
       "</style>\n",
       "<table border=\"1\" class=\"dataframe\">\n",
       "  <thead>\n",
       "    <tr style=\"text-align: right;\">\n",
       "      <th></th>\n",
       "      <th>nomes</th>\n",
       "      <th>precos</th>\n",
       "      <th>preco_sobre_lucro</th>\n",
       "      <th>volume</th>\n",
       "      <th>lpa</th>\n",
       "    </tr>\n",
       "    <tr>\n",
       "      <th>tickers</th>\n",
       "      <th></th>\n",
       "      <th></th>\n",
       "      <th></th>\n",
       "      <th></th>\n",
       "      <th></th>\n",
       "    </tr>\n",
       "  </thead>\n",
       "  <tbody>\n",
       "    <tr>\n",
       "      <th>WEGE3</th>\n",
       "      <td>Weg</td>\n",
       "      <td>20</td>\n",
       "      <td>25</td>\n",
       "      <td>5000</td>\n",
       "      <td>0.800000</td>\n",
       "    </tr>\n",
       "    <tr>\n",
       "      <th>PETR3</th>\n",
       "      <td>Petrobras</td>\n",
       "      <td>30</td>\n",
       "      <td>6</td>\n",
       "      <td>1000</td>\n",
       "      <td>5.000000</td>\n",
       "    </tr>\n",
       "    <tr>\n",
       "      <th>VALE3</th>\n",
       "      <td>Vale</td>\n",
       "      <td>40</td>\n",
       "      <td>12</td>\n",
       "      <td>4000</td>\n",
       "      <td>3.333333</td>\n",
       "    </tr>\n",
       "    <tr>\n",
       "      <th>PETR4</th>\n",
       "      <td>Petrobras</td>\n",
       "      <td>12</td>\n",
       "      <td>7</td>\n",
       "      <td>7000</td>\n",
       "      <td>1.714286</td>\n",
       "    </tr>\n",
       "    <tr>\n",
       "      <th>LREN3</th>\n",
       "      <td>Lojas Renner</td>\n",
       "      <td>35</td>\n",
       "      <td>25</td>\n",
       "      <td>1200</td>\n",
       "      <td>1.400000</td>\n",
       "    </tr>\n",
       "  </tbody>\n",
       "</table>\n",
       "</div>"
      ],
      "text/plain": [
       "                nomes  precos  preco_sobre_lucro  volume       lpa\n",
       "tickers                                                           \n",
       "WEGE3             Weg      20                 25    5000  0.800000\n",
       "PETR3       Petrobras      30                  6    1000  5.000000\n",
       "VALE3            Vale      40                 12    4000  3.333333\n",
       "PETR4       Petrobras      12                  7    7000  1.714286\n",
       "LREN3    Lojas Renner      35                 25    1200  1.400000"
      ]
     },
     "execution_count": 23,
     "metadata": {},
     "output_type": "execute_result"
    }
   ],
   "source": [
    "#gabarito 50\n",
    "\n",
    "df_info_empresas['lpa'] = df_info_empresas['precos'] / df_info_empresas['preco_sobre_lucro']\n",
    "\n",
    "df_info_empresas"
   ]
  },
  {
   "cell_type": "code",
   "execution_count": 24,
   "id": "51ec51bb",
   "metadata": {},
   "outputs": [
    {
     "data": {
      "text/html": [
       "<div>\n",
       "<style scoped>\n",
       "    .dataframe tbody tr th:only-of-type {\n",
       "        vertical-align: middle;\n",
       "    }\n",
       "\n",
       "    .dataframe tbody tr th {\n",
       "        vertical-align: top;\n",
       "    }\n",
       "\n",
       "    .dataframe thead th {\n",
       "        text-align: right;\n",
       "    }\n",
       "</style>\n",
       "<table border=\"1\" class=\"dataframe\">\n",
       "  <thead>\n",
       "    <tr style=\"text-align: right;\">\n",
       "      <th></th>\n",
       "      <th>nomes</th>\n",
       "      <th>precos</th>\n",
       "      <th>preco_sobre_lucro</th>\n",
       "      <th>volume</th>\n",
       "      <th>lpa</th>\n",
       "      <th>precos_dolar</th>\n",
       "    </tr>\n",
       "    <tr>\n",
       "      <th>tickers</th>\n",
       "      <th></th>\n",
       "      <th></th>\n",
       "      <th></th>\n",
       "      <th></th>\n",
       "      <th></th>\n",
       "      <th></th>\n",
       "    </tr>\n",
       "  </thead>\n",
       "  <tbody>\n",
       "    <tr>\n",
       "      <th>WEGE3</th>\n",
       "      <td>Weg</td>\n",
       "      <td>20</td>\n",
       "      <td>25</td>\n",
       "      <td>5000</td>\n",
       "      <td>0.800000</td>\n",
       "      <td>3.809524</td>\n",
       "    </tr>\n",
       "    <tr>\n",
       "      <th>PETR3</th>\n",
       "      <td>Petrobras</td>\n",
       "      <td>30</td>\n",
       "      <td>6</td>\n",
       "      <td>1000</td>\n",
       "      <td>5.000000</td>\n",
       "      <td>5.714286</td>\n",
       "    </tr>\n",
       "    <tr>\n",
       "      <th>VALE3</th>\n",
       "      <td>Vale</td>\n",
       "      <td>40</td>\n",
       "      <td>12</td>\n",
       "      <td>4000</td>\n",
       "      <td>3.333333</td>\n",
       "      <td>7.619048</td>\n",
       "    </tr>\n",
       "    <tr>\n",
       "      <th>PETR4</th>\n",
       "      <td>Petrobras</td>\n",
       "      <td>12</td>\n",
       "      <td>7</td>\n",
       "      <td>7000</td>\n",
       "      <td>1.714286</td>\n",
       "      <td>2.285714</td>\n",
       "    </tr>\n",
       "    <tr>\n",
       "      <th>LREN3</th>\n",
       "      <td>Lojas Renner</td>\n",
       "      <td>35</td>\n",
       "      <td>25</td>\n",
       "      <td>1200</td>\n",
       "      <td>1.400000</td>\n",
       "      <td>6.666667</td>\n",
       "    </tr>\n",
       "  </tbody>\n",
       "</table>\n",
       "</div>"
      ],
      "text/plain": [
       "                nomes  precos  preco_sobre_lucro  volume       lpa  \\\n",
       "tickers                                                              \n",
       "WEGE3             Weg      20                 25    5000  0.800000   \n",
       "PETR3       Petrobras      30                  6    1000  5.000000   \n",
       "VALE3            Vale      40                 12    4000  3.333333   \n",
       "PETR4       Petrobras      12                  7    7000  1.714286   \n",
       "LREN3    Lojas Renner      35                 25    1200  1.400000   \n",
       "\n",
       "         precos_dolar  \n",
       "tickers                \n",
       "WEGE3        3.809524  \n",
       "PETR3        5.714286  \n",
       "VALE3        7.619048  \n",
       "PETR4        2.285714  \n",
       "LREN3        6.666667  "
      ]
     },
     "execution_count": 24,
     "metadata": {},
     "output_type": "execute_result"
    }
   ],
   "source": [
    "#gabarito 51\n",
    "\n",
    "dolar = 5.25\n",
    "\n",
    "df_info_empresas['precos_dolar'] = df_info_empresas['precos'] / dolar\n",
    "\n",
    "df_info_empresas"
   ]
  },
  {
   "cell_type": "code",
   "execution_count": 25,
   "id": "8735ab35",
   "metadata": {},
   "outputs": [
    {
     "data": {
      "text/plain": [
       "18200"
      ]
     },
     "execution_count": 25,
     "metadata": {},
     "output_type": "execute_result"
    }
   ],
   "source": [
    "#gabarito 52\n",
    "\n",
    "volume_total = df_info_empresas['volume'].sum()\n",
    "volume_total"
   ]
  },
  {
   "cell_type": "code",
   "execution_count": 28,
   "id": "cd06719f",
   "metadata": {},
   "outputs": [
    {
     "name": "stdout",
     "output_type": "stream",
     "text": [
      "Petrobras\n",
      "Weg\n"
     ]
    }
   ],
   "source": [
    "#gabarito 53\n",
    "\n",
    "lpa_maximo = df_info_empresas['lpa'].max()\n",
    "lpa_minimo = df_info_empresas['lpa'].min()\n",
    "\n",
    "maiorlpa_empresa = df_info_empresas[df_info_empresas['lpa'] == lpa_maximo]\n",
    "maiorlpa_empresa = maiorlpa_empresa.iat[0, 0]\n",
    "\n",
    "menorlpa_empresa = df_info_empresas[df_info_empresas['lpa'] == lpa_minimo]\n",
    "menorlpa_empresa = menorlpa_empresa.iat[0, 0]\n",
    "\n",
    "print(maiorlpa_empresa)\n",
    "print(menorlpa_empresa)"
   ]
  },
  {
   "cell_type": "markdown",
   "id": "c368d07c",
   "metadata": {},
   "source": [
    "# Mundo 7\n",
    "\n",
    "Na próxima aula vamos aprender a usar duas ferramentas muito úteis no Pandas: Rankings e ordenação. Afinal, como ordenar uma tabela do maior pro menor PL, por exemplo?"
   ]
  },
  {
   "cell_type": "code",
   "execution_count": null,
   "id": "c3254fd5",
   "metadata": {},
   "outputs": [],
   "source": []
  }
 ],
 "metadata": {
  "kernelspec": {
   "display_name": "Python 3 (ipykernel)",
   "language": "python",
   "name": "python3"
  },
  "language_info": {
   "codemirror_mode": {
    "name": "ipython",
    "version": 3
   },
   "file_extension": ".py",
   "mimetype": "text/x-python",
   "name": "python",
   "nbconvert_exporter": "python",
   "pygments_lexer": "ipython3",
   "version": "3.9.12"
  }
 },
 "nbformat": 4,
 "nbformat_minor": 5
}
