{
 "cells": [
  {
   "cell_type": "markdown",
   "metadata": {},
   "source": [
    "# Mundo 1"
   ]
  },
  {
   "cell_type": "markdown",
   "metadata": {},
   "source": [
    "# Mundo 2\n"
   ]
  },
  {
   "cell_type": "code",
   "execution_count": 48,
   "metadata": {},
   "outputs": [],
   "source": [
    "import pandas as pd\n",
    "import numpy as np"
   ]
  },
  {
   "cell_type": "code",
   "execution_count": 49,
   "metadata": {},
   "outputs": [
    {
     "name": "stdout",
     "output_type": "stream",
     "text": [
      "A    0.624100\n",
      "B    1.664342\n",
      "C   -1.655865\n",
      "D   -0.272649\n",
      "E    0.146035\n",
      "dtype: float64\n"
     ]
    },
    {
     "data": {
      "text/plain": [
       "0    Python\n",
       "1       SQL\n",
       "2       VBA\n",
       "dtype: object"
      ]
     },
     "execution_count": 49,
     "metadata": {},
     "output_type": "execute_result"
    }
   ],
   "source": [
    "# Argumentos: listas/vetores \n",
    "\n",
    "serie_inicial = pd.Series(np.random.randn(5))\n",
    "\n",
    "\n",
    "\n",
    "serie_inicial = pd.Series(np.random.randn(5), index = [\"A\", \"B\", \"C\", \"D\", \"E\"])\n",
    "\n",
    "print(serie_inicial)\n",
    "\n",
    "serie_lista = pd.Series([\"Python\", \"SQL\", \"VBA\"])\n",
    "\n",
    "serie_lista"
   ]
  },
  {
   "cell_type": "code",
   "execution_count": 50,
   "metadata": {},
   "outputs": [
    {
     "name": "stdout",
     "output_type": "stream",
     "text": [
      "WEGE3    20.20\n",
      "PETR4    19.28\n",
      "VALE3    64.90\n",
      "PETZ3    12.03\n",
      "dtype: float64\n",
      "20.2\n"
     ]
    },
    {
     "name": "stderr",
     "output_type": "stream",
     "text": [
      "/tmp/ipykernel_64356/1072361009.py:9: FutureWarning: Series.__getitem__ treating keys as positions is deprecated. In a future version, integer keys will always be treated as labels (consistent with DataFrame behavior). To access a value by position, use `ser.iloc[pos]`\n",
      "  serie_cotacoes[0]\n"
     ]
    },
    {
     "data": {
      "text/plain": [
       "np.float64(20.2)"
      ]
     },
     "execution_count": 50,
     "metadata": {},
     "output_type": "execute_result"
    }
   ],
   "source": [
    "# A partir de dicionários, criando séries temporais\n",
    "\n",
    "dicionario_cotacoes = {\"WEGE3\": 20.20, \"PETR4\": 19.28, \"VALE3\": 64.90, \"PETZ3\": 12.03}\n",
    "\n",
    "serie_cotacoes = pd.Series(dicionario_cotacoes)\n",
    "\n",
    "print(serie_cotacoes)\n",
    "print(serie_cotacoes['WEGE3'])\n",
    "serie_cotacoes[0]"
   ]
  },
  {
   "cell_type": "code",
   "execution_count": 51,
   "metadata": {},
   "outputs": [
    {
     "data": {
      "text/html": [
       "<div>\n",
       "<style scoped>\n",
       "    .dataframe tbody tr th:only-of-type {\n",
       "        vertical-align: middle;\n",
       "    }\n",
       "\n",
       "    .dataframe tbody tr th {\n",
       "        vertical-align: top;\n",
       "    }\n",
       "\n",
       "    .dataframe thead th {\n",
       "        text-align: right;\n",
       "    }\n",
       "</style>\n",
       "<table border=\"1\" class=\"dataframe\">\n",
       "  <thead>\n",
       "    <tr style=\"text-align: right;\">\n",
       "      <th></th>\n",
       "      <th>empresas</th>\n",
       "      <th>price</th>\n",
       "      <th>volume</th>\n",
       "    </tr>\n",
       "  </thead>\n",
       "  <tbody>\n",
       "    <tr>\n",
       "      <th>2019</th>\n",
       "      <td>Wege</td>\n",
       "      <td>20</td>\n",
       "      <td>1000</td>\n",
       "    </tr>\n",
       "    <tr>\n",
       "      <th>2020</th>\n",
       "      <td>Vale</td>\n",
       "      <td>30</td>\n",
       "      <td>4000</td>\n",
       "    </tr>\n",
       "    <tr>\n",
       "      <th>2021</th>\n",
       "      <td>Petrobras</td>\n",
       "      <td>40</td>\n",
       "      <td>7500</td>\n",
       "    </tr>\n",
       "  </tbody>\n",
       "</table>\n",
       "</div>"
      ],
      "text/plain": [
       "       empresas  price  volume\n",
       "2019       Wege     20    1000\n",
       "2020       Vale     30    4000\n",
       "2021  Petrobras     40    7500"
      ]
     },
     "execution_count": 51,
     "metadata": {},
     "output_type": "execute_result"
    }
   ],
   "source": [
    "#A partir de outras séries ou dicionários\n",
    "\n",
    "dicionario_dados = {\n",
    "    \"empresas\": pd.Series([\"Wege\", \"Vale\", \"Petrobras\"], index = [\"2019\", \"2020\", \"2021\"]), \n",
    "    \"price\": pd.Series([20, 30, 40], index = [\"2019\", \"2020\", \"2021\"]),\n",
    "    \"volume\": pd.Series([1000, 4000, 7500], index = [\"2019\", \"2020\", \"2021\"])\n",
    "}\n",
    "\n",
    "dados_diarios = pd.DataFrame(dicionario_dados)\n",
    "\n",
    "dados_diarios"
   ]
  },
  {
   "cell_type": "code",
   "execution_count": 52,
   "metadata": {},
   "outputs": [
    {
     "data": {
      "text/html": [
       "<div>\n",
       "<style scoped>\n",
       "    .dataframe tbody tr th:only-of-type {\n",
       "        vertical-align: middle;\n",
       "    }\n",
       "\n",
       "    .dataframe tbody tr th {\n",
       "        vertical-align: top;\n",
       "    }\n",
       "\n",
       "    .dataframe thead th {\n",
       "        text-align: right;\n",
       "    }\n",
       "</style>\n",
       "<table border=\"1\" class=\"dataframe\">\n",
       "  <thead>\n",
       "    <tr style=\"text-align: right;\">\n",
       "      <th></th>\n",
       "      <th>empresas</th>\n",
       "      <th>price</th>\n",
       "      <th>volume</th>\n",
       "    </tr>\n",
       "  </thead>\n",
       "  <tbody>\n",
       "    <tr>\n",
       "      <th>2019</th>\n",
       "      <td>Wege</td>\n",
       "      <td>20</td>\n",
       "      <td>1000</td>\n",
       "    </tr>\n",
       "    <tr>\n",
       "      <th>2020</th>\n",
       "      <td>Vale</td>\n",
       "      <td>30</td>\n",
       "      <td>4000</td>\n",
       "    </tr>\n",
       "    <tr>\n",
       "      <th>2021</th>\n",
       "      <td>Petrobras</td>\n",
       "      <td>40</td>\n",
       "      <td>7500</td>\n",
       "    </tr>\n",
       "  </tbody>\n",
       "</table>\n",
       "</div>"
      ],
      "text/plain": [
       "       empresas  price  volume\n",
       "2019       Wege     20    1000\n",
       "2020       Vale     30    4000\n",
       "2021  Petrobras     40    7500"
      ]
     },
     "execution_count": 52,
     "metadata": {},
     "output_type": "execute_result"
    }
   ],
   "source": [
    "dicionario_dados = {\n",
    "    \"empresas\": [\"Wege\", \"Vale\", \"Petrobras\"],\n",
    "    \"price\": [20, 30, 40],\n",
    "    \"volume\": [1000, 4000, 7500]\n",
    "}\n",
    "\n",
    "dados_diarios_from_dict = pd.DataFrame(dicionario_dados, index = [\"2019\", \"2020\", \"2021\"])\n",
    "\n",
    "dados_diarios_from_dict"
   ]
  },
  {
   "cell_type": "code",
   "execution_count": 53,
   "metadata": {},
   "outputs": [
    {
     "data": {
      "text/html": [
       "<div>\n",
       "<style scoped>\n",
       "    .dataframe tbody tr th:only-of-type {\n",
       "        vertical-align: middle;\n",
       "    }\n",
       "\n",
       "    .dataframe tbody tr th {\n",
       "        vertical-align: top;\n",
       "    }\n",
       "\n",
       "    .dataframe thead th {\n",
       "        text-align: right;\n",
       "    }\n",
       "</style>\n",
       "<table border=\"1\" class=\"dataframe\">\n",
       "  <thead>\n",
       "    <tr style=\"text-align: right;\">\n",
       "      <th></th>\n",
       "      <th>cotacao</th>\n",
       "      <th>dia</th>\n",
       "    </tr>\n",
       "  </thead>\n",
       "  <tbody>\n",
       "    <tr>\n",
       "      <th>0</th>\n",
       "      <td>20</td>\n",
       "      <td>2019-12-21</td>\n",
       "    </tr>\n",
       "  </tbody>\n",
       "</table>\n",
       "</div>"
      ],
      "text/plain": [
       "   cotacao         dia\n",
       "0       20  2019-12-21"
      ]
     },
     "execution_count": 53,
     "metadata": {},
     "output_type": "execute_result"
    }
   ],
   "source": [
    "#cuidado\n",
    "\n",
    "dado = {\"cotacao\": 20, \"dia\": \"2019-12-21\"}\n",
    "\n",
    "dataframe = pd.DataFrame(dado, index = [0])\n",
    "\n",
    "dataframe"
   ]
  },
  {
   "cell_type": "markdown",
   "metadata": {},
   "source": [
    "# Exercícios\n",
    "\n",
    "* Exercício 34: Crie uma série de numeros.   \n",
    "* Exercício 35: Crie uma série de cotação randomica (random walk) para os próximos 30 dias de uma ação, partindo do preço inicial definido pelo usuário. Pressuponha que a média de retornos da ação é zero e seu desvio padrão diário (volatilidade) é de 1%.  \n",
    "* Exercício 36: Crie um DataFrame com as seguintes informações:\n",
    "       tickers: “WEGE3”, \"PETR3\", \"VALE3\", \"PETR4\" e \"LREN3\"\n",
    "       cotacoes: 20, 30, 40, 12, 35  \n",
    "       nomes: \"Weg\", \"Petrobras\", \"Vale\", \"Petrobras\" e \"Lojas Renner\"\n",
    "       preco_sobre_lucro: 25, 6, 12, 7, 25  \n",
    "       volume: 5000, 1000, 4000, 7000, 1200\n",
    "       "
   ]
  },
  {
   "cell_type": "markdown",
   "metadata": {},
   "source": [
    "* Exercício 34: Crie uma série de numeros.   \n"
   ]
  },
  {
   "cell_type": "code",
   "execution_count": 54,
   "metadata": {},
   "outputs": [
    {
     "name": "stdout",
     "output_type": "stream",
     "text": [
      "n = [69 19]\n",
      "n = [ 0.41596364  1.15258936  1.06528755  0.79462093  0.63368377 -1.05102042\n",
      "  1.65081734  0.07171434  0.45749057  0.4933761   1.38299091  1.27748271\n",
      " -1.83129733 -0.51099694 -1.19284944 -0.30823385 -1.79935997  0.62317368\n",
      "  0.47091956 -0.35641407 -0.02335243 -0.33856542  1.8481511   0.50556674\n",
      " -0.95856933  0.04657898 -0.36995653  0.22092621 -0.3951428  -0.95106901\n",
      " -0.6255488  -0.4601702   0.42624736  0.1539871  -1.45897888  0.64991603\n",
      " -0.01529668  0.02696314  0.90774942 -0.21828263 -0.39644372 -0.69343508\n",
      "  0.47308031  0.70384194  1.56122672 -1.2533319   0.31488067  0.45851172\n",
      "  0.16011055  2.15506347 -2.18249781  1.32495394 -1.17777684  0.55989825\n",
      " -0.43791128 -0.73270452 -0.55676944  0.38195089  0.20809784  1.48510338\n",
      "  0.65347979 -0.03523739  0.76289799  1.35068613  0.57553966  0.24365257\n",
      "  1.21210393  0.83465584 -1.60482088  0.31558481 -0.99372719  0.72701302\n",
      " -0.21248869 -0.12981719 -1.35289862 -0.42275119  0.42355747  0.19227254\n",
      "  0.16903997  0.64606145  0.36709802  1.4909855   0.35113391  0.49641269\n",
      "  0.64203795 -0.19209843 -0.46645291  1.27460501 -0.37473297  1.46013887\n",
      "  0.2747069   1.61519808  0.07868692 -0.66508729  0.33038761 -0.27034429\n",
      " -0.08239596 -0.36253276 -0.43595569 -0.42885401]\n"
     ]
    }
   ],
   "source": [
    "import pandas as pd \n",
    "import numpy as np\n",
    "print(f\"n = {np.random.randint(0,100,2)}\")\n",
    "print(f\"n = {np.random.randn(100)}\")\n",
    "#serie_numeros = pd.Series(np.random.randint(0,100))"
   ]
  },
  {
   "cell_type": "markdown",
   "metadata": {},
   "source": [
    "* Exercício 35: Crie uma série de cotação randomica (random walk) para os próximos 30 dias de uma ação, partindo do preço inicial definido pelo usuário. Pressuponha que a média de retornos da ação é zero e seu desvio padrão diário (volatilidade) é de 1%.  "
   ]
  },
  {
   "cell_type": "code",
   "execution_count": 55,
   "metadata": {},
   "outputs": [
    {
     "name": "stdout",
     "output_type": "stream",
     "text": [
      "[-0.00781487  0.00398417  0.01064316  0.00021888  0.00186724 -0.00093071\n",
      "  0.01536458 -0.01379385  0.01260548  0.00590754 -0.00793198 -0.00546176\n",
      "  0.01394435  0.00679209  0.00351555 -0.02549013  0.00282076  0.0025095\n",
      " -0.00088119  0.00923992 -0.02381371  0.00636587  0.00220521 -0.01144278\n",
      "  0.00863318  0.01030578 -0.00164663  0.00489507 -0.00691042 -0.00608569]\n",
      "       Preco\n",
      "0   1.000000\n",
      "1   0.992185\n",
      "2   0.996138\n",
      "3   1.006740\n",
      "4   1.006961\n",
      "5   1.008841\n",
      "6   1.007902\n",
      "7   1.023388\n",
      "8   1.009271\n",
      "9   1.021994\n",
      "10  1.028031\n",
      "11  1.019877\n",
      "12  1.014307\n",
      "13  1.028450\n",
      "14  1.035436\n",
      "15  1.039076\n",
      "16  1.012590\n",
      "17  1.015446\n",
      "18  1.017994\n",
      "19  1.017097\n",
      "20  1.026495\n",
      "21  1.002050\n",
      "22  1.008429\n",
      "23  1.010653\n",
      "24  0.999088\n",
      "25  1.007714\n",
      "26  1.018099\n",
      "27  1.016423\n",
      "28  1.021398\n",
      "29  1.014340\n",
      "30  1.008167\n"
     ]
    }
   ],
   "source": [
    "import pandas as pd \n",
    "import numpy as np\n",
    "def gerar_random_walk(preco_inicial:float, dias:int = 30, votalidade:float = 0.01 ):\n",
    "    \n",
    "    \n",
    "    \n",
    "    retornos = np.random.normal(loc=0, scale = votalidade, size = dias )\n",
    "    print(retornos)\n",
    "    precos = [preco_inicial]\n",
    "    \n",
    "    for r in retornos:\n",
    "        novo_preco = precos[-1]*(1+r)\n",
    "        precos.append(novo_preco)\n",
    "        \n",
    "    return precos\n",
    "\n",
    "\n",
    "\n",
    "preco_inicial = float(input(\"Digite o preço da ação:\"))\n",
    "\n",
    "caminho_precos = gerar_random_walk(preco_inicial=preco_inicial)\n",
    "\n",
    "df_precos = pd.DataFrame({\n",
    "\n",
    "    \"Preco\": caminho_precos\n",
    "    \n",
    "    \n",
    "}, index=range(31))\n",
    "\n",
    "\n",
    "\n",
    "print(df_precos)\n",
    "\n",
    "\n",
    "        \n",
    "        \n",
    "    \n",
    "    "
   ]
  },
  {
   "cell_type": "code",
   "execution_count": 56,
   "metadata": {},
   "outputs": [
    {
     "data": {
      "text/plain": [
       "<Axes: >"
      ]
     },
     "execution_count": 56,
     "metadata": {},
     "output_type": "execute_result"
    },
    {
     "data": {
      "image/png": "[encoded data removed]",
      "text/plain": [
       "<Figure size 640x480 with 1 Axes>"
      ]
     },
     "metadata": {},
     "output_type": "display_data"
    }
   ],
   "source": [
    "df_precos.plot()"
   ]
  },
  {
   "cell_type": "markdown",
   "metadata": {},
   "source": [
    "* Exercício 36: Crie um DataFrame com as seguintes informações:\n",
    "       tickers: “WEGE3”, \"PETR3\", \"VALE3\", \"PETR4\" e \"LREN3\"\n",
    "       cotacoes: 20, 30, 40, 12, 35  \n",
    "       nomes: \"Weg\", \"Petrobras\", \"Vale\", \"Petrobras\" e \"Lojas Renner\"\n",
    "       preco_sobre_lucro: 25, 6, 12, 7, 25  \n",
    "       volume: 5000, 1000, 4000, 7000, 1200"
   ]
  },
  {
   "cell_type": "code",
   "execution_count": 57,
   "metadata": {},
   "outputs": [
    {
     "name": "stdout",
     "output_type": "stream",
     "text": [
      "      volume  price  preco_sobre_lucro ticker\n",
      "2019    5000     20                 25  WEGE3\n",
      "2020    1000     30                  6  PETR3\n",
      "2021    4000     40                 12  VALE3\n",
      "2022    7000     12                  7  PETR4\n",
      "2023    1200     35                 25  LREN3\n"
     ]
    }
   ],
   "source": [
    "\n",
    "dicionario_dados = {\n",
    "    \"ticker\":[\"WEGE3\",\"PETR3\",\"VALE3\",\"PETR4\",\"LREN3\"],\n",
    "    \"price\":[20,30,40,12,35],\n",
    "    \"nome\": [\"Weg\", \"Petrobras\", \"Vale\", \"Petrobras\", \"Lojas Renner\"],\n",
    "    \"preco_sobre_lucro\": [25, 6, 12, 7, 25],  \n",
    "    \"volume\": [5000, 1000, 4000, 7000, 1200]\n",
    "    \n",
    "}\n",
    "\n",
    "\n",
    "\n",
    "\n",
    "\n",
    "dados_diarios_from_dict = pd.DataFrame(dicionario_dados, index = [\"2019\", \"2020\", \"2021\",\"2022\",\"2023\"],\n",
    "                                      columns = [\"volume\", \"price\", \"preco_sobre_lucro\",\"ticker\"])\n",
    "\n",
    "print(dados_diarios_from_dict)"
   ]
  },
  {
   "cell_type": "markdown",
   "metadata": {},
   "source": [
    "# Mundo 3"
   ]
  },
  {
   "cell_type": "code",
   "execution_count": 58,
   "metadata": {},
   "outputs": [],
   "source": [
    "import pandas as pd"
   ]
  },
  {
   "cell_type": "code",
   "execution_count": 59,
   "metadata": {},
   "outputs": [
    {
     "name": "stdout",
     "output_type": "stream",
     "text": [
      "Index(['America_do_sul', 'Europa', 'Oceania'], dtype='object')\n"
     ]
    },
    {
     "data": {
      "text/plain": [
       "'Europa'"
      ]
     },
     "execution_count": 59,
     "metadata": {},
     "output_type": "execute_result"
    }
   ],
   "source": [
    "#como criar um indice\n",
    "\n",
    "serie = pd.Series([\"Brasil\", \"França\", \"Austrália\"], \n",
    "                  index = [\"America_do_sul\", \"Europa\", \"Oceania\"])\n",
    "\n",
    "print(serie.index) #-> acessar a partir do atributo\n",
    "serie.index[1]"
   ]
  },
  {
   "cell_type": "code",
   "execution_count": 60,
   "metadata": {},
   "outputs": [
    {
     "name": "stdout",
     "output_type": "stream",
     "text": [
      "     empresa  cotacao\n",
      "0        Weg    20.54\n",
      "1  Petrobras    20.00\n",
      "2       Vale    40.00\n"
     ]
    },
    {
     "data": {
      "text/html": [
       "<div>\n",
       "<style scoped>\n",
       "    .dataframe tbody tr th:only-of-type {\n",
       "        vertical-align: middle;\n",
       "    }\n",
       "\n",
       "    .dataframe tbody tr th {\n",
       "        vertical-align: top;\n",
       "    }\n",
       "\n",
       "    .dataframe thead th {\n",
       "        text-align: right;\n",
       "    }\n",
       "</style>\n",
       "<table border=\"1\" class=\"dataframe\">\n",
       "  <thead>\n",
       "    <tr style=\"text-align: right;\">\n",
       "      <th></th>\n",
       "      <th>cotacao</th>\n",
       "    </tr>\n",
       "    <tr>\n",
       "      <th>empresa</th>\n",
       "      <th></th>\n",
       "    </tr>\n",
       "  </thead>\n",
       "  <tbody>\n",
       "    <tr>\n",
       "      <th>Weg</th>\n",
       "      <td>20.54</td>\n",
       "    </tr>\n",
       "    <tr>\n",
       "      <th>Petrobras</th>\n",
       "      <td>20.00</td>\n",
       "    </tr>\n",
       "    <tr>\n",
       "      <th>Vale</th>\n",
       "      <td>40.00</td>\n",
       "    </tr>\n",
       "  </tbody>\n",
       "</table>\n",
       "</div>"
      ],
      "text/plain": [
       "           cotacao\n",
       "empresa           \n",
       "Weg          20.54\n",
       "Petrobras    20.00\n",
       "Vale         40.00"
      ]
     },
     "execution_count": 60,
     "metadata": {},
     "output_type": "execute_result"
    }
   ],
   "source": [
    "#como colocar uma coluna como indice\n",
    "\n",
    "dicionario = {\"empresa\": [\"Weg\", \"Petrobras\", \"Vale\"], \"cotacao\": [20.54, 20, 40]}\n",
    "\n",
    "dataframe = pd.DataFrame(dicionario)\n",
    "\n",
    "print(dataframe)\n",
    "\n",
    "dataframe = dataframe.set_index(\"empresa\")\n",
    "\n",
    "dataframe"
   ]
  },
  {
   "cell_type": "code",
   "execution_count": 61,
   "metadata": {},
   "outputs": [
    {
     "name": "stdout",
     "output_type": "stream",
     "text": [
      "     empresa  cotacao\n",
      "0        Weg    20.54\n",
      "1  Petrobras    20.00\n",
      "2       Vale    40.00\n"
     ]
    },
    {
     "data": {
      "text/html": [
       "<div>\n",
       "<style scoped>\n",
       "    .dataframe tbody tr th:only-of-type {\n",
       "        vertical-align: middle;\n",
       "    }\n",
       "\n",
       "    .dataframe tbody tr th {\n",
       "        vertical-align: top;\n",
       "    }\n",
       "\n",
       "    .dataframe thead th {\n",
       "        text-align: right;\n",
       "    }\n",
       "</style>\n",
       "<table border=\"1\" class=\"dataframe\">\n",
       "  <thead>\n",
       "    <tr style=\"text-align: right;\">\n",
       "      <th></th>\n",
       "      <th>empresa</th>\n",
       "      <th>cotacao</th>\n",
       "    </tr>\n",
       "  </thead>\n",
       "  <tbody>\n",
       "    <tr>\n",
       "      <th>a</th>\n",
       "      <td>Weg</td>\n",
       "      <td>20.54</td>\n",
       "    </tr>\n",
       "    <tr>\n",
       "      <th>b</th>\n",
       "      <td>Petrobras</td>\n",
       "      <td>20.00</td>\n",
       "    </tr>\n",
       "    <tr>\n",
       "      <th>c</th>\n",
       "      <td>Vale</td>\n",
       "      <td>40.00</td>\n",
       "    </tr>\n",
       "  </tbody>\n",
       "</table>\n",
       "</div>"
      ],
      "text/plain": [
       "     empresa  cotacao\n",
       "a        Weg    20.54\n",
       "b  Petrobras    20.00\n",
       "c       Vale    40.00"
      ]
     },
     "execution_count": 61,
     "metadata": {},
     "output_type": "execute_result"
    }
   ],
   "source": [
    "#como criar um novo index, do zero ou de forma aleatória\n",
    "\n",
    "dataframe = dataframe.reset_index()\n",
    "\n",
    "print(dataframe)\n",
    "\n",
    "dataframe.index = ['a', 'b', 'c']\n",
    "\n",
    "dataframe"
   ]
  },
  {
   "cell_type": "code",
   "execution_count": 62,
   "metadata": {},
   "outputs": [
    {
     "name": "stdout",
     "output_type": "stream",
     "text": [
      "DatetimeIndex(['2000-01-04', '2000-01-05', '2000-01-06', '2000-01-07'], dtype='datetime64[ns]', freq='D')\n"
     ]
    },
    {
     "name": "stderr",
     "output_type": "stream",
     "text": [
      "/tmp/ipykernel_64356/245816401.py:7: FutureWarning: 'M' is deprecated and will be removed in a future version, please use 'ME' instead.\n",
      "  fim_mes = pd.date_range(start = \"1/1/2000\", end = \"31/12/2000\", freq = \"M\")\n"
     ]
    },
    {
     "data": {
      "text/plain": [
       "DatetimeIndex(['2000-01-31', '2000-02-29', '2000-03-31', '2000-04-30',\n",
       "               '2000-05-31', '2000-06-30', '2000-07-31', '2000-08-31',\n",
       "               '2000-09-30', '2000-10-31', '2000-11-30', '2000-12-31'],\n",
       "              dtype='datetime64[ns]', freq='ME')"
      ]
     },
     "execution_count": 62,
     "metadata": {},
     "output_type": "execute_result"
    }
   ],
   "source": [
    "#como criar um range de data como um indice\n",
    "\n",
    "quatro_dias = pd.date_range(\"1/4/2000\", periods = 4)\n",
    "\n",
    "print(quatro_dias)\n",
    "\n",
    "fim_mes = pd.date_range(start = \"1/1/2000\", end = \"31/12/2000\", freq = \"M\")\n",
    "\n",
    "fim_mes"
   ]
  },
  {
   "cell_type": "code",
   "execution_count": 63,
   "metadata": {},
   "outputs": [
    {
     "name": "stdout",
     "output_type": "stream",
     "text": [
      "DatetimeIndex(['2000-01-31', '2000-02-29', '2000-03-31', '2000-04-30'], dtype='datetime64[ns]', freq='ME')\n",
      "            cotacao\n",
      "2000-01-31    20.54\n",
      "2000-02-29    20.00\n",
      "2000-03-31    21.00\n",
      "2000-04-30    22.00\n"
     ]
    },
    {
     "name": "stderr",
     "output_type": "stream",
     "text": [
      "/tmp/ipykernel_64356/2713522762.py:1: FutureWarning: 'M' is deprecated and will be removed in a future version, please use 'ME' instead.\n",
      "  fim_mes_weg = pd.date_range(start = \"1/1/2000\", end = \"30/4/2000\", freq = \"M\")\n"
     ]
    }
   ],
   "source": [
    "fim_mes_weg = pd.date_range(start = \"1/1/2000\", end = \"30/4/2000\", freq = \"M\")\n",
    "\n",
    "print(fim_mes_weg)\n",
    "\n",
    "dicionario = {\"cotacao\": [20.54, 20, 21, 22]}\n",
    "              \n",
    "cotacao_weg = pd.DataFrame(dicionario, index = fim_mes_weg)\n",
    "\n",
    "print(cotacao_weg)"
   ]
  },
  {
   "cell_type": "markdown",
   "metadata": {},
   "source": [
    "## Exercícios"
   ]
  },
  {
   "cell_type": "markdown",
   "metadata": {},
   "source": [
    "* Exercício 37: Crie um dataframe que as colunas tenham informações fictícias de cotações, volumes e a data de cada dado. Utilize pd.date_range para criar a coluna de datas."
   ]
  },
  {
   "cell_type": "code",
   "execution_count": 64,
   "metadata": {},
   "outputs": [
    {
     "name": "stdout",
     "output_type": "stream",
     "text": [
      "     empresa  cotacao       data\n",
      "0        Weg    20.54 2024-12-15\n",
      "1  Petrobras    20.00 2024-12-16\n",
      "2       Vale    40.00 2024-12-17\n"
     ]
    }
   ],
   "source": [
    "\n",
    "\n",
    "\n",
    "tres_dias = pd.date_range(\"15/12/2024\", periods = 3)\n",
    "\n",
    "dicionario = {\"empresa\": [\"Weg\", \"Petrobras\", \"Vale\",],\n",
    "              \"cotacao\": [20.54, 20, 40],\n",
    "              \"data\" : tres_dias \n",
    "              }\n",
    "\n",
    "df = pd.DataFrame(dicionario)\n",
    "#df = pd.DataFrame(dicionario,index= tres_dias)\n",
    "\n",
    "\n",
    "print(df)\n"
   ]
  },
  {
   "cell_type": "markdown",
   "metadata": {},
   "source": [
    "* Exercício 38: Converta a coluna \"datas\" para índice. \n"
   ]
  },
  {
   "cell_type": "code",
   "execution_count": 65,
   "metadata": {},
   "outputs": [
    {
     "name": "stdout",
     "output_type": "stream",
     "text": [
      "              empresa  cotacao\n",
      "data                          \n",
      "2024-12-15        Weg    20.54\n",
      "2024-12-16  Petrobras    20.00\n",
      "2024-12-17       Vale    40.00\n"
     ]
    }
   ],
   "source": [
    "#df.reset_index()\n",
    "df = df.set_index(\"data\")\n",
    "print(df)"
   ]
  },
  {
   "cell_type": "markdown",
   "metadata": {},
   "source": [
    "* Exercício 39: Converta a coluna \"tickers\" do dataframe do exercício 36 como índice. "
   ]
  },
  {
   "cell_type": "code",
   "execution_count": 66,
   "metadata": {},
   "outputs": [
    {
     "data": {
      "text/html": [
       "<div>\n",
       "<style scoped>\n",
       "    .dataframe tbody tr th:only-of-type {\n",
       "        vertical-align: middle;\n",
       "    }\n",
       "\n",
       "    .dataframe tbody tr th {\n",
       "        vertical-align: top;\n",
       "    }\n",
       "\n",
       "    .dataframe thead th {\n",
       "        text-align: right;\n",
       "    }\n",
       "</style>\n",
       "<table border=\"1\" class=\"dataframe\">\n",
       "  <thead>\n",
       "    <tr style=\"text-align: right;\">\n",
       "      <th></th>\n",
       "      <th>nomes</th>\n",
       "      <th>cotacoes</th>\n",
       "      <th>preco_sobre_lucro</th>\n",
       "      <th>volume</th>\n",
       "    </tr>\n",
       "    <tr>\n",
       "      <th>tickers</th>\n",
       "      <th></th>\n",
       "      <th></th>\n",
       "      <th></th>\n",
       "      <th></th>\n",
       "    </tr>\n",
       "  </thead>\n",
       "  <tbody>\n",
       "    <tr>\n",
       "      <th>WEGE3</th>\n",
       "      <td>Weg</td>\n",
       "      <td>20</td>\n",
       "      <td>25</td>\n",
       "      <td>5000</td>\n",
       "    </tr>\n",
       "    <tr>\n",
       "      <th>PETR3</th>\n",
       "      <td>Petrobras</td>\n",
       "      <td>30</td>\n",
       "      <td>6</td>\n",
       "      <td>1000</td>\n",
       "    </tr>\n",
       "    <tr>\n",
       "      <th>VALE3</th>\n",
       "      <td>Vale</td>\n",
       "      <td>40</td>\n",
       "      <td>12</td>\n",
       "      <td>4000</td>\n",
       "    </tr>\n",
       "    <tr>\n",
       "      <th>PETR4</th>\n",
       "      <td>Petrobras</td>\n",
       "      <td>12</td>\n",
       "      <td>7</td>\n",
       "      <td>7000</td>\n",
       "    </tr>\n",
       "    <tr>\n",
       "      <th>LREN3</th>\n",
       "      <td>Lojas Renner</td>\n",
       "      <td>35</td>\n",
       "      <td>25</td>\n",
       "      <td>1200</td>\n",
       "    </tr>\n",
       "  </tbody>\n",
       "</table>\n",
       "</div>"
      ],
      "text/plain": [
       "                nomes  cotacoes  preco_sobre_lucro  volume\n",
       "tickers                                                   \n",
       "WEGE3             Weg        20                 25    5000\n",
       "PETR3       Petrobras        30                  6    1000\n",
       "VALE3            Vale        40                 12    4000\n",
       "PETR4       Petrobras        12                  7    7000\n",
       "LREN3    Lojas Renner        35                 25    1200"
      ]
     },
     "execution_count": 66,
     "metadata": {},
     "output_type": "execute_result"
    }
   ],
   "source": [
    "#gabarito 39\n",
    "\n",
    "dicionario = {\n",
    "       \"nomes\": [\"Weg\", \"Petrobras\", \"Vale\", \"Petrobras\", \"Lojas Renner\"],\n",
    "       \"tickers\": [\"WEGE3\", \"PETR3\", \"VALE3\", \"PETR4\", \"LREN3\"],  \n",
    "       \"cotacoes\": [20, 30, 40, 12, 35],\n",
    "       \"preco_sobre_lucro\": [25, 6, 12, 7, 25],  \n",
    "       \"volume\": [5000, 1000, 4000, 7000, 1200]\n",
    "}\n",
    "\n",
    "df_info_empresas = pd.DataFrame(dicionario)\n",
    "\n",
    "df_info_empresas = df_info_empresas.set_index(\"tickers\")\n",
    "\n",
    "df_info_empresas\n"
   ]
  },
  {
   "cell_type": "markdown",
   "metadata": {},
   "source": [
    "# Mundo 4"
   ]
  },
  {
   "cell_type": "code",
   "execution_count": 67,
   "metadata": {},
   "outputs": [],
   "source": [
    "import pandas as pd"
   ]
  },
  {
   "cell_type": "code",
   "execution_count": 68,
   "metadata": {},
   "outputs": [
    {
     "data": {
      "text/html": [
       "<div>\n",
       "<style scoped>\n",
       "    .dataframe tbody tr th:only-of-type {\n",
       "        vertical-align: middle;\n",
       "    }\n",
       "\n",
       "    .dataframe tbody tr th {\n",
       "        vertical-align: top;\n",
       "    }\n",
       "\n",
       "    .dataframe thead th {\n",
       "        text-align: right;\n",
       "    }\n",
       "</style>\n",
       "<table border=\"1\" class=\"dataframe\">\n",
       "  <thead>\n",
       "    <tr style=\"text-align: right;\">\n",
       "      <th></th>\n",
       "      <th>moeda</th>\n",
       "      <th>price</th>\n",
       "      <th>data</th>\n",
       "    </tr>\n",
       "  </thead>\n",
       "  <tbody>\n",
       "    <tr>\n",
       "      <th>0</th>\n",
       "      <td>dolar/real</td>\n",
       "      <td>5.24</td>\n",
       "      <td>2014-01-05</td>\n",
       "    </tr>\n",
       "    <tr>\n",
       "      <th>1</th>\n",
       "      <td>libra/real</td>\n",
       "      <td>4.15</td>\n",
       "      <td>2014-01-05</td>\n",
       "    </tr>\n",
       "    <tr>\n",
       "      <th>2</th>\n",
       "      <td>dolar/real</td>\n",
       "      <td>5.26</td>\n",
       "      <td>2014-01-06</td>\n",
       "    </tr>\n",
       "    <tr>\n",
       "      <th>3</th>\n",
       "      <td>libra/real</td>\n",
       "      <td>4.23</td>\n",
       "      <td>2014-01-06</td>\n",
       "    </tr>\n",
       "  </tbody>\n",
       "</table>\n",
       "</div>"
      ],
      "text/plain": [
       "        moeda  price       data\n",
       "0  dolar/real   5.24 2014-01-05\n",
       "1  libra/real   4.15 2014-01-05\n",
       "2  dolar/real   5.26 2014-01-06\n",
       "3  libra/real   4.23 2014-01-06"
      ]
     },
     "execution_count": 68,
     "metadata": {},
     "output_type": "execute_result"
    }
   ],
   "source": [
    "df_cambio = pd.DataFrame({\n",
    "    \"moeda\": ['dolar/real', 'libra/real'] * 2,\n",
    "    \"price\": [5.24, 4.15, 5.26, 4.23],\n",
    "    \"data\": sorted(list(pd.date_range(\"1/5/2014\", periods = 2)) * 2)\n",
    "})\n",
    "\n",
    "df_cambio"
   ]
  },
  {
   "cell_type": "code",
   "execution_count": 69,
   "metadata": {},
   "outputs": [
    {
     "data": {
      "text/html": [
       "<div>\n",
       "<style scoped>\n",
       "    .dataframe tbody tr th:only-of-type {\n",
       "        vertical-align: middle;\n",
       "    }\n",
       "\n",
       "    .dataframe tbody tr th {\n",
       "        vertical-align: top;\n",
       "    }\n",
       "\n",
       "    .dataframe thead th {\n",
       "        text-align: right;\n",
       "    }\n",
       "</style>\n",
       "<table border=\"1\" class=\"dataframe\">\n",
       "  <thead>\n",
       "    <tr style=\"text-align: right;\">\n",
       "      <th></th>\n",
       "      <th>moeda</th>\n",
       "      <th>cotacao</th>\n",
       "      <th>data</th>\n",
       "    </tr>\n",
       "  </thead>\n",
       "  <tbody>\n",
       "    <tr>\n",
       "      <th>0</th>\n",
       "      <td>dolar/real</td>\n",
       "      <td>5.24</td>\n",
       "      <td>2014-01-05</td>\n",
       "    </tr>\n",
       "    <tr>\n",
       "      <th>1</th>\n",
       "      <td>libra/real</td>\n",
       "      <td>4.15</td>\n",
       "      <td>2014-01-05</td>\n",
       "    </tr>\n",
       "    <tr>\n",
       "      <th>2</th>\n",
       "      <td>dolar/real</td>\n",
       "      <td>5.26</td>\n",
       "      <td>2014-01-06</td>\n",
       "    </tr>\n",
       "    <tr>\n",
       "      <th>3</th>\n",
       "      <td>libra/real</td>\n",
       "      <td>4.23</td>\n",
       "      <td>2014-01-06</td>\n",
       "    </tr>\n",
       "  </tbody>\n",
       "</table>\n",
       "</div>"
      ],
      "text/plain": [
       "        moeda  cotacao       data\n",
       "0  dolar/real     5.24 2014-01-05\n",
       "1  libra/real     4.15 2014-01-05\n",
       "2  dolar/real     5.26 2014-01-06\n",
       "3  libra/real     4.23 2014-01-06"
      ]
     },
     "execution_count": 69,
     "metadata": {},
     "output_type": "execute_result"
    }
   ],
   "source": [
    "#Como trocar o nome das colunas \n",
    "\n",
    "df_cambio.columns\n",
    "\n",
    "df_cambio.columns = ['moeda', 'cotacao', 'data']\n",
    "\n",
    "df_cambio"
   ]
  },
  {
   "cell_type": "code",
   "execution_count": 70,
   "metadata": {},
   "outputs": [
    {
     "data": {
      "text/plain": [
       "0    5.24\n",
       "1    4.15\n",
       "2    5.26\n",
       "3    4.23\n",
       "Name: cotacao, dtype: float64"
      ]
     },
     "execution_count": 70,
     "metadata": {},
     "output_type": "execute_result"
    }
   ],
   "source": [
    "#como selecionar colunas \n",
    "\n",
    "cotacao = df_cambio['cotacao'] #te devolve uma serie\n",
    "\n",
    "cotacao\n",
    "df_cambio.cotacao #pode selecionar colunas assim tambem"
   ]
  },
  {
   "cell_type": "code",
   "execution_count": 71,
   "metadata": {},
   "outputs": [
    {
     "name": "stdout",
     "output_type": "stream",
     "text": [
      "   cotacao       data\n",
      "0     5.24 2014-01-05\n",
      "1     4.15 2014-01-05\n",
      "2     5.26 2014-01-06\n",
      "3     4.23 2014-01-06\n"
     ]
    },
    {
     "data": {
      "text/plain": [
       "data\n",
       "2014-01-05    5.24\n",
       "2014-01-05    4.15\n",
       "2014-01-06    5.26\n",
       "2014-01-06    4.23\n",
       "Name: cotacao, dtype: float64"
      ]
     },
     "execution_count": 71,
     "metadata": {},
     "output_type": "execute_result"
    }
   ],
   "source": [
    "#2 colunas\n",
    "cotacao_e_data = df_cambio[['cotacao', 'data']] #lista dentro da lista\n",
    "\n",
    "print(cotacao_e_data)\n",
    "\n",
    "#vantagem da data como indice\n",
    "\n",
    "df_cambio = df_cambio.set_index(\"data\")\n",
    "\n",
    "cotacao = df_cambio['cotacao'] \n",
    "\n",
    "cotacao"
   ]
  },
  {
   "cell_type": "code",
   "execution_count": 72,
   "metadata": {},
   "outputs": [
    {
     "name": "stdout",
     "output_type": "stream",
     "text": [
      "                 moeda  cotacao\n",
      "data                           \n",
      "2014-01-05  libra/real     4.15\n",
      "2014-01-06  libra/real     4.23\n"
     ]
    },
    {
     "data": {
      "text/html": [
       "<div>\n",
       "<style scoped>\n",
       "    .dataframe tbody tr th:only-of-type {\n",
       "        vertical-align: middle;\n",
       "    }\n",
       "\n",
       "    .dataframe tbody tr th {\n",
       "        vertical-align: top;\n",
       "    }\n",
       "\n",
       "    .dataframe thead th {\n",
       "        text-align: right;\n",
       "    }\n",
       "</style>\n",
       "<table border=\"1\" class=\"dataframe\">\n",
       "  <thead>\n",
       "    <tr style=\"text-align: right;\">\n",
       "      <th></th>\n",
       "      <th>moeda</th>\n",
       "      <th>cotacao</th>\n",
       "    </tr>\n",
       "    <tr>\n",
       "      <th>data</th>\n",
       "      <th></th>\n",
       "      <th></th>\n",
       "    </tr>\n",
       "  </thead>\n",
       "  <tbody>\n",
       "    <tr>\n",
       "      <th>2014-01-05</th>\n",
       "      <td>dolar/real</td>\n",
       "      <td>5.24</td>\n",
       "    </tr>\n",
       "    <tr>\n",
       "      <th>2014-01-06</th>\n",
       "      <td>dolar/real</td>\n",
       "      <td>5.26</td>\n",
       "    </tr>\n",
       "  </tbody>\n",
       "</table>\n",
       "</div>"
      ],
      "text/plain": [
       "                 moeda  cotacao\n",
       "data                           \n",
       "2014-01-05  dolar/real     5.24\n",
       "2014-01-06  dolar/real     5.26"
      ]
     },
     "execution_count": 72,
     "metadata": {},
     "output_type": "execute_result"
    }
   ],
   "source": [
    "#selecionando colunas por condições\n",
    "\n",
    "cambio_menor_que_5 = df_cambio[df_cambio['cotacao'] < 5]\n",
    "\n",
    "print(cambio_menor_que_5)\n",
    "\n",
    "#selecionando o cambio\n",
    "\n",
    "cambio_dolar = df_cambio[df_cambio['moeda'] == 'dolar/real']\n",
    "\n",
    "cambio_dolar"
   ]
  },
  {
   "cell_type": "code",
   "execution_count": 73,
   "metadata": {},
   "outputs": [
    {
     "name": "stdout",
     "output_type": "stream",
     "text": [
      "                 moeda  cotacao\n",
      "data                           \n",
      "2014-01-06  dolar/real     5.26\n",
      "                 moeda  cotacao\n",
      "data                           \n",
      "2014-01-05  libra/real     4.15\n",
      "2014-01-06  dolar/real     5.26\n",
      "2014-01-06  libra/real     4.23\n"
     ]
    },
    {
     "data": {
      "text/html": [
       "<div>\n",
       "<style scoped>\n",
       "    .dataframe tbody tr th:only-of-type {\n",
       "        vertical-align: middle;\n",
       "    }\n",
       "\n",
       "    .dataframe tbody tr th {\n",
       "        vertical-align: top;\n",
       "    }\n",
       "\n",
       "    .dataframe thead th {\n",
       "        text-align: right;\n",
       "    }\n",
       "</style>\n",
       "<table border=\"1\" class=\"dataframe\">\n",
       "  <thead>\n",
       "    <tr style=\"text-align: right;\">\n",
       "      <th></th>\n",
       "      <th>moeda</th>\n",
       "      <th>cotacao</th>\n",
       "    </tr>\n",
       "    <tr>\n",
       "      <th>data</th>\n",
       "      <th></th>\n",
       "      <th></th>\n",
       "    </tr>\n",
       "  </thead>\n",
       "  <tbody>\n",
       "    <tr>\n",
       "      <th>2014-01-05</th>\n",
       "      <td>libra/real</td>\n",
       "      <td>4.15</td>\n",
       "    </tr>\n",
       "  </tbody>\n",
       "</table>\n",
       "</div>"
      ],
      "text/plain": [
       "                 moeda  cotacao\n",
       "data                           \n",
       "2014-01-05  libra/real     4.15"
      ]
     },
     "execution_count": 73,
     "metadata": {},
     "output_type": "execute_result"
    }
   ],
   "source": [
    "#selecionando duas condições ao mesmo tempo (operadores & e |)\n",
    "\n",
    "#dolar e maior que 5.25\n",
    "cambio_dolar_e_maior_que_525 = df_cambio[(df_cambio['moeda'] == 'dolar/real') &\n",
    "                                                      (df_cambio['cotacao'] > 5.25)]\n",
    "\n",
    "print(cambio_dolar_e_maior_que_525)\n",
    "\n",
    "#libra ou maior que 5.25\n",
    "cambio_libra_ou_maior_que_525 = df_cambio[(df_cambio['moeda'] == 'libra/real') |\n",
    "                                                      (df_cambio['cotacao'] > 5.25)]\n",
    "\n",
    "print(cambio_libra_ou_maior_que_525)\n",
    "\n",
    "\n",
    "#podemos filtrar o indice também\n",
    "\n",
    "#libra no dia 5 de janeiro de 2014\n",
    "\n",
    "libra_5_jan = df_cambio[(df_cambio['moeda'] == 'libra/real') &\n",
    "                        (df_cambio.index == \"2014-01-05\")]\n",
    "\n",
    "libra_5_jan"
   ]
  },
  {
   "cell_type": "markdown",
   "metadata": {},
   "source": [
    "# Exercícios\n",
    "\n",
    "* Exercício 40: Mude o nome da coluna do dataframe do exercício 39 de \"cotacoes\" para \"precos\".\n",
    "* Exercício 41: Selecione a coluna de preços do dataframe estudado.\n",
    "* Exercício 42: Selecione as duas últimas colunas do dataframe estudado.\n",
    "* Exercício 43: Selecione as informações da Petrobras no dataframe estudado.\n",
    "* Exercício 44: Selecione apenas empresas com P/L menor que 20.\n",
    "* Exercício 45: Selecione empresas com P/L maior que 10 e volume maior que 2000.\n",
    "* Exercício 46: Selecione empresas que a cotação seja maior que 20 ou o volume é maior que 4000."
   ]
  },
  {
   "cell_type": "markdown",
   "metadata": {},
   "source": [
    "* Exercício 40: Mude o nome da coluna do dataframe do exercício 39 de \"cotacoes\" para \"precos\".\n"
   ]
  },
  {
   "cell_type": "code",
   "execution_count": 127,
   "metadata": {},
   "outputs": [
    {
     "name": "stdout",
     "output_type": "stream",
     "text": [
      "          nomes tickers  cotacoes  preco_sobre_lucro  volume\n",
      "0           Weg   WEGE3        20                 25    5000\n",
      "1     Petrobras   PETR3        30                  6    1000\n",
      "2          Vale   VALE3        40                 12    4000\n",
      "3     Petrobras   PETR4        12                  7    7000\n",
      "4  Lojas Renner   LREN3        35                 25    1200\n",
      "          nomes tickers  precos  preco_sobre_lucro  volume\n",
      "0           Weg   WEGE3      20                 25    5000\n",
      "1     Petrobras   PETR3      30                  6    1000\n",
      "2          Vale   VALE3      40                 12    4000\n",
      "3     Petrobras   PETR4      12                  7    7000\n",
      "4  Lojas Renner   LREN3      35                 25    1200\n"
     ]
    }
   ],
   "source": [
    "import pandas as pd\n",
    "dicionario = {\n",
    "       \"nomes\": [\"Weg\", \"Petrobras\", \"Vale\", \"Petrobras\", \"Lojas Renner\"],\n",
    "       \"tickers\": [\"WEGE3\", \"PETR3\", \"VALE3\", \"PETR4\", \"LREN3\"],  \n",
    "       \"cotacoes\": [20, 30, 40, 12, 35],\n",
    "       \"preco_sobre_lucro\": [25, 6, 12, 7, 25],  \n",
    "       \"volume\": [5000, 1000, 4000, 7000, 1200]\n",
    "}\n",
    "\n",
    "df_empresas = pd.DataFrame(dicionario)\n",
    "index_cotacoes = df_empresas.columns.get_loc(\"cotacoes\") \n",
    "\n",
    "print(df_empresas)\n",
    "\n",
    "df_empresas.rename(columns={str(df_empresas.columns[index_cotacoes]): \"precos\"}, inplace=True)\n",
    "\n",
    "print(df_empresas)\n"
   ]
  },
  {
   "cell_type": "code",
   "execution_count": 95,
   "metadata": {},
   "outputs": [
    {
     "data": {
      "text/plain": [
       "0    20\n",
       "1    30\n",
       "2    40\n",
       "3    12\n",
       "4    35\n",
       "Name: precos, dtype: int64"
      ]
     },
     "execution_count": 95,
     "metadata": {},
     "output_type": "execute_result"
    }
   ],
   "source": [
    "df_empresas['precos']"
   ]
  },
  {
   "cell_type": "markdown",
   "metadata": {},
   "source": [
    "* Exercício 42: Selecione as duas últimas colunas do dataframe estudado.\n"
   ]
  },
  {
   "cell_type": "code",
   "execution_count": 120,
   "metadata": {},
   "outputs": [
    {
     "name": "stdout",
     "output_type": "stream",
     "text": [
      "   preco_sobre_lucro  volume\n",
      "0                 25    5000\n",
      "1                  6    1000\n",
      "2                 12    4000\n",
      "3                  7    7000\n",
      "4                 25    1200\n",
      "   preco_sobre_lucro  volume\n",
      "0                 25    5000\n",
      "1                  6    1000\n",
      "2                 12    4000\n",
      "3                  7    7000\n",
      "4                 25    1200\n"
     ]
    }
   ],
   "source": [
    "print(df_empresas[df_empresas.columns[-2:]])\n",
    "\n",
    "print(df_empresas.iloc[:,-2:])\n"
   ]
  },
  {
   "cell_type": "markdown",
   "metadata": {},
   "source": [
    "* Exercício 43: Selecione as informações da Petrobras no dataframe estudado.\n"
   ]
  },
  {
   "cell_type": "code",
   "execution_count": 121,
   "metadata": {},
   "outputs": [
    {
     "data": {
      "text/html": [
       "<div>\n",
       "<style scoped>\n",
       "    .dataframe tbody tr th:only-of-type {\n",
       "        vertical-align: middle;\n",
       "    }\n",
       "\n",
       "    .dataframe tbody tr th {\n",
       "        vertical-align: top;\n",
       "    }\n",
       "\n",
       "    .dataframe thead th {\n",
       "        text-align: right;\n",
       "    }\n",
       "</style>\n",
       "<table border=\"1\" class=\"dataframe\">\n",
       "  <thead>\n",
       "    <tr style=\"text-align: right;\">\n",
       "      <th></th>\n",
       "      <th>nomes</th>\n",
       "      <th>tickers</th>\n",
       "      <th>precos</th>\n",
       "      <th>preco_sobre_lucro</th>\n",
       "      <th>volume</th>\n",
       "    </tr>\n",
       "  </thead>\n",
       "  <tbody>\n",
       "    <tr>\n",
       "      <th>1</th>\n",
       "      <td>Petrobras</td>\n",
       "      <td>PETR3</td>\n",
       "      <td>30</td>\n",
       "      <td>6</td>\n",
       "      <td>1000</td>\n",
       "    </tr>\n",
       "    <tr>\n",
       "      <th>3</th>\n",
       "      <td>Petrobras</td>\n",
       "      <td>PETR4</td>\n",
       "      <td>12</td>\n",
       "      <td>7</td>\n",
       "      <td>7000</td>\n",
       "    </tr>\n",
       "  </tbody>\n",
       "</table>\n",
       "</div>"
      ],
      "text/plain": [
       "       nomes tickers  precos  preco_sobre_lucro  volume\n",
       "1  Petrobras   PETR3      30                  6    1000\n",
       "3  Petrobras   PETR4      12                  7    7000"
      ]
     },
     "execution_count": 121,
     "metadata": {},
     "output_type": "execute_result"
    }
   ],
   "source": [
    "df_empresas[df_empresas['nomes']=='Petrobras']"
   ]
  },
  {
   "cell_type": "markdown",
   "metadata": {},
   "source": [
    "* Exercício 44: Selecione apenas empresas com P/L menor que 20.\n"
   ]
  },
  {
   "cell_type": "code",
   "execution_count": 122,
   "metadata": {},
   "outputs": [
    {
     "data": {
      "text/html": [
       "<div>\n",
       "<style scoped>\n",
       "    .dataframe tbody tr th:only-of-type {\n",
       "        vertical-align: middle;\n",
       "    }\n",
       "\n",
       "    .dataframe tbody tr th {\n",
       "        vertical-align: top;\n",
       "    }\n",
       "\n",
       "    .dataframe thead th {\n",
       "        text-align: right;\n",
       "    }\n",
       "</style>\n",
       "<table border=\"1\" class=\"dataframe\">\n",
       "  <thead>\n",
       "    <tr style=\"text-align: right;\">\n",
       "      <th></th>\n",
       "      <th>nomes</th>\n",
       "      <th>tickers</th>\n",
       "      <th>precos</th>\n",
       "      <th>preco_sobre_lucro</th>\n",
       "      <th>volume</th>\n",
       "    </tr>\n",
       "  </thead>\n",
       "  <tbody>\n",
       "    <tr>\n",
       "      <th>1</th>\n",
       "      <td>Petrobras</td>\n",
       "      <td>PETR3</td>\n",
       "      <td>30</td>\n",
       "      <td>6</td>\n",
       "      <td>1000</td>\n",
       "    </tr>\n",
       "    <tr>\n",
       "      <th>2</th>\n",
       "      <td>Vale</td>\n",
       "      <td>VALE3</td>\n",
       "      <td>40</td>\n",
       "      <td>12</td>\n",
       "      <td>4000</td>\n",
       "    </tr>\n",
       "    <tr>\n",
       "      <th>3</th>\n",
       "      <td>Petrobras</td>\n",
       "      <td>PETR4</td>\n",
       "      <td>12</td>\n",
       "      <td>7</td>\n",
       "      <td>7000</td>\n",
       "    </tr>\n",
       "  </tbody>\n",
       "</table>\n",
       "</div>"
      ],
      "text/plain": [
       "       nomes tickers  precos  preco_sobre_lucro  volume\n",
       "1  Petrobras   PETR3      30                  6    1000\n",
       "2       Vale   VALE3      40                 12    4000\n",
       "3  Petrobras   PETR4      12                  7    7000"
      ]
     },
     "execution_count": 122,
     "metadata": {},
     "output_type": "execute_result"
    }
   ],
   "source": [
    "df_empresas[df_empresas['preco_sobre_lucro']<20]"
   ]
  },
  {
   "cell_type": "markdown",
   "metadata": {},
   "source": [
    "* Exercício 45: Selecione empresas com P/L maior que 10 e volume maior que 2000.\n"
   ]
  },
  {
   "cell_type": "code",
   "execution_count": 125,
   "metadata": {},
   "outputs": [
    {
     "data": {
      "text/html": [
       "<div>\n",
       "<style scoped>\n",
       "    .dataframe tbody tr th:only-of-type {\n",
       "        vertical-align: middle;\n",
       "    }\n",
       "\n",
       "    .dataframe tbody tr th {\n",
       "        vertical-align: top;\n",
       "    }\n",
       "\n",
       "    .dataframe thead th {\n",
       "        text-align: right;\n",
       "    }\n",
       "</style>\n",
       "<table border=\"1\" class=\"dataframe\">\n",
       "  <thead>\n",
       "    <tr style=\"text-align: right;\">\n",
       "      <th></th>\n",
       "      <th>nomes</th>\n",
       "      <th>tickers</th>\n",
       "      <th>precos</th>\n",
       "      <th>preco_sobre_lucro</th>\n",
       "      <th>volume</th>\n",
       "    </tr>\n",
       "  </thead>\n",
       "  <tbody>\n",
       "    <tr>\n",
       "      <th>0</th>\n",
       "      <td>Weg</td>\n",
       "      <td>WEGE3</td>\n",
       "      <td>20</td>\n",
       "      <td>25</td>\n",
       "      <td>5000</td>\n",
       "    </tr>\n",
       "    <tr>\n",
       "      <th>2</th>\n",
       "      <td>Vale</td>\n",
       "      <td>VALE3</td>\n",
       "      <td>40</td>\n",
       "      <td>12</td>\n",
       "      <td>4000</td>\n",
       "    </tr>\n",
       "  </tbody>\n",
       "</table>\n",
       "</div>"
      ],
      "text/plain": [
       "  nomes tickers  precos  preco_sobre_lucro  volume\n",
       "0   Weg   WEGE3      20                 25    5000\n",
       "2  Vale   VALE3      40                 12    4000"
      ]
     },
     "execution_count": 125,
     "metadata": {},
     "output_type": "execute_result"
    }
   ],
   "source": [
    "df_empresas[(df_empresas['preco_sobre_lucro'] > 10) & (df_empresas['volume'] > 2000)]"
   ]
  },
  {
   "cell_type": "markdown",
   "metadata": {},
   "source": [
    "* Exercício 46: Selecione empresas que a cotação seja maior que 20 ou o volume é maior que 4000."
   ]
  },
  {
   "cell_type": "code",
   "execution_count": 126,
   "metadata": {},
   "outputs": [
    {
     "data": {
      "text/html": [
       "<div>\n",
       "<style scoped>\n",
       "    .dataframe tbody tr th:only-of-type {\n",
       "        vertical-align: middle;\n",
       "    }\n",
       "\n",
       "    .dataframe tbody tr th {\n",
       "        vertical-align: top;\n",
       "    }\n",
       "\n",
       "    .dataframe thead th {\n",
       "        text-align: right;\n",
       "    }\n",
       "</style>\n",
       "<table border=\"1\" class=\"dataframe\">\n",
       "  <thead>\n",
       "    <tr style=\"text-align: right;\">\n",
       "      <th></th>\n",
       "      <th>nomes</th>\n",
       "      <th>tickers</th>\n",
       "      <th>precos</th>\n",
       "      <th>preco_sobre_lucro</th>\n",
       "      <th>volume</th>\n",
       "    </tr>\n",
       "  </thead>\n",
       "  <tbody>\n",
       "    <tr>\n",
       "      <th>0</th>\n",
       "      <td>Weg</td>\n",
       "      <td>WEGE3</td>\n",
       "      <td>20</td>\n",
       "      <td>25</td>\n",
       "      <td>5000</td>\n",
       "    </tr>\n",
       "    <tr>\n",
       "      <th>1</th>\n",
       "      <td>Petrobras</td>\n",
       "      <td>PETR3</td>\n",
       "      <td>30</td>\n",
       "      <td>6</td>\n",
       "      <td>1000</td>\n",
       "    </tr>\n",
       "    <tr>\n",
       "      <th>2</th>\n",
       "      <td>Vale</td>\n",
       "      <td>VALE3</td>\n",
       "      <td>40</td>\n",
       "      <td>12</td>\n",
       "      <td>4000</td>\n",
       "    </tr>\n",
       "    <tr>\n",
       "      <th>3</th>\n",
       "      <td>Petrobras</td>\n",
       "      <td>PETR4</td>\n",
       "      <td>12</td>\n",
       "      <td>7</td>\n",
       "      <td>7000</td>\n",
       "    </tr>\n",
       "    <tr>\n",
       "      <th>4</th>\n",
       "      <td>Lojas Renner</td>\n",
       "      <td>LREN3</td>\n",
       "      <td>35</td>\n",
       "      <td>25</td>\n",
       "      <td>1200</td>\n",
       "    </tr>\n",
       "  </tbody>\n",
       "</table>\n",
       "</div>"
      ],
      "text/plain": [
       "          nomes tickers  precos  preco_sobre_lucro  volume\n",
       "0           Weg   WEGE3      20                 25    5000\n",
       "1     Petrobras   PETR3      30                  6    1000\n",
       "2          Vale   VALE3      40                 12    4000\n",
       "3     Petrobras   PETR4      12                  7    7000\n",
       "4  Lojas Renner   LREN3      35                 25    1200"
      ]
     },
     "execution_count": 126,
     "metadata": {},
     "output_type": "execute_result"
    }
   ],
   "source": [
    "df_empresas[(df_empresas['precos'] >20) | (df_empresas['volume'] > 4000)]"
   ]
  },
  {
   "cell_type": "markdown",
   "metadata": {},
   "source": [
    "# Mundo 5"
   ]
  },
  {
   "cell_type": "code",
   "execution_count": 128,
   "metadata": {},
   "outputs": [],
   "source": [
    "import pandas as pd"
   ]
  },
  {
   "cell_type": "code",
   "execution_count": 129,
   "metadata": {},
   "outputs": [
    {
     "data": {
      "text/html": [
       "<div>\n",
       "<style scoped>\n",
       "    .dataframe tbody tr th:only-of-type {\n",
       "        vertical-align: middle;\n",
       "    }\n",
       "\n",
       "    .dataframe tbody tr th {\n",
       "        vertical-align: top;\n",
       "    }\n",
       "\n",
       "    .dataframe thead th {\n",
       "        text-align: right;\n",
       "    }\n",
       "</style>\n",
       "<table border=\"1\" class=\"dataframe\">\n",
       "  <thead>\n",
       "    <tr style=\"text-align: right;\">\n",
       "      <th></th>\n",
       "      <th>moeda</th>\n",
       "      <th>price</th>\n",
       "      <th>derivativo</th>\n",
       "    </tr>\n",
       "  </thead>\n",
       "  <tbody>\n",
       "    <tr>\n",
       "      <th>2014-01-05</th>\n",
       "      <td>dolar/real</td>\n",
       "      <td>5.24</td>\n",
       "      <td>DOLFT3</td>\n",
       "    </tr>\n",
       "    <tr>\n",
       "      <th>2014-01-05</th>\n",
       "      <td>libra/real</td>\n",
       "      <td>4.15</td>\n",
       "      <td>LIBFT3</td>\n",
       "    </tr>\n",
       "    <tr>\n",
       "      <th>2014-01-06</th>\n",
       "      <td>dolar/real</td>\n",
       "      <td>5.26</td>\n",
       "      <td>DOLFT3</td>\n",
       "    </tr>\n",
       "    <tr>\n",
       "      <th>2014-01-06</th>\n",
       "      <td>libra/real</td>\n",
       "      <td>4.23</td>\n",
       "      <td>LIBFT3</td>\n",
       "    </tr>\n",
       "    <tr>\n",
       "      <th>2014-01-07</th>\n",
       "      <td>dolar/real</td>\n",
       "      <td>5.55</td>\n",
       "      <td>DOLFT3</td>\n",
       "    </tr>\n",
       "    <tr>\n",
       "      <th>2014-01-07</th>\n",
       "      <td>libra/real</td>\n",
       "      <td>4.02</td>\n",
       "      <td>LIBFT3</td>\n",
       "    </tr>\n",
       "    <tr>\n",
       "      <th>2014-01-08</th>\n",
       "      <td>dolar/real</td>\n",
       "      <td>5.76</td>\n",
       "      <td>DOLFT3</td>\n",
       "    </tr>\n",
       "    <tr>\n",
       "      <th>2014-01-08</th>\n",
       "      <td>libra/real</td>\n",
       "      <td>3.98</td>\n",
       "      <td>LIBFT3</td>\n",
       "    </tr>\n",
       "  </tbody>\n",
       "</table>\n",
       "</div>"
      ],
      "text/plain": [
       "                 moeda  price derivativo\n",
       "2014-01-05  dolar/real   5.24     DOLFT3\n",
       "2014-01-05  libra/real   4.15     LIBFT3\n",
       "2014-01-06  dolar/real   5.26     DOLFT3\n",
       "2014-01-06  libra/real   4.23     LIBFT3\n",
       "2014-01-07  dolar/real   5.55     DOLFT3\n",
       "2014-01-07  libra/real   4.02     LIBFT3\n",
       "2014-01-08  dolar/real   5.76     DOLFT3\n",
       "2014-01-08  libra/real   3.98     LIBFT3"
      ]
     },
     "execution_count": 129,
     "metadata": {},
     "output_type": "execute_result"
    }
   ],
   "source": [
    "df_cambio = pd.DataFrame({\n",
    "                        \"moeda\": ['dolar/real', 'libra/real'] * 4,\n",
    "                        \"price\": [5.24, 4.15, 5.26, 4.23, 5.55, 4.02, 5.76, 3.98],\n",
    "                        \"derivativo\": list([\"DOLFT3\", \"LIBFT3\"]) * 4},                    \n",
    "                    index = sorted(list(pd.date_range(\"1/5/2014\", periods = 4)) * 2))\n",
    "\n",
    "df_cambio"
   ]
  },
  {
   "cell_type": "code",
   "execution_count": 130,
   "metadata": {},
   "outputs": [
    {
     "name": "stdout",
     "output_type": "stream",
     "text": [
      "                 moeda  price derivativo\n",
      "2014-01-05  dolar/real   5.24     DOLFT3\n",
      "2014-01-05  libra/real   4.15     LIBFT3\n",
      "                 moeda  price derivativo\n",
      "2014-01-05  dolar/real   5.24     DOLFT3\n",
      "2014-01-05  libra/real   4.15     LIBFT3\n",
      "2014-01-06  dolar/real   5.26     DOLFT3\n",
      "2014-01-06  libra/real   4.23     LIBFT3\n",
      "2014-01-07  dolar/real   5.55     DOLFT3\n",
      "2014-01-07  libra/real   4.02     LIBFT3\n",
      "2014-01-05    5.24\n",
      "2014-01-05    4.15\n",
      "2014-01-06    5.26\n",
      "2014-01-06    4.23\n",
      "2014-01-07    5.55\n",
      "2014-01-07    4.02\n",
      "Name: price, dtype: float64\n",
      "2014-01-05    5.24\n",
      "2014-01-05    4.15\n",
      "Name: price, dtype: float64\n",
      "                 moeda  price\n",
      "2014-01-05  dolar/real   5.24\n",
      "2014-01-05  libra/real   4.15\n"
     ]
    },
    {
     "data": {
      "text/plain": [
       "2014-01-05    5.24\n",
       "2014-01-05    4.15\n",
       "2014-01-06    5.26\n",
       "2014-01-06    4.23\n",
       "2014-01-07    5.55\n",
       "2014-01-07    4.02\n",
       "2014-01-08    5.76\n",
       "2014-01-08    3.98\n",
       "Name: price, dtype: float64"
      ]
     },
     "execution_count": 130,
     "metadata": {},
     "output_type": "execute_result"
    }
   ],
   "source": [
    "#ferramentas loc, iloc, at, iat\n",
    "\n",
    "#loc serve para localizar através de nomes\n",
    "\n",
    "#um unico dia\n",
    "print(df_cambio.loc['2014-01-05'])\n",
    "\n",
    "#algum periodo\n",
    "print(df_cambio.loc['2014-01-05':'2014-01-07'])\n",
    "\n",
    "#um periodo sobre a informação preço\n",
    "print(df_cambio.loc['2014-01-05':'2014-01-07', 'price'])\n",
    "\n",
    "#um dia sobre a informação preço\n",
    "print(df_cambio.loc['2014-01-05', 'price'])\n",
    "\n",
    "#um dia sobre a informação preço e moeda\n",
    "print(df_cambio.loc['2014-01-05', 'moeda':'price'])\n",
    "\n",
    "#todos os dados da informação preço\n",
    "df_cambio.loc[:, 'price']\n",
    "\n"
   ]
  },
  {
   "cell_type": "code",
   "execution_count": 131,
   "metadata": {},
   "outputs": [
    {
     "data": {
      "text/plain": [
       "2014-01-05    5.24\n",
       "2014-01-05    4.15\n",
       "Name: price, dtype: float64"
      ]
     },
     "execution_count": 131,
     "metadata": {},
     "output_type": "execute_result"
    }
   ],
   "source": [
    "#at é igual ao loc, só que serve pra localizar um único item. + otimizado\n",
    "\n",
    "#df_cambio.at['2014-01-05']\n",
    "df_cambio.at['2014-01-05', \"price\"] #mais otimizado que loc pra pegar uma linha e uma coluna"
   ]
  },
  {
   "cell_type": "code",
   "execution_count": 132,
   "metadata": {},
   "outputs": [
    {
     "name": "stdout",
     "output_type": "stream",
     "text": [
      "5.24\n",
      "5.24\n"
     ]
    },
    {
     "data": {
      "text/plain": [
       "moeda         libra/real\n",
       "price               3.98\n",
       "derivativo        LIBFT3\n",
       "Name: 2014-01-08 00:00:00, dtype: object"
      ]
     },
     "execution_count": 132,
     "metadata": {},
     "output_type": "execute_result"
    }
   ],
   "source": [
    "#iloc serve pra selecionar itens através de índices numéricos. \n",
    "#Parecido com as listas, mas é preciso usar iloc antes.\n",
    "\n",
    "#primeira linha\n",
    "#print(df_cambio.iloc[0, :])\n",
    "\n",
    "#tres primeiras linhas\n",
    "\n",
    "#print(df_cambio.iloc[0:3, :])\n",
    "\n",
    "#primeira coluna\n",
    "#print(df_cambio.iloc[:, 0])\n",
    "\n",
    "#primeiro preço do cambio\n",
    "\n",
    "print(df_cambio.iloc[0, 1])\n",
    "\n",
    "#primeiro preço do cambio com iat\n",
    "\n",
    "cambio = df_cambio.iat[0, 1]\n",
    "\n",
    "print(cambio)\n",
    "\n",
    "#ultima linha\n",
    "\n",
    "df_cambio.iloc[-1, :]"
   ]
  },
  {
   "cell_type": "code",
   "execution_count": 133,
   "metadata": {},
   "outputs": [
    {
     "name": "stderr",
     "output_type": "stream",
     "text": [
      "/tmp/ipykernel_64356/3513409106.py:6: FutureWarning: Setting an item of incompatible dtype is deprecated and will raise an error in a future version of pandas. Value 'Zona' has dtype incompatible with float64, please explicitly cast to a compatible dtype first.\n",
      "  df_cambio.loc[df_cambio['derivativo'] == \"DOLFT4\"] = \"Zona\"\n"
     ]
    },
    {
     "data": {
      "text/html": [
       "<div>\n",
       "<style scoped>\n",
       "    .dataframe tbody tr th:only-of-type {\n",
       "        vertical-align: middle;\n",
       "    }\n",
       "\n",
       "    .dataframe tbody tr th {\n",
       "        vertical-align: top;\n",
       "    }\n",
       "\n",
       "    .dataframe thead th {\n",
       "        text-align: right;\n",
       "    }\n",
       "</style>\n",
       "<table border=\"1\" class=\"dataframe\">\n",
       "  <thead>\n",
       "    <tr style=\"text-align: right;\">\n",
       "      <th></th>\n",
       "      <th>moeda</th>\n",
       "      <th>price</th>\n",
       "      <th>derivativo</th>\n",
       "    </tr>\n",
       "  </thead>\n",
       "  <tbody>\n",
       "    <tr>\n",
       "      <th>2014-01-05</th>\n",
       "      <td>Zona</td>\n",
       "      <td>Zona</td>\n",
       "      <td>Zona</td>\n",
       "    </tr>\n",
       "    <tr>\n",
       "      <th>2014-01-05</th>\n",
       "      <td>libra/real</td>\n",
       "      <td>4.15</td>\n",
       "      <td>LIBFT3</td>\n",
       "    </tr>\n",
       "    <tr>\n",
       "      <th>2014-01-06</th>\n",
       "      <td>Zona</td>\n",
       "      <td>Zona</td>\n",
       "      <td>Zona</td>\n",
       "    </tr>\n",
       "    <tr>\n",
       "      <th>2014-01-06</th>\n",
       "      <td>libra/real</td>\n",
       "      <td>4.23</td>\n",
       "      <td>LIBFT3</td>\n",
       "    </tr>\n",
       "    <tr>\n",
       "      <th>2014-01-07</th>\n",
       "      <td>Zona</td>\n",
       "      <td>Zona</td>\n",
       "      <td>Zona</td>\n",
       "    </tr>\n",
       "    <tr>\n",
       "      <th>2014-01-07</th>\n",
       "      <td>libra/real</td>\n",
       "      <td>4.02</td>\n",
       "      <td>LIBFT3</td>\n",
       "    </tr>\n",
       "    <tr>\n",
       "      <th>2014-01-08</th>\n",
       "      <td>Zona</td>\n",
       "      <td>Zona</td>\n",
       "      <td>Zona</td>\n",
       "    </tr>\n",
       "    <tr>\n",
       "      <th>2014-01-08</th>\n",
       "      <td>libra/real</td>\n",
       "      <td>3.98</td>\n",
       "      <td>LIBFT3</td>\n",
       "    </tr>\n",
       "  </tbody>\n",
       "</table>\n",
       "</div>"
      ],
      "text/plain": [
       "                 moeda price derivativo\n",
       "2014-01-05        Zona  Zona       Zona\n",
       "2014-01-05  libra/real  4.15     LIBFT3\n",
       "2014-01-06        Zona  Zona       Zona\n",
       "2014-01-06  libra/real  4.23     LIBFT3\n",
       "2014-01-07        Zona  Zona       Zona\n",
       "2014-01-07  libra/real  4.02     LIBFT3\n",
       "2014-01-08        Zona  Zona       Zona\n",
       "2014-01-08  libra/real  3.98     LIBFT3"
      ]
     },
     "execution_count": 133,
     "metadata": {},
     "output_type": "execute_result"
    }
   ],
   "source": [
    "#Substituir dados com loc\n",
    "\n",
    "#se um ativo mudar o código de negociação?\n",
    "df_cambio.loc[df_cambio['derivativo'] == \"DOLFT3\", 'derivativo'] = \"DOLFT4\"\n",
    "\n",
    "df_cambio.loc[df_cambio['derivativo'] == \"DOLFT4\"] = \"Zona\"\n",
    "\n",
    "df_cambio"
   ]
  },
  {
   "cell_type": "markdown",
   "metadata": {},
   "source": [
    "# EXERCICIO"
   ]
  },
  {
   "cell_type": "markdown",
   "metadata": {},
   "source": [
    "\n",
    "A partir do DataFrame desenvolvido no exercício 40:\n",
    "\n",
    "* Exercício 47: Selecione a primeira linha inteira e a primeira coluna inteira com loc.\n",
    "* Exercício 48: Selecione o preço da weg com iat e com at.\n",
    "* Exercício 49: Selecione as duas primeiras linhas e todas as colunas com iloc."
   ]
  },
  {
   "cell_type": "code",
   "execution_count": 134,
   "metadata": {},
   "outputs": [
    {
     "data": {
      "text/html": [
       "<div>\n",
       "<style scoped>\n",
       "    .dataframe tbody tr th:only-of-type {\n",
       "        vertical-align: middle;\n",
       "    }\n",
       "\n",
       "    .dataframe tbody tr th {\n",
       "        vertical-align: top;\n",
       "    }\n",
       "\n",
       "    .dataframe thead th {\n",
       "        text-align: right;\n",
       "    }\n",
       "</style>\n",
       "<table border=\"1\" class=\"dataframe\">\n",
       "  <thead>\n",
       "    <tr style=\"text-align: right;\">\n",
       "      <th></th>\n",
       "      <th>nomes</th>\n",
       "      <th>tickers</th>\n",
       "      <th>cotacoes</th>\n",
       "      <th>preco_sobre_lucro</th>\n",
       "      <th>volume</th>\n",
       "    </tr>\n",
       "  </thead>\n",
       "  <tbody>\n",
       "    <tr>\n",
       "      <th>0</th>\n",
       "      <td>Weg</td>\n",
       "      <td>WEGE3</td>\n",
       "      <td>20</td>\n",
       "      <td>25</td>\n",
       "      <td>5000</td>\n",
       "    </tr>\n",
       "    <tr>\n",
       "      <th>1</th>\n",
       "      <td>Petrobras</td>\n",
       "      <td>PETR3</td>\n",
       "      <td>30</td>\n",
       "      <td>6</td>\n",
       "      <td>1000</td>\n",
       "    </tr>\n",
       "    <tr>\n",
       "      <th>2</th>\n",
       "      <td>Vale</td>\n",
       "      <td>VALE3</td>\n",
       "      <td>40</td>\n",
       "      <td>12</td>\n",
       "      <td>4000</td>\n",
       "    </tr>\n",
       "    <tr>\n",
       "      <th>3</th>\n",
       "      <td>Petrobras</td>\n",
       "      <td>PETR4</td>\n",
       "      <td>12</td>\n",
       "      <td>7</td>\n",
       "      <td>7000</td>\n",
       "    </tr>\n",
       "    <tr>\n",
       "      <th>4</th>\n",
       "      <td>Lojas Renner</td>\n",
       "      <td>LREN3</td>\n",
       "      <td>35</td>\n",
       "      <td>25</td>\n",
       "      <td>1200</td>\n",
       "    </tr>\n",
       "  </tbody>\n",
       "</table>\n",
       "</div>"
      ],
      "text/plain": [
       "          nomes tickers  cotacoes  preco_sobre_lucro  volume\n",
       "0           Weg   WEGE3        20                 25    5000\n",
       "1     Petrobras   PETR3        30                  6    1000\n",
       "2          Vale   VALE3        40                 12    4000\n",
       "3     Petrobras   PETR4        12                  7    7000\n",
       "4  Lojas Renner   LREN3        35                 25    1200"
      ]
     },
     "execution_count": 134,
     "metadata": {},
     "output_type": "execute_result"
    }
   ],
   "source": [
    "dicionario = {\n",
    "       \"nomes\": [\"Weg\", \"Petrobras\", \"Vale\", \"Petrobras\", \"Lojas Renner\"],\n",
    "       \"tickers\": [\"WEGE3\", \"PETR3\", \"VALE3\", \"PETR4\", \"LREN3\"],  \n",
    "       \"cotacoes\": [20, 30, 40, 12, 35],\n",
    "       \"preco_sobre_lucro\": [25, 6, 12, 7, 25],  \n",
    "       \"volume\": [5000, 1000, 4000, 7000, 1200]\n",
    "}\n",
    "\n",
    "df = pd.DataFrame(dicionario)\n",
    "\n",
    "df"
   ]
  },
  {
   "cell_type": "code",
   "execution_count": 168,
   "metadata": {},
   "outputs": [
    {
     "name": "stdout",
     "output_type": "stream",
     "text": [
      "          nomes tickers  cotacoes  preco_sobre_lucro  volume\n",
      "0           Weg   WEGE3        20                 25    5000\n",
      "1     Petrobras   PETR3        30                  6    1000\n",
      "2          Vale   VALE3        40                 12    4000\n",
      "3     Petrobras   PETR4        12                  7    7000\n",
      "4  Lojas Renner   LREN3        35                 25    1200\n",
      "   cotacoes  preco_sobre_lucro  volume\n",
      "0        20                 25    5000\n",
      "1        30                  6    1000\n",
      "2        40                 12    4000\n",
      "3        12                  7    7000\n",
      "4        35                 25    1200\n",
      "Primeira linha:\n",
      "nomes                  Weg\n",
      "tickers              WEGE3\n",
      "cotacoes                20\n",
      "preco_sobre_lucro       25\n",
      "volume                5000\n",
      "Name: 0, dtype: object\n",
      "Primeira coluna\n",
      "0             Weg\n",
      "1       Petrobras\n",
      "2            Vale\n",
      "3       Petrobras\n",
      "4    Lojas Renner\n",
      "Name: nomes, dtype: object\n",
      "Primeira coluna\n",
      "0             Weg\n",
      "1       Petrobras\n",
      "2            Vale\n",
      "3       Petrobras\n",
      "4    Lojas Renner\n",
      "Name: nomes, dtype: object\n",
      "Primeira linha\n",
      "nomes                 Weg\n",
      "cotacoes               20\n",
      "preco_sobre_lucro      25\n",
      "volume               5000\n",
      "Name: WEGE3, dtype: object\n"
     ]
    }
   ],
   "source": [
    "#* Exercício 47: Selecione a primeira linha inteira e a primeira coluna inteira com loc.\n",
    "\n",
    "print(df.loc[:,:])\n",
    "print(df.loc[:,\"cotacoes\":])\n",
    "print(\"Primeira linha:\")\n",
    "print(df.loc[0,:])\n",
    "print(\"Primeira coluna\")\n",
    "print(df.loc[:, df.columns[0]])\n",
    "print(\"Primeira coluna\")\n",
    "print(df.iloc[:, 0])\n",
    "\n",
    "\n",
    "primeira_linha = df_info_empresas.loc[\"WEGE3\"]\n",
    "primeira_coluna = df_info_empresas.loc[:, \"nomes\"]\n",
    "print(\"Primeira linha\")\n",
    "print(primeira_linha)\n",
    "\n",
    "\n"
   ]
  },
  {
   "cell_type": "code",
   "execution_count": 177,
   "metadata": {},
   "outputs": [
    {
     "name": "stdout",
     "output_type": "stream",
     "text": [
      "          nomes tickers  cotacoes  preco_sobre_lucro  volume\n",
      "0           Weg   WEGE3        20                 25    5000\n",
      "1     Petrobras   PETR3        30                  6    1000\n",
      "2          Vale   VALE3        40                 12    4000\n",
      "3     Petrobras   PETR4        12                  7    7000\n",
      "4  Lojas Renner   LREN3        35                 25    1200\n",
      "                nomes  cotacoes  preco_sobre_lucro  volume\n",
      "tickers                                                   \n",
      "WEGE3             Weg        20                 25    5000\n",
      "PETR3       Petrobras        30                  6    1000\n",
      "VALE3            Vale        40                 12    4000\n",
      "PETR4       Petrobras        12                  7    7000\n",
      "LREN3    Lojas Renner        35                 25    1200\n",
      "20\n"
     ]
    }
   ],
   "source": [
    "#* Exercício 48: Selecione o preço da weg com iat e com at.\n",
    "print(df.loc[:,:])\n",
    "df2 = df.set_index('tickers')\n",
    "print(df2)\n",
    "print(df2.at[\"WEGE3\",\"cotacoes\"])\n",
    "\n"
   ]
  },
  {
   "cell_type": "code",
   "execution_count": 185,
   "metadata": {},
   "outputs": [
    {
     "name": "stdout",
     "output_type": "stream",
     "text": [
      "             nomes  cotacoes  preco_sobre_lucro  volume\n",
      "tickers                                                \n",
      "WEGE3          Weg        20                 25    5000\n",
      "PETR3    Petrobras        30                  6    1000\n"
     ]
    },
    {
     "ename": "KeyError",
     "evalue": "0",
     "output_type": "error",
     "traceback": [
      "\u001b[0;31m---------------------------------------------------------------------------\u001b[0m",
      "\u001b[0;31mKeyError\u001b[0m                                  Traceback (most recent call last)",
      "File \u001b[0;32m~/.local/lib/python3.10/site-packages/pandas/core/indexes/base.py:3805\u001b[0m, in \u001b[0;36mIndex.get_loc\u001b[0;34m(self, key)\u001b[0m\n\u001b[1;32m   3804\u001b[0m \u001b[38;5;28;01mtry\u001b[39;00m:\n\u001b[0;32m-> 3805\u001b[0m     \u001b[38;5;28;01mreturn\u001b[39;00m \u001b[38;5;28;43mself\u001b[39;49m\u001b[38;5;241;43m.\u001b[39;49m\u001b[43m_engine\u001b[49m\u001b[38;5;241;43m.\u001b[39;49m\u001b[43mget_loc\u001b[49m\u001b[43m(\u001b[49m\u001b[43mcasted_key\u001b[49m\u001b[43m)\u001b[49m\n\u001b[1;32m   3806\u001b[0m \u001b[38;5;28;01mexcept\u001b[39;00m \u001b[38;5;167;01mKeyError\u001b[39;00m \u001b[38;5;28;01mas\u001b[39;00m err:\n",
      "File \u001b[0;32mindex.pyx:167\u001b[0m, in \u001b[0;36mpandas._libs.index.IndexEngine.get_loc\u001b[0;34m()\u001b[0m\n",
      "File \u001b[0;32mindex.pyx:196\u001b[0m, in \u001b[0;36mpandas._libs.index.IndexEngine.get_loc\u001b[0;34m()\u001b[0m\n",
      "File \u001b[0;32mpandas/_libs/hashtable_class_helper.pxi:7081\u001b[0m, in \u001b[0;36mpandas._libs.hashtable.PyObjectHashTable.get_item\u001b[0;34m()\u001b[0m\n",
      "File \u001b[0;32mpandas/_libs/hashtable_class_helper.pxi:7089\u001b[0m, in \u001b[0;36mpandas._libs.hashtable.PyObjectHashTable.get_item\u001b[0;34m()\u001b[0m\n",
      "\u001b[0;31mKeyError\u001b[0m: 0",
      "\nThe above exception was the direct cause of the following exception:\n",
      "\u001b[0;31mKeyError\u001b[0m                                  Traceback (most recent call last)",
      "Cell \u001b[0;32mIn[185], line 3\u001b[0m\n\u001b[1;32m      1\u001b[0m \u001b[38;5;66;03m#* Exercício 49: Selecione as duas primeiras linhas e todas as colunas com iloc.\u001b[39;00m\n\u001b[1;32m      2\u001b[0m \u001b[38;5;28mprint\u001b[39m(df2\u001b[38;5;241m.\u001b[39miloc[\u001b[38;5;241m0\u001b[39m:\u001b[38;5;241m2\u001b[39m,:])\n\u001b[0;32m----> 3\u001b[0m \u001b[38;5;28mprint\u001b[39m(\u001b[43mdf2\u001b[49m\u001b[38;5;241;43m.\u001b[39;49m\u001b[43mloc\u001b[49m\u001b[43m[\u001b[49m\u001b[38;5;241;43m0\u001b[39;49m\u001b[43m,\u001b[49m\u001b[38;5;124;43m\"\u001b[39;49m\u001b[38;5;124;43mcotacoes\u001b[39;49m\u001b[38;5;124;43m\"\u001b[39;49m\u001b[43m]\u001b[49m)\n",
      "File \u001b[0;32m~/.local/lib/python3.10/site-packages/pandas/core/indexing.py:1183\u001b[0m, in \u001b[0;36m_LocationIndexer.__getitem__\u001b[0;34m(self, key)\u001b[0m\n\u001b[1;32m   1181\u001b[0m     key \u001b[38;5;241m=\u001b[39m \u001b[38;5;28mtuple\u001b[39m(com\u001b[38;5;241m.\u001b[39mapply_if_callable(x, \u001b[38;5;28mself\u001b[39m\u001b[38;5;241m.\u001b[39mobj) \u001b[38;5;28;01mfor\u001b[39;00m x \u001b[38;5;129;01min\u001b[39;00m key)\n\u001b[1;32m   1182\u001b[0m     \u001b[38;5;28;01mif\u001b[39;00m \u001b[38;5;28mself\u001b[39m\u001b[38;5;241m.\u001b[39m_is_scalar_access(key):\n\u001b[0;32m-> 1183\u001b[0m         \u001b[38;5;28;01mreturn\u001b[39;00m \u001b[38;5;28;43mself\u001b[39;49m\u001b[38;5;241;43m.\u001b[39;49m\u001b[43mobj\u001b[49m\u001b[38;5;241;43m.\u001b[39;49m\u001b[43m_get_value\u001b[49m\u001b[43m(\u001b[49m\u001b[38;5;241;43m*\u001b[39;49m\u001b[43mkey\u001b[49m\u001b[43m,\u001b[49m\u001b[43m \u001b[49m\u001b[43mtakeable\u001b[49m\u001b[38;5;241;43m=\u001b[39;49m\u001b[38;5;28;43mself\u001b[39;49m\u001b[38;5;241;43m.\u001b[39;49m\u001b[43m_takeable\u001b[49m\u001b[43m)\u001b[49m\n\u001b[1;32m   1184\u001b[0m     \u001b[38;5;28;01mreturn\u001b[39;00m \u001b[38;5;28mself\u001b[39m\u001b[38;5;241m.\u001b[39m_getitem_tuple(key)\n\u001b[1;32m   1185\u001b[0m \u001b[38;5;28;01melse\u001b[39;00m:\n\u001b[1;32m   1186\u001b[0m     \u001b[38;5;66;03m# we by definition only have the 0th axis\u001b[39;00m\n",
      "File \u001b[0;32m~/.local/lib/python3.10/site-packages/pandas/core/frame.py:4221\u001b[0m, in \u001b[0;36mDataFrame._get_value\u001b[0;34m(self, index, col, takeable)\u001b[0m\n\u001b[1;32m   4215\u001b[0m engine \u001b[38;5;241m=\u001b[39m \u001b[38;5;28mself\u001b[39m\u001b[38;5;241m.\u001b[39mindex\u001b[38;5;241m.\u001b[39m_engine\n\u001b[1;32m   4217\u001b[0m \u001b[38;5;28;01mif\u001b[39;00m \u001b[38;5;129;01mnot\u001b[39;00m \u001b[38;5;28misinstance\u001b[39m(\u001b[38;5;28mself\u001b[39m\u001b[38;5;241m.\u001b[39mindex, MultiIndex):\n\u001b[1;32m   4218\u001b[0m     \u001b[38;5;66;03m# CategoricalIndex: Trying to use the engine fastpath may give incorrect\u001b[39;00m\n\u001b[1;32m   4219\u001b[0m     \u001b[38;5;66;03m#  results if our categories are integers that dont match our codes\u001b[39;00m\n\u001b[1;32m   4220\u001b[0m     \u001b[38;5;66;03m# IntervalIndex: IntervalTree has no get_loc\u001b[39;00m\n\u001b[0;32m-> 4221\u001b[0m     row \u001b[38;5;241m=\u001b[39m \u001b[38;5;28;43mself\u001b[39;49m\u001b[38;5;241;43m.\u001b[39;49m\u001b[43mindex\u001b[49m\u001b[38;5;241;43m.\u001b[39;49m\u001b[43mget_loc\u001b[49m\u001b[43m(\u001b[49m\u001b[43mindex\u001b[49m\u001b[43m)\u001b[49m\n\u001b[1;32m   4222\u001b[0m     \u001b[38;5;28;01mreturn\u001b[39;00m series\u001b[38;5;241m.\u001b[39m_values[row]\n\u001b[1;32m   4224\u001b[0m \u001b[38;5;66;03m# For MultiIndex going through engine effectively restricts us to\u001b[39;00m\n\u001b[1;32m   4225\u001b[0m \u001b[38;5;66;03m#  same-length tuples; see test_get_set_value_no_partial_indexing\u001b[39;00m\n",
      "File \u001b[0;32m~/.local/lib/python3.10/site-packages/pandas/core/indexes/base.py:3812\u001b[0m, in \u001b[0;36mIndex.get_loc\u001b[0;34m(self, key)\u001b[0m\n\u001b[1;32m   3807\u001b[0m     \u001b[38;5;28;01mif\u001b[39;00m \u001b[38;5;28misinstance\u001b[39m(casted_key, \u001b[38;5;28mslice\u001b[39m) \u001b[38;5;129;01mor\u001b[39;00m (\n\u001b[1;32m   3808\u001b[0m         \u001b[38;5;28misinstance\u001b[39m(casted_key, abc\u001b[38;5;241m.\u001b[39mIterable)\n\u001b[1;32m   3809\u001b[0m         \u001b[38;5;129;01mand\u001b[39;00m \u001b[38;5;28many\u001b[39m(\u001b[38;5;28misinstance\u001b[39m(x, \u001b[38;5;28mslice\u001b[39m) \u001b[38;5;28;01mfor\u001b[39;00m x \u001b[38;5;129;01min\u001b[39;00m casted_key)\n\u001b[1;32m   3810\u001b[0m     ):\n\u001b[1;32m   3811\u001b[0m         \u001b[38;5;28;01mraise\u001b[39;00m InvalidIndexError(key)\n\u001b[0;32m-> 3812\u001b[0m     \u001b[38;5;28;01mraise\u001b[39;00m \u001b[38;5;167;01mKeyError\u001b[39;00m(key) \u001b[38;5;28;01mfrom\u001b[39;00m \u001b[38;5;21;01merr\u001b[39;00m\n\u001b[1;32m   3813\u001b[0m \u001b[38;5;28;01mexcept\u001b[39;00m \u001b[38;5;167;01mTypeError\u001b[39;00m:\n\u001b[1;32m   3814\u001b[0m     \u001b[38;5;66;03m# If we have a listlike key, _check_indexing_error will raise\u001b[39;00m\n\u001b[1;32m   3815\u001b[0m     \u001b[38;5;66;03m#  InvalidIndexError. Otherwise we fall through and re-raise\u001b[39;00m\n\u001b[1;32m   3816\u001b[0m     \u001b[38;5;66;03m#  the TypeError.\u001b[39;00m\n\u001b[1;32m   3817\u001b[0m     \u001b[38;5;28mself\u001b[39m\u001b[38;5;241m.\u001b[39m_check_indexing_error(key)\n",
      "\u001b[0;31mKeyError\u001b[0m: 0"
     ]
    }
   ],
   "source": [
    "#* Exercício 49: Selecione as duas primeiras linhas e todas as colunas com iloc.\n",
    "print(df2.iloc[0:2,:])\n",
    "print(df2.loc[0,\"cotacoes\"])\n",
    "\n"
   ]
  },
  {
   "cell_type": "markdown",
   "metadata": {},
   "source": [
    "# Mundo 6"
   ]
  },
  {
   "cell_type": "code",
   "execution_count": 186,
   "metadata": {},
   "outputs": [],
   "source": [
    "import pandas as pd\n",
    "import numpy as np"
   ]
  },
  {
   "cell_type": "code",
   "execution_count": 187,
   "metadata": {},
   "outputs": [],
   "source": [
    "def gerador_serie_historica(valor_inicial, volatilidade, periodos, dia_inicial, frequencia = \"M\"):\n",
    "    \n",
    "    vetor = [valor_inicial]\n",
    "\n",
    "    for i in range(periodos - 1):\n",
    "\n",
    "            preco = vetor[i] * (1 + np.random.normal(0, volatilidade))\n",
    "\n",
    "            vetor.append(preco)\n",
    "\n",
    "\n",
    "    serie = pd.Series(vetor, index = pd.date_range(dia_inicial, \n",
    "                                                   periods = periodos, freq = frequencia)) \n",
    "                               \n",
    "    return serie\n",
    "    \n",
    "    "
   ]
  },
  {
   "cell_type": "code",
   "execution_count": 188,
   "metadata": {},
   "outputs": [
    {
     "name": "stderr",
     "output_type": "stream",
     "text": [
      "/tmp/ipykernel_64356/3923049291.py:12: FutureWarning: 'M' is deprecated and will be removed in a future version, please use 'ME' instead.\n",
      "  serie = pd.Series(vetor, index = pd.date_range(dia_inicial,\n"
     ]
    },
    {
     "data": {
      "text/plain": [
       "2022-01-31    20.000000\n",
       "2022-02-28    19.603009\n",
       "2022-03-31    20.579287\n",
       "2022-04-30    19.909573\n",
       "2022-05-31    20.925432\n",
       "Freq: ME, dtype: float64"
      ]
     },
     "execution_count": 188,
     "metadata": {},
     "output_type": "execute_result"
    }
   ],
   "source": [
    "serie_euro = gerador_serie_historica(5, 0.01, 5, \"2022-01-01\")\n",
    "serie_cotacoes = gerador_serie_historica(20, 0.05, 5, \"2022-01-01\")\n",
    "serie_cotacoes"
   ]
  },
  {
   "cell_type": "code",
   "execution_count": 189,
   "metadata": {},
   "outputs": [
    {
     "data": {
      "text/plain": [
       "2022-01-31    5.000000\n",
       "2022-02-28    4.966290\n",
       "2022-03-31    4.937851\n",
       "2022-04-30    4.851451\n",
       "2022-05-31    4.818280\n",
       "Freq: ME, dtype: float64"
      ]
     },
     "execution_count": 189,
     "metadata": {},
     "output_type": "execute_result"
    }
   ],
   "source": [
    "serie_euro"
   ]
  },
  {
   "cell_type": "code",
   "execution_count": 190,
   "metadata": {},
   "outputs": [
    {
     "data": {
      "text/plain": [
       "2022-01-31    4.000000\n",
       "2022-02-28    3.947214\n",
       "2022-03-31    4.167660\n",
       "2022-04-30    4.103839\n",
       "2022-05-31    4.342926\n",
       "Freq: ME, dtype: float64"
      ]
     },
     "execution_count": 190,
     "metadata": {},
     "output_type": "execute_result"
    }
   ],
   "source": [
    "#as operações aritméticas são feitas através dos índices! \n",
    "\n",
    "serie_cotacoes_em_euro = serie_cotacoes/serie_euro\n",
    "serie_cotacoes_em_euro"
   ]
  },
  {
   "cell_type": "code",
   "execution_count": null,
   "metadata": {},
   "outputs": [],
   "source": [
    "serie_lucro = gerador_serie_historica(2, 0.5, 5, \"2022-01-01\")\n",
    "serie_cotacoes = gerador_serie_historica(20, 0.05, 5, \"2022-01-01\")\n",
    "\n",
    "\n",
    "df = pd.DataFrame({\"cotacao\": serie_cotacoes,\n",
    "                 \"lucro_por_acao\": serie_lucro})"
   ]
  },
  {
   "cell_type": "code",
   "execution_count": null,
   "metadata": {},
   "outputs": [],
   "source": [
    "df['PL'] = df['cotacao']/df['lucro_por_acao']\n",
    "df"
   ]
  },
  {
   "cell_type": "code",
   "execution_count": null,
   "metadata": {},
   "outputs": [],
   "source": [
    "#pode fazer qualquer operação \n",
    "\n",
    "print(df['cotacao'] + df['lucro_por_acao'])\n",
    "print(df['cotacao'] - df['lucro_por_acao'])\n",
    "print(df['cotacao'] ** df['lucro_por_acao'])"
   ]
  },
  {
   "cell_type": "code",
   "execution_count": null,
   "metadata": {},
   "outputs": [],
   "source": [
    "#operações dentro de uma mesma coluna\n",
    "\n",
    "#somar dados de uma coluna\n",
    "\n",
    "serie_lucro_trimestral = gerador_serie_historica(20000, 2, 4, \"2022-01-01\", frequencia = \"Q\")\n",
    "\n",
    "print(serie_lucro_trimestral)\n",
    "\n",
    "lucro_anual = serie_lucro_trimestral.sum()\n",
    "lucro_anual"
   ]
  },
  {
   "cell_type": "code",
   "execution_count": null,
   "metadata": {},
   "outputs": [],
   "source": [
    "#acumular dados de uma coluna\n",
    "\n",
    "serie_lucro_trimestral = gerador_serie_historica(20000, 2, 4, \"2022-01-01\", frequencia = \"Q\")\n",
    "\n",
    "print(serie_lucro_trimestral)\n",
    "\n",
    "crescimento_lucros  = serie_lucro_trimestral.cumsum()\n",
    "\n",
    "crescimento_lucros"
   ]
  },
  {
   "cell_type": "markdown",
   "metadata": {},
   "source": [
    "# EXERCICIO"
   ]
  },
  {
   "cell_type": "markdown",
   "metadata": {},
   "source": [
    "# Exercícios \n",
    "\n",
    "No dataframe base trabalhado em todas as aulas:\n",
    "\n",
    "* Exercício 50: Crie uma nova coluna chamada \"lucro_por_acao\" e calcule o lucro por ação baseado nas informações de PL e preço. Obs: LPA = P/Indicador(PL)\n",
    "* Exercício 51: Assuma a cotação do dólar como 5.25 e crie a coluna de cotações dolarizadas na tabela.\n",
    "* Exercício 52: Encontre qual volume total negociado por todas as ações. \n",
    "* Exercício 53: Selecione as ações com maior e menor Lucro por ação do dataframe. Dica: use métodos de seleção ensinados na aula passada! \n"
   ]
  },
  {
   "cell_type": "markdown",
   "metadata": {},
   "source": [
    "\n",
    "\n",
    "* Exercício 50: Crie uma nova coluna chamada \"lucro_por_acao\" e calcule o lucro por ação baseado nas informações de PL e preço. Obs: LPA = P/Indicador(PL)"
   ]
  },
  {
   "cell_type": "code",
   "execution_count": 194,
   "metadata": {},
   "outputs": [
    {
     "data": {
      "text/html": [
       "<div>\n",
       "<style scoped>\n",
       "    .dataframe tbody tr th:only-of-type {\n",
       "        vertical-align: middle;\n",
       "    }\n",
       "\n",
       "    .dataframe tbody tr th {\n",
       "        vertical-align: top;\n",
       "    }\n",
       "\n",
       "    .dataframe thead th {\n",
       "        text-align: right;\n",
       "    }\n",
       "</style>\n",
       "<table border=\"1\" class=\"dataframe\">\n",
       "  <thead>\n",
       "    <tr style=\"text-align: right;\">\n",
       "      <th></th>\n",
       "      <th>nomes</th>\n",
       "      <th>tickers</th>\n",
       "      <th>cotacoes</th>\n",
       "      <th>preco_sobre_lucro</th>\n",
       "      <th>volume</th>\n",
       "      <th>lucro_por_acao</th>\n",
       "    </tr>\n",
       "  </thead>\n",
       "  <tbody>\n",
       "    <tr>\n",
       "      <th>0</th>\n",
       "      <td>Weg</td>\n",
       "      <td>WEGE3</td>\n",
       "      <td>20</td>\n",
       "      <td>25</td>\n",
       "      <td>5000</td>\n",
       "      <td>1.250000</td>\n",
       "    </tr>\n",
       "    <tr>\n",
       "      <th>1</th>\n",
       "      <td>Petrobras</td>\n",
       "      <td>PETR3</td>\n",
       "      <td>30</td>\n",
       "      <td>6</td>\n",
       "      <td>1000</td>\n",
       "      <td>0.200000</td>\n",
       "    </tr>\n",
       "    <tr>\n",
       "      <th>2</th>\n",
       "      <td>Vale</td>\n",
       "      <td>VALE3</td>\n",
       "      <td>40</td>\n",
       "      <td>12</td>\n",
       "      <td>4000</td>\n",
       "      <td>0.300000</td>\n",
       "    </tr>\n",
       "    <tr>\n",
       "      <th>3</th>\n",
       "      <td>Petrobras</td>\n",
       "      <td>PETR4</td>\n",
       "      <td>12</td>\n",
       "      <td>7</td>\n",
       "      <td>7000</td>\n",
       "      <td>0.583333</td>\n",
       "    </tr>\n",
       "    <tr>\n",
       "      <th>4</th>\n",
       "      <td>Lojas Renner</td>\n",
       "      <td>LREN3</td>\n",
       "      <td>35</td>\n",
       "      <td>25</td>\n",
       "      <td>1200</td>\n",
       "      <td>0.714286</td>\n",
       "    </tr>\n",
       "  </tbody>\n",
       "</table>\n",
       "</div>"
      ],
      "text/plain": [
       "          nomes tickers  cotacoes  preco_sobre_lucro  volume  lucro_por_acao\n",
       "0           Weg   WEGE3        20                 25    5000        1.250000\n",
       "1     Petrobras   PETR3        30                  6    1000        0.200000\n",
       "2          Vale   VALE3        40                 12    4000        0.300000\n",
       "3     Petrobras   PETR4        12                  7    7000        0.583333\n",
       "4  Lojas Renner   LREN3        35                 25    1200        0.714286"
      ]
     },
     "execution_count": 194,
     "metadata": {},
     "output_type": "execute_result"
    }
   ],
   "source": [
    "#* Exercício 50: Crie uma nova coluna chamada \"lucro_por_acao\" e calcule o lucro por ação baseado nas informações de PL e preço. Obs: LPA = P/Indicador(PL)\n",
    "\n",
    "df[\"lucro_por_acao\"] = df[\"preco_sobre_lucro\"]/df[\"cotacoes\"]\n",
    "\n",
    "df"
   ]
  },
  {
   "cell_type": "code",
   "execution_count": 195,
   "metadata": {},
   "outputs": [
    {
     "data": {
      "text/html": [
       "<div>\n",
       "<style scoped>\n",
       "    .dataframe tbody tr th:only-of-type {\n",
       "        vertical-align: middle;\n",
       "    }\n",
       "\n",
       "    .dataframe tbody tr th {\n",
       "        vertical-align: top;\n",
       "    }\n",
       "\n",
       "    .dataframe thead th {\n",
       "        text-align: right;\n",
       "    }\n",
       "</style>\n",
       "<table border=\"1\" class=\"dataframe\">\n",
       "  <thead>\n",
       "    <tr style=\"text-align: right;\">\n",
       "      <th></th>\n",
       "      <th>nomes</th>\n",
       "      <th>tickers</th>\n",
       "      <th>cotacoes</th>\n",
       "      <th>preco_sobre_lucro</th>\n",
       "      <th>volume</th>\n",
       "      <th>lucro_por_acao</th>\n",
       "      <th>cotacao_dolarizada</th>\n",
       "    </tr>\n",
       "  </thead>\n",
       "  <tbody>\n",
       "    <tr>\n",
       "      <th>0</th>\n",
       "      <td>Weg</td>\n",
       "      <td>WEGE3</td>\n",
       "      <td>20</td>\n",
       "      <td>25</td>\n",
       "      <td>5000</td>\n",
       "      <td>1.250000</td>\n",
       "      <td>3.809524</td>\n",
       "    </tr>\n",
       "    <tr>\n",
       "      <th>1</th>\n",
       "      <td>Petrobras</td>\n",
       "      <td>PETR3</td>\n",
       "      <td>30</td>\n",
       "      <td>6</td>\n",
       "      <td>1000</td>\n",
       "      <td>0.200000</td>\n",
       "      <td>5.714286</td>\n",
       "    </tr>\n",
       "    <tr>\n",
       "      <th>2</th>\n",
       "      <td>Vale</td>\n",
       "      <td>VALE3</td>\n",
       "      <td>40</td>\n",
       "      <td>12</td>\n",
       "      <td>4000</td>\n",
       "      <td>0.300000</td>\n",
       "      <td>7.619048</td>\n",
       "    </tr>\n",
       "    <tr>\n",
       "      <th>3</th>\n",
       "      <td>Petrobras</td>\n",
       "      <td>PETR4</td>\n",
       "      <td>12</td>\n",
       "      <td>7</td>\n",
       "      <td>7000</td>\n",
       "      <td>0.583333</td>\n",
       "      <td>2.285714</td>\n",
       "    </tr>\n",
       "    <tr>\n",
       "      <th>4</th>\n",
       "      <td>Lojas Renner</td>\n",
       "      <td>LREN3</td>\n",
       "      <td>35</td>\n",
       "      <td>25</td>\n",
       "      <td>1200</td>\n",
       "      <td>0.714286</td>\n",
       "      <td>6.666667</td>\n",
       "    </tr>\n",
       "  </tbody>\n",
       "</table>\n",
       "</div>"
      ],
      "text/plain": [
       "          nomes tickers  cotacoes  preco_sobre_lucro  volume  lucro_por_acao  \\\n",
       "0           Weg   WEGE3        20                 25    5000        1.250000   \n",
       "1     Petrobras   PETR3        30                  6    1000        0.200000   \n",
       "2          Vale   VALE3        40                 12    4000        0.300000   \n",
       "3     Petrobras   PETR4        12                  7    7000        0.583333   \n",
       "4  Lojas Renner   LREN3        35                 25    1200        0.714286   \n",
       "\n",
       "   cotacao_dolarizada  \n",
       "0            3.809524  \n",
       "1            5.714286  \n",
       "2            7.619048  \n",
       "3            2.285714  \n",
       "4            6.666667  "
      ]
     },
     "execution_count": 195,
     "metadata": {},
     "output_type": "execute_result"
    }
   ],
   "source": [
    "#* Exercício 51: Assuma a cotação do dólar como 5.25 e crie a coluna de cotações dolarizadas na tabela.\n",
    "\n",
    "df[\"cotacao_dolarizada\"] = df[\"cotacoes\"]/5.25\n",
    "\n",
    "df"
   ]
  },
  {
   "cell_type": "markdown",
   "metadata": {},
   "source": [
    "\n",
    "* Exercício 52: Encontre qual volume total negociado por todas as ações. \n"
   ]
  },
  {
   "cell_type": "code",
   "execution_count": 204,
   "metadata": {},
   "outputs": [
    {
     "data": {
      "text/plain": [
       "18200"
      ]
     },
     "execution_count": 204,
     "metadata": {},
     "output_type": "execute_result"
    }
   ],
   "source": [
    "vol_total = sum(df['volume'])\n",
    "vol_total\n",
    "\n"
   ]
  },
  {
   "cell_type": "markdown",
   "metadata": {},
   "source": [
    "* Exercício 53: Selecione as ações com maior e menor Lucro por ação do dataframe. Dica: use métodos de seleção ensinados na aula pa"
   ]
  },
  {
   "cell_type": "code",
   "execution_count": 203,
   "metadata": {},
   "outputs": [
    {
     "name": "stdout",
     "output_type": "stream",
     "text": [
      "       nomes tickers  cotacoes  preco_sobre_lucro  volume  lucro_por_acao  \\\n",
      "1  Petrobras   PETR3        30                  6    1000             0.2   \n",
      "\n",
      "   cotacao_dolarizada  \n",
      "1            5.714286  \n",
      "  nomes tickers  cotacoes  preco_sobre_lucro  volume  lucro_por_acao  \\\n",
      "0   Weg   WEGE3        20                 25    5000            1.25   \n",
      "\n",
      "   cotacao_dolarizada  \n",
      "0            3.809524  \n"
     ]
    }
   ],
   "source": [
    "menor_lucro = df[df.lucro_por_acao == np.min(df.lucro_por_acao)]\n",
    "print(menor_lucro)\n",
    "maior_lucro = df[df.lucro_por_acao == np.max(df.lucro_por_acao)]\n",
    "\n",
    "print(maior_lucro)\n"
   ]
  },
  {
   "cell_type": "code",
   "execution_count": null,
   "metadata": {},
   "outputs": [],
   "source": []
  },
  {
   "cell_type": "code",
   "execution_count": null,
   "metadata": {},
   "outputs": [],
   "source": []
  },
  {
   "cell_type": "markdown",
   "metadata": {},
   "source": [
    "# Mundo 7"
   ]
  },
  {
   "cell_type": "markdown",
   "metadata": {},
   "source": [
    "# Mundo 8"
   ]
  },
  {
   "cell_type": "markdown",
   "metadata": {},
   "source": [
    "# Mundo 9"
   ]
  },
  {
   "cell_type": "markdown",
   "metadata": {},
   "source": [
    "# Mundo 10"
   ]
  },
  {
   "cell_type": "markdown",
   "metadata": {},
   "source": [
    "# Mundo 11"
   ]
  },
  {
   "cell_type": "markdown",
   "metadata": {},
   "source": [
    "# Mundo 12"
   ]
  },
  {
   "cell_type": "markdown",
   "metadata": {},
   "source": [
    "# Mundo 13"
   ]
  },
  {
   "cell_type": "markdown",
   "metadata": {},
   "source": [
    "# Mundo 14"
   ]
  },
  {
   "cell_type": "markdown",
   "metadata": {},
   "source": [
    "# Mundo 15"
   ]
  },
  {
   "cell_type": "markdown",
   "metadata": {},
   "source": [
    "# Mundo 16"
   ]
  },
  {
   "cell_type": "markdown",
   "metadata": {},
   "source": [
    "# Mundo 17"
   ]
  },
  {
   "cell_type": "markdown",
   "metadata": {},
   "source": [
    "# Mundo 18"
   ]
  },
  {
   "cell_type": "markdown",
   "metadata": {},
   "source": [
    "# Mundo 19"
   ]
  },
  {
   "cell_type": "markdown",
   "metadata": {},
   "source": [
    "# Mundo 20"
   ]
  },
  {
   "cell_type": "markdown",
   "metadata": {},
   "source": [
    "# Mundo 21"
   ]
  },
  {
   "cell_type": "markdown",
   "metadata": {},
   "source": [
    "# Mundo 22"
   ]
  },
  {
   "cell_type": "markdown",
   "metadata": {},
   "source": [
    "# Mundo 23"
   ]
  },
  {
   "cell_type": "markdown",
   "metadata": {},
   "source": [
    "# Mundo 24"
   ]
  },
  {
   "cell_type": "markdown",
   "metadata": {},
   "source": [
    "# Mundo 25"
   ]
  },
  {
   "cell_type": "markdown",
   "metadata": {},
   "source": [
    "# Mundo 26"
   ]
  },
  {
   "cell_type": "markdown",
   "metadata": {},
   "source": [
    "# Mundo 27"
   ]
  },
  {
   "cell_type": "markdown",
   "metadata": {},
   "source": [
    "# Mundo 28"
   ]
  },
  {
   "cell_type": "code",
   "execution_count": null,
   "metadata": {},
   "outputs": [],
   "source": []
  },
  {
   "cell_type": "code",
   "execution_count": null,
   "metadata": {},
   "outputs": [],
   "source": []
  },
  {
   "cell_type": "markdown",
   "metadata": {},
   "source": []
  }
 ],
 "metadata": {
  "kernelspec": {
   "display_name": "Python 3",
   "language": "python",
   "name": "python3"
  },
  "language_info": {
   "codemirror_mode": {
    "name": "ipython",
    "version": 3
   },
   "file_extension": ".py",
   "mimetype": "text/x-python",
   "name": "python",
   "nbconvert_exporter": "python",
   "pygments_lexer": "ipython3",
   "version": "3.10.12"
  }
 },
 "nbformat": 4,
 "nbformat_minor": 2
}
