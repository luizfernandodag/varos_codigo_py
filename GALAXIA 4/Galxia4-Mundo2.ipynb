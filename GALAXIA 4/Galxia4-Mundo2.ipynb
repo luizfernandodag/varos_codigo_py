{
 "cells": [
  {
   "cell_type": "markdown",
   "id": "633e3400",
   "metadata": {},
   "source": [
    "# Mundo 2\n",
    "### Introdução ao Pandas\n"
   ]
  },
  {
   "cell_type": "code",
   "execution_count": 1,
   "id": "1d0cf04b",
   "metadata": {},
   "outputs": [],
   "source": [
    "import pandas as pd\n",
    "import numpy as np"
   ]
  },
  {
   "cell_type": "markdown",
   "id": "e541fd66",
   "metadata": {},
   "source": [
    "## Séries"
   ]
  },
  {
   "cell_type": "code",
   "execution_count": 2,
   "id": "28abd12f",
   "metadata": {},
   "outputs": [
    {
     "name": "stdout",
     "output_type": "stream",
     "text": [
      "A    0.929254\n",
      "B    0.706885\n",
      "C   -0.261874\n",
      "D    1.638835\n",
      "E    0.492378\n",
      "dtype: float64\n"
     ]
    },
    {
     "data": {
      "text/plain": [
       "0    Python\n",
       "1       SQL\n",
       "2       VBA\n",
       "dtype: object"
      ]
     },
     "execution_count": 2,
     "metadata": {},
     "output_type": "execute_result"
    }
   ],
   "source": [
    "# Argumentos: listas/vetores \n",
    "\n",
    "serie_inicial = pd.Series(np.random.randn(5))\n",
    "\n",
    "\n",
    "\n",
    "serie_inicial = pd.Series(np.random.randn(5), index = [\"A\", \"B\", \"C\", \"D\", \"E\"])\n",
    "\n",
    "print(serie_inicial)\n",
    "\n",
    "serie_lista = pd.Series([\"Python\", \"SQL\", \"VBA\"])\n",
    "\n",
    "serie_lista"
   ]
  },
  {
   "cell_type": "code",
   "execution_count": 4,
   "id": "b44bdb7e",
   "metadata": {},
   "outputs": [
    {
     "name": "stdout",
     "output_type": "stream",
     "text": [
      "WEGE3    20.20\n",
      "PETR4    19.28\n",
      "VALE3    64.90\n",
      "PETZ3    12.03\n",
      "dtype: float64\n",
      "20.2\n"
     ]
    },
    {
     "name": "stderr",
     "output_type": "stream",
     "text": [
      "/tmp/ipykernel_24370/1072361009.py:9: FutureWarning: Series.__getitem__ treating keys as positions is deprecated. In a future version, integer keys will always be treated as labels (consistent with DataFrame behavior). To access a value by position, use `ser.iloc[pos]`\n",
      "  serie_cotacoes[0]\n"
     ]
    },
    {
     "data": {
      "text/plain": [
       "np.float64(20.2)"
      ]
     },
     "execution_count": 4,
     "metadata": {},
     "output_type": "execute_result"
    }
   ],
   "source": [
    "# A partir de dicionários, criando séries temporais\n",
    "\n",
    "dicionario_cotacoes = {\"WEGE3\": 20.20, \"PETR4\": 19.28, \"VALE3\": 64.90, \"PETZ3\": 12.03}\n",
    "\n",
    "serie_cotacoes = pd.Series(dicionario_cotacoes)\n",
    "\n",
    "print(serie_cotacoes)\n",
    "print(serie_cotacoes['WEGE3'])\n",
    "serie_cotacoes[0]"
   ]
  },
  {
   "cell_type": "markdown",
   "id": "8ef0cb3f",
   "metadata": {},
   "source": [
    "## DataFrames"
   ]
  },
  {
   "cell_type": "code",
   "execution_count": 5,
   "id": "42fdfbe8",
   "metadata": {},
   "outputs": [
    {
     "data": {
      "text/html": [
       "<div>\n",
       "<style scoped>\n",
       "    .dataframe tbody tr th:only-of-type {\n",
       "        vertical-align: middle;\n",
       "    }\n",
       "\n",
       "    .dataframe tbody tr th {\n",
       "        vertical-align: top;\n",
       "    }\n",
       "\n",
       "    .dataframe thead th {\n",
       "        text-align: right;\n",
       "    }\n",
       "</style>\n",
       "<table border=\"1\" class=\"dataframe\">\n",
       "  <thead>\n",
       "    <tr style=\"text-align: right;\">\n",
       "      <th></th>\n",
       "      <th>empresas</th>\n",
       "      <th>price</th>\n",
       "      <th>volume</th>\n",
       "    </tr>\n",
       "  </thead>\n",
       "  <tbody>\n",
       "    <tr>\n",
       "      <th>2019</th>\n",
       "      <td>Wege</td>\n",
       "      <td>20</td>\n",
       "      <td>1000</td>\n",
       "    </tr>\n",
       "    <tr>\n",
       "      <th>2020</th>\n",
       "      <td>Vale</td>\n",
       "      <td>30</td>\n",
       "      <td>4000</td>\n",
       "    </tr>\n",
       "    <tr>\n",
       "      <th>2021</th>\n",
       "      <td>Petrobras</td>\n",
       "      <td>40</td>\n",
       "      <td>7500</td>\n",
       "    </tr>\n",
       "  </tbody>\n",
       "</table>\n",
       "</div>"
      ],
      "text/plain": [
       "       empresas  price  volume\n",
       "2019       Wege     20    1000\n",
       "2020       Vale     30    4000\n",
       "2021  Petrobras     40    7500"
      ]
     },
     "execution_count": 5,
     "metadata": {},
     "output_type": "execute_result"
    }
   ],
   "source": [
    "#A partir de outras séries ou dicionários\n",
    "\n",
    "dicionario_dados = {\n",
    "    \"empresas\": pd.Series([\"Wege\", \"Vale\", \"Petrobras\"], index = [\"2019\", \"2020\", \"2021\"]), \n",
    "    \"price\": pd.Series([20, 30, 40], index = [\"2019\", \"2020\", \"2021\"]),\n",
    "    \"volume\": pd.Series([1000, 4000, 7500], index = [\"2019\", \"2020\", \"2021\"])\n",
    "}\n",
    "\n",
    "dados_diarios = pd.DataFrame(dicionario_dados)\n",
    "\n",
    "dados_diarios"
   ]
  },
  {
   "cell_type": "code",
   "execution_count": 6,
   "id": "9fb05108",
   "metadata": {},
   "outputs": [
    {
     "data": {
      "text/html": [
       "<div>\n",
       "<style scoped>\n",
       "    .dataframe tbody tr th:only-of-type {\n",
       "        vertical-align: middle;\n",
       "    }\n",
       "\n",
       "    .dataframe tbody tr th {\n",
       "        vertical-align: top;\n",
       "    }\n",
       "\n",
       "    .dataframe thead th {\n",
       "        text-align: right;\n",
       "    }\n",
       "</style>\n",
       "<table border=\"1\" class=\"dataframe\">\n",
       "  <thead>\n",
       "    <tr style=\"text-align: right;\">\n",
       "      <th></th>\n",
       "      <th>empresas</th>\n",
       "      <th>price</th>\n",
       "      <th>volume</th>\n",
       "    </tr>\n",
       "  </thead>\n",
       "  <tbody>\n",
       "    <tr>\n",
       "      <th>2019</th>\n",
       "      <td>Wege</td>\n",
       "      <td>20</td>\n",
       "      <td>1000</td>\n",
       "    </tr>\n",
       "    <tr>\n",
       "      <th>2020</th>\n",
       "      <td>Vale</td>\n",
       "      <td>30</td>\n",
       "      <td>4000</td>\n",
       "    </tr>\n",
       "    <tr>\n",
       "      <th>2021</th>\n",
       "      <td>Petrobras</td>\n",
       "      <td>40</td>\n",
       "      <td>7500</td>\n",
       "    </tr>\n",
       "  </tbody>\n",
       "</table>\n",
       "</div>"
      ],
      "text/plain": [
       "       empresas  price  volume\n",
       "2019       Wege     20    1000\n",
       "2020       Vale     30    4000\n",
       "2021  Petrobras     40    7500"
      ]
     },
     "execution_count": 6,
     "metadata": {},
     "output_type": "execute_result"
    }
   ],
   "source": [
    "dicionario_dados = {\n",
    "    \"empresas\": [\"Wege\", \"Vale\", \"Petrobras\"],\n",
    "    \"price\": [20, 30, 40],\n",
    "    \"volume\": [1000, 4000, 7500]\n",
    "}\n",
    "\n",
    "dados_diarios_from_dict = pd.DataFrame(dicionario_dados, index = [\"2019\", \"2020\", \"2021\"])\n",
    "\n",
    "dados_diarios_from_dict"
   ]
  },
  {
   "cell_type": "code",
   "execution_count": 7,
   "id": "b79c8e23",
   "metadata": {},
   "outputs": [
    {
     "data": {
      "text/html": [
       "<div>\n",
       "<style scoped>\n",
       "    .dataframe tbody tr th:only-of-type {\n",
       "        vertical-align: middle;\n",
       "    }\n",
       "\n",
       "    .dataframe tbody tr th {\n",
       "        vertical-align: top;\n",
       "    }\n",
       "\n",
       "    .dataframe thead th {\n",
       "        text-align: right;\n",
       "    }\n",
       "</style>\n",
       "<table border=\"1\" class=\"dataframe\">\n",
       "  <thead>\n",
       "    <tr style=\"text-align: right;\">\n",
       "      <th></th>\n",
       "      <th>volume</th>\n",
       "      <th>price</th>\n",
       "      <th>teste</th>\n",
       "    </tr>\n",
       "  </thead>\n",
       "  <tbody>\n",
       "    <tr>\n",
       "      <th>2019</th>\n",
       "      <td>1000</td>\n",
       "      <td>20</td>\n",
       "      <td>NaN</td>\n",
       "    </tr>\n",
       "    <tr>\n",
       "      <th>2020</th>\n",
       "      <td>4000</td>\n",
       "      <td>30</td>\n",
       "      <td>NaN</td>\n",
       "    </tr>\n",
       "    <tr>\n",
       "      <th>2021</th>\n",
       "      <td>7500</td>\n",
       "      <td>40</td>\n",
       "      <td>NaN</td>\n",
       "    </tr>\n",
       "  </tbody>\n",
       "</table>\n",
       "</div>"
      ],
      "text/plain": [
       "      volume  price teste\n",
       "2019    1000     20   NaN\n",
       "2020    4000     30   NaN\n",
       "2021    7500     40   NaN"
      ]
     },
     "execution_count": 7,
     "metadata": {},
     "output_type": "execute_result"
    }
   ],
   "source": [
    "#escolhendo colunas\n",
    "\n",
    "dicionario_dados = {\n",
    "    \"empresas\": [\"Wege\", \"Vale\", \"Petrobras\"],\n",
    "    \"price\": [20, 30, 40],\n",
    "    \"volume\": [1000, 4000, 7500]\n",
    "}\n",
    "\n",
    "dados_diarios_from_dict = pd.DataFrame(dicionario_dados, index = [\"2019\", \"2020\", \"2021\"],\n",
    "                                      columns = [\"volume\", \"price\", \"teste\"])\n",
    "\n",
    "dados_diarios_from_dict"
   ]
  },
  {
   "cell_type": "code",
   "execution_count": 8,
   "id": "972970e3",
   "metadata": {},
   "outputs": [
    {
     "data": {
      "text/html": [
       "<div>\n",
       "<style scoped>\n",
       "    .dataframe tbody tr th:only-of-type {\n",
       "        vertical-align: middle;\n",
       "    }\n",
       "\n",
       "    .dataframe tbody tr th {\n",
       "        vertical-align: top;\n",
       "    }\n",
       "\n",
       "    .dataframe thead th {\n",
       "        text-align: right;\n",
       "    }\n",
       "</style>\n",
       "<table border=\"1\" class=\"dataframe\">\n",
       "  <thead>\n",
       "    <tr style=\"text-align: right;\">\n",
       "      <th></th>\n",
       "      <th>cotacao</th>\n",
       "      <th>dia</th>\n",
       "    </tr>\n",
       "  </thead>\n",
       "  <tbody>\n",
       "    <tr>\n",
       "      <th>0</th>\n",
       "      <td>20</td>\n",
       "      <td>2019-12-21</td>\n",
       "    </tr>\n",
       "  </tbody>\n",
       "</table>\n",
       "</div>"
      ],
      "text/plain": [
       "   cotacao         dia\n",
       "0       20  2019-12-21"
      ]
     },
     "execution_count": 8,
     "metadata": {},
     "output_type": "execute_result"
    }
   ],
   "source": [
    "#cuidado\n",
    "\n",
    "dado = {\"cotacao\": 20, \"dia\": \"2019-12-21\"}\n",
    "\n",
    "dataframe = pd.DataFrame(dado, index = [0])\n",
    "\n",
    "dataframe"
   ]
  },
  {
   "cell_type": "markdown",
   "id": "cbd4c1ba",
   "metadata": {},
   "source": [
    "# Exercícios\n",
    "\n",
    "* Exercício 34: Crie uma série de numeros.   \n",
    "* Exercício 35: Crie uma série de cotação randomica (random walk) para os próximos 30 dias de uma ação, partindo do preço inicial definido pelo usuário. Pressuponha que a média de retornos da ação é zero e seu desvio padrão diário (volatilidade) é de 1%.  \n",
    "* Exercício 36: Crie um DataFrame com as seguintes informações:\n",
    "       tickers: “WEGE3”, \"PETR3\", \"VALE3\", \"PETR4\" e \"LREN3\"\n",
    "       cotacoes: 20, 30, 40, 12, 35  \n",
    "       nomes: \"Weg\", \"Petrobras\", \"Vale\", \"Petrobras\" e \"Lojas Renner\"\n",
    "       preco_sobre_lucro: 25, 6, 12, 7, 25  \n",
    "       volume: 5000, 1000, 4000, 7000, 1200\n",
    "       "
   ]
  },
  {
   "cell_type": "markdown",
   "id": "56d96125",
   "metadata": {},
   "source": [
    "* Exercício 34: Crie uma série de numeros.   \n"
   ]
  },
  {
   "cell_type": "code",
   "execution_count": 22,
   "id": "a4b73ba6",
   "metadata": {},
   "outputs": [
    {
     "name": "stdout",
     "output_type": "stream",
     "text": [
      "n = [40 36]\n",
      "n = [ 3.66224522e-01  5.49097708e-01  3.90967302e-01 -4.29305244e-01\n",
      "  9.81043257e-02  6.14559103e-03 -9.14809570e-01  7.78025231e-01\n",
      "  7.34916997e-01  1.41218307e+00  1.33283070e+00 -2.11390855e-01\n",
      "  3.40971442e-01  1.15586341e+00 -2.65967881e-01 -4.03966863e-01\n",
      " -1.96215337e-01 -2.89594540e-01 -1.71641536e+00  8.82016413e-02\n",
      "  1.59322304e+00 -7.10937435e-01  1.21236668e+00  2.81680154e-01\n",
      " -7.73063404e-01  5.23914883e-01  7.13046825e-01 -1.04412367e+00\n",
      " -1.47601988e+00 -6.45747098e-01  4.99766532e-01 -3.80767579e-02\n",
      " -2.90765520e-01 -2.55343215e+00 -3.71946695e-01 -8.59505464e-01\n",
      " -8.12336360e-01 -9.73156722e-01  6.56691593e-01  4.31002869e-02\n",
      " -2.01459155e-01 -1.91054475e+00  8.21464443e-01  8.40190450e-01\n",
      " -2.91315448e-01 -7.65699103e-01 -1.13569802e+00 -3.35868355e-01\n",
      " -1.84834542e-02  1.11260898e+00 -1.19464907e+00  4.93624031e-02\n",
      " -9.69208655e-01 -1.28986656e+00  5.92739751e-01 -6.24204474e-01\n",
      " -2.44978718e-03 -1.13693104e+00  8.30535585e-01 -1.52772634e+00\n",
      "  1.06415057e+00 -6.09971970e-01  1.05979344e+00 -7.92764594e-01\n",
      " -2.10738723e-01  8.37947344e-01  4.50926900e-01 -4.41402705e-01\n",
      "  8.25009313e-01 -4.42911730e-02  7.92096355e-01 -1.16209265e+00\n",
      "  7.40094632e-02 -8.74998376e-01  3.95744168e-01 -1.85567942e-03\n",
      "  2.70976429e-01  4.93621998e-01 -6.65824469e-01  1.40584055e+00\n",
      " -6.38245959e-01 -1.66956108e+00  1.33182091e+00 -3.59106849e-01\n",
      "  3.53252674e-01  3.51531387e-01 -5.66304647e-01 -1.39945697e+00\n",
      " -1.03263371e+00  6.66274180e-01 -2.32575887e-01  1.41852707e-01\n",
      "  5.58906698e-01  2.76669629e-01  3.99941301e-01  9.23959434e-01\n",
      " -4.20992315e-01  1.03506443e+00 -1.90103306e+00  4.98006292e-01]\n"
     ]
    }
   ],
   "source": [
    "import pandas as pd \n",
    "import numpy as np\n",
    "print(f\"n = {np.random.randint(0,100,2)}\")\n",
    "print(f\"n = {np.random.randn(100)}\")\n",
    "#serie_numeros = pd.Series(np.random.randint(0,100))"
   ]
  },
  {
   "cell_type": "code",
   "execution_count": 41,
   "id": "74b25cae",
   "metadata": {},
   "outputs": [
    {
     "data": {
      "text/plain": [
       "0    65\n",
       "1    31\n",
       "2    92\n",
       "3    30\n",
       "4     8\n",
       "dtype: int64"
      ]
     },
     "execution_count": 41,
     "metadata": {},
     "output_type": "execute_result"
    }
   ],
   "source": [
    "import pandas as pd \n",
    "import numpy as np\n",
    "\n",
    "serie_numeros = pd.Series(np.random.randint(0,100,5))\n",
    "serie_numeros"
   ]
  },
  {
   "cell_type": "markdown",
   "id": "beee71c1",
   "metadata": {},
   "source": [
    "* Exercício 35: Crie uma série de cotação randomica (random walk) para os próximos 30 dias de uma ação, partindo do preço inicial definido pelo usuário. Pressuponha que a média de retornos da ação é zero e seu desvio padrão diário (volatilidade) é de 1%.  "
   ]
  },
  {
   "cell_type": "code",
   "execution_count": 37,
   "id": "e27fffde",
   "metadata": {},
   "outputs": [
    {
     "name": "stdout",
     "output_type": "stream",
     "text": [
      "[-1.49825353e-02 -1.61115223e-02  1.40286016e-02 -5.87598876e-03\n",
      " -8.75895599e-03  1.38595669e-02 -1.26914811e-02 -3.05387749e-04\n",
      " -4.16313415e-03  6.71876511e-03 -6.04674408e-03 -9.43823401e-03\n",
      "  3.03634350e-03 -9.82176273e-04  2.00449006e-02 -4.71693768e-03\n",
      "  2.44570589e-02  2.61468606e-03  5.20334462e-03 -1.77980291e-02\n",
      "  1.64382063e-02 -7.76316985e-04  1.19808457e-03  4.70713380e-03\n",
      "  6.85695056e-03 -7.38396767e-04 -2.51825040e-02 -1.46893588e-02\n",
      "  2.56112416e-05 -6.24839539e-03]\n",
      "    Dia       Preco\n",
      "0     0  100.000000\n",
      "1     1   98.501746\n",
      "2     2   96.914733\n",
      "3     3   98.274312\n",
      "4     4   97.696853\n",
      "5     5   96.841130\n",
      "6     6   98.183307\n",
      "7     7   96.937215\n",
      "8     8   96.907611\n",
      "9     9   96.504172\n",
      "10   10   97.152561\n",
      "11   11   96.565104\n",
      "12   12   95.653700\n",
      "13   13   95.944138\n",
      "14   14   95.849904\n",
      "15   15   97.771205\n",
      "16   16   97.310025\n",
      "17   17   99.689942\n",
      "18   18   99.950600\n",
      "19   19  100.470677\n",
      "20   20   98.682497\n",
      "21   21  100.304660\n",
      "22   22  100.226792\n",
      "23   23  100.346872\n",
      "24   24  100.819218\n",
      "25   25  101.510531\n",
      "26   26  101.435576\n",
      "27   27   98.881174\n",
      "28   28   97.428673\n",
      "29   29   97.431168\n",
      "30   30   96.822380\n"
     ]
    }
   ],
   "source": [
    "import pandas as pd \n",
    "import numpy as np\n",
    "def gerar_random_walk(preco_inicial:float, dias:int = 30, votalidade:float = 0.01 ):\n",
    "    \n",
    "    \n",
    "    \n",
    "    retornos = np.random.normal(loc=0, scale = votalidade, size = dias )\n",
    "    print(retornos)\n",
    "    precos = [preco_inicial]\n",
    "    \n",
    "    for r in retornos:\n",
    "        novo_preco = precos[-1]*(1+r)\n",
    "        precos.append(novo_preco)\n",
    "        \n",
    "    return precos\n",
    "\n",
    "\n",
    "\n",
    "preco_inicial = float(input(\"Digite o preço da ação:\"))\n",
    "\n",
    "caminho_precos = gerar_random_walk(preco_inicial=preco_inicial)\n",
    "\n",
    "df_precos = pd.DataFrame({\n",
    "    \"Dia\": range(31),\n",
    "    \"Preco\": caminho_precos\n",
    "    \n",
    "    \n",
    "})\n",
    "\n",
    "\n",
    "\n",
    "print(df_precos)\n",
    "\n",
    "\n",
    "        \n",
    "        \n",
    "    \n",
    "    "
   ]
  },
  {
   "cell_type": "code",
   "execution_count": null,
   "id": "582d7b42",
   "metadata": {},
   "outputs": [],
   "source": [
    "import pandas as pd\n",
    "import numpy as np \n",
    "print(f\"n = {np.random.randn(100)}\")\n",
    "\n",
    "acoes = pd.Series()"
   ]
  },
  {
   "cell_type": "markdown",
   "id": "4b6daf17",
   "metadata": {},
   "source": [
    "* Exercício 36: Crie um DataFrame com as seguintes informações:\n",
    "       tickers: “WEGE3”, \"PETR3\", \"VALE3\", \"PETR4\" e \"LREN3\"\n",
    "       cotacoes: 20, 30, 40, 12, 35  \n",
    "       nomes: \"Weg\", \"Petrobras\", \"Vale\", \"Petrobras\" e \"Lojas Renner\"\n",
    "       preco_sobre_lucro: 25, 6, 12, 7, 25  \n",
    "       volume: 5000, 1000, 4000, 7000, 1200"
   ]
  },
  {
   "cell_type": "code",
   "execution_count": 42,
   "id": "df0a4dc4",
   "metadata": {},
   "outputs": [
    {
     "name": "stdout",
     "output_type": "stream",
     "text": [
      "      volume  price  preco_sobre_lucro ticker\n",
      "2019    5000     20                 25  WEGE3\n",
      "2020    1000     30                  6  PETR3\n",
      "2021    4000     40                 12  VALE3\n",
      "2022    7000     12                  7  PETR4\n",
      "2023    1200     35                 25  LREN3\n"
     ]
    }
   ],
   "source": [
    "\n",
    "dicionario_dados = {\n",
    "    \"ticker\":[\"WEGE3\",\"PETR3\",\"VALE3\",\"PETR4\",\"LREN3\"],\n",
    "    \"price\":[20,30,40,12,35],\n",
    "    \"nome\": [\"Weg\", \"Petrobras\", \"Vale\", \"Petrobras\", \"Lojas Renner\"],\n",
    "    \"preco_sobre_lucro\": [25, 6, 12, 7, 25],  \n",
    "    \"volume\": [5000, 1000, 4000, 7000, 1200]\n",
    "    \n",
    "}\n",
    "\n",
    "\n",
    "\n",
    "\n",
    "\n",
    "dados_diarios_from_dict = pd.DataFrame(dicionario_dados, index = [\"2019\", \"2020\", \"2021\",\"2022\",\"2023\"],\n",
    "                                      columns = [\"volume\", \"price\", \"preco_sobre_lucro\",\"ticker\"])\n",
    "\n",
    "print(dados_diarios_from_dict)"
   ]
  },
  {
   "cell_type": "code",
   "execution_count": null,
   "id": "98705bd0",
   "metadata": {},
   "outputs": [],
   "source": [
    "#34\n",
    "\n"
   ]
  },
  {
   "cell_type": "code",
   "execution_count": null,
   "id": "5a0f8cb3",
   "metadata": {},
   "outputs": [],
   "source": [
    "#35\n",
    "\n"
   ]
  },
  {
   "cell_type": "code",
   "execution_count": null,
   "id": "ddc6cb6f",
   "metadata": {},
   "outputs": [],
   "source": [
    "#36\n",
    "\n"
   ]
  },
  {
   "cell_type": "code",
   "execution_count": 16,
   "id": "dc4674e7",
   "metadata": {},
   "outputs": [
    {
     "data": {
      "text/plain": [
       "0    20\n",
       "1    30\n",
       "2    40\n",
       "3    50\n",
       "dtype: int64"
      ]
     },
     "execution_count": 16,
     "metadata": {},
     "output_type": "execute_result"
    }
   ],
   "source": [
    "#gabarito 34\n",
    "\n",
    "numeros = [20, 30, 40, 50]\n",
    "\n",
    "serie = pd.Series(numeros)\n",
    "\n",
    "serie"
   ]
  },
  {
   "cell_type": "code",
   "execution_count": 18,
   "id": "da7740b2",
   "metadata": {},
   "outputs": [
    {
     "name": "stdout",
     "output_type": "stream",
     "text": [
      "Qual a cotação inicial da ação? 20\n",
      "0     20.000000\n",
      "1     19.977503\n",
      "2     19.868235\n",
      "3     19.624427\n",
      "4     19.837737\n",
      "5     19.884704\n",
      "6     19.919547\n",
      "7     19.866445\n",
      "8     19.875269\n",
      "9     20.058010\n",
      "10    20.017889\n",
      "11    20.255010\n",
      "12    20.451672\n",
      "13    20.601000\n",
      "14    20.529565\n",
      "15    20.458072\n",
      "16    20.250645\n",
      "17    20.298620\n",
      "18    20.764482\n",
      "19    20.699155\n",
      "20    20.659159\n",
      "21    20.529056\n",
      "22    20.424802\n",
      "23    20.422287\n",
      "24    20.316566\n",
      "25    20.024342\n",
      "26    20.393111\n",
      "27    20.299427\n",
      "28    20.282626\n",
      "29    20.306060\n",
      "dtype: float64\n"
     ]
    }
   ],
   "source": [
    "#gabarito 35\n",
    "import random\n",
    "\n",
    "cotacao_inicial = float(input(\"Qual a cotação inicial da ação? \"))\n",
    "\n",
    "periodo_projecao = 30\n",
    "lista_cotacoes = [cotacao_inicial]\n",
    "lista_dias = [0]\n",
    "volatilidade_diaria = 0.01\n",
    "\n",
    "for i in range(1, periodo_projecao):\n",
    "    \n",
    "    cotacao_seguinte = lista_cotacoes[-1] * (1 + np.random.normal(0, volatilidade_diaria))\n",
    "    \n",
    "    lista_cotacoes.append(cotacao_seguinte)\n",
    "    lista_dias.append(i)\n",
    "    \n",
    "serie_final = pd.Series(lista_cotacoes, index = lista_dias)\n",
    "\n",
    "print(serie_final)"
   ]
  },
  {
   "cell_type": "code",
   "execution_count": 19,
   "id": "aeeb27fb",
   "metadata": {},
   "outputs": [
    {
     "data": {
      "text/plain": [
       "<AxesSubplot:>"
      ]
     },
     "execution_count": 19,
     "metadata": {},
     "output_type": "execute_result"
    },
    {
     "data": {
      "image/png": "[encoded data removed]",
      "text/plain": [
       "<Figure size 432x288 with 1 Axes>"
      ]
     },
     "metadata": {
      "needs_background": "light"
     },
     "output_type": "display_data"
    }
   ],
   "source": [
    "#gabarito 35 bonus\n",
    "\n",
    "serie_final.plot()"
   ]
  },
  {
   "cell_type": "code",
   "execution_count": 20,
   "id": "b1ec1c3d",
   "metadata": {},
   "outputs": [
    {
     "data": {
      "text/html": [
       "<div>\n",
       "<style scoped>\n",
       "    .dataframe tbody tr th:only-of-type {\n",
       "        vertical-align: middle;\n",
       "    }\n",
       "\n",
       "    .dataframe tbody tr th {\n",
       "        vertical-align: top;\n",
       "    }\n",
       "\n",
       "    .dataframe thead th {\n",
       "        text-align: right;\n",
       "    }\n",
       "</style>\n",
       "<table border=\"1\" class=\"dataframe\">\n",
       "  <thead>\n",
       "    <tr style=\"text-align: right;\">\n",
       "      <th></th>\n",
       "      <th>nomes</th>\n",
       "      <th>tickers</th>\n",
       "      <th>cotacoes</th>\n",
       "      <th>preco_sobre_lucro</th>\n",
       "      <th>volume</th>\n",
       "    </tr>\n",
       "  </thead>\n",
       "  <tbody>\n",
       "    <tr>\n",
       "      <th>0</th>\n",
       "      <td>Weg</td>\n",
       "      <td>WEGE3</td>\n",
       "      <td>20</td>\n",
       "      <td>25</td>\n",
       "      <td>5000</td>\n",
       "    </tr>\n",
       "    <tr>\n",
       "      <th>1</th>\n",
       "      <td>Petrobras</td>\n",
       "      <td>PETR3</td>\n",
       "      <td>30</td>\n",
       "      <td>6</td>\n",
       "      <td>1000</td>\n",
       "    </tr>\n",
       "    <tr>\n",
       "      <th>2</th>\n",
       "      <td>Vale</td>\n",
       "      <td>VALE3</td>\n",
       "      <td>40</td>\n",
       "      <td>12</td>\n",
       "      <td>4000</td>\n",
       "    </tr>\n",
       "    <tr>\n",
       "      <th>3</th>\n",
       "      <td>Petrobras</td>\n",
       "      <td>PETR4</td>\n",
       "      <td>12</td>\n",
       "      <td>7</td>\n",
       "      <td>7000</td>\n",
       "    </tr>\n",
       "    <tr>\n",
       "      <th>4</th>\n",
       "      <td>Lojas Renner</td>\n",
       "      <td>LREN3</td>\n",
       "      <td>35</td>\n",
       "      <td>25</td>\n",
       "      <td>1200</td>\n",
       "    </tr>\n",
       "  </tbody>\n",
       "</table>\n",
       "</div>"
      ],
      "text/plain": [
       "          nomes tickers  cotacoes  preco_sobre_lucro  volume\n",
       "0           Weg   WEGE3        20                 25    5000\n",
       "1     Petrobras   PETR3        30                  6    1000\n",
       "2          Vale   VALE3        40                 12    4000\n",
       "3     Petrobras   PETR4        12                  7    7000\n",
       "4  Lojas Renner   LREN3        35                 25    1200"
      ]
     },
     "execution_count": 20,
     "metadata": {},
     "output_type": "execute_result"
    }
   ],
   "source": [
    "#gabarito 36 \n",
    "\n",
    "dicionario = {\n",
    "       \"nomes\": [\"Weg\", \"Petrobras\", \"Vale\", \"Petrobras\", \"Lojas Renner\"],\n",
    "       \"tickers\": [\"WEGE3\", \"PETR3\", \"VALE3\", \"PETR4\", \"LREN3\"],  \n",
    "       \"cotacoes\": [20, 30, 40, 12, 35],\n",
    "       \"preco_sobre_lucro\": [25, 6, 12, 7, 25],  \n",
    "       \"volume\": [5000, 1000, 4000, 7000, 1200]\n",
    "}\n",
    "\n",
    "df_info_empresas = pd.DataFrame(dicionario)\n",
    "\n",
    "df_info_empresas"
   ]
  },
  {
   "cell_type": "markdown",
   "id": "0ff8d56d",
   "metadata": {},
   "source": [
    "# Mundo 3\n",
    "\n",
    "Nesse mundo 2 nós vemos como criar séries e Dataframes, mas faltou abordar um tópico muito importante na criação dessas estruturas: índices! \n",
    "\n"
   ]
  },
  {
   "cell_type": "code",
   "execution_count": null,
   "id": "63374afa",
   "metadata": {},
   "outputs": [],
   "source": []
  }
 ],
 "metadata": {
  "kernelspec": {
   "display_name": "Python 3",
   "language": "python",
   "name": "python3"
  },
  "language_info": {
   "codemirror_mode": {
    "name": "ipython",
    "version": 3
   },
   "file_extension": ".py",
   "mimetype": "text/x-python",
   "name": "python",
   "nbconvert_exporter": "python",
   "pygments_lexer": "ipython3",
   "version": "3.10.12"
  }
 },
 "nbformat": 4,
 "nbformat_minor": 5
}
