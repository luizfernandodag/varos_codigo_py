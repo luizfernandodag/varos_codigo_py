{
 "cells": [
  {
   "cell_type": "code",
   "execution_count": null,
   "metadata": {},
   "outputs": [
    {
     "name": "stdout",
     "output_type": "stream",
     "text": [
      "Hello\n"
     ]
    }
   ],
   "source": [
    "print(\"Hello\")"
   ]
  },
  {
   "cell_type": "code",
   "execution_count": null,
   "metadata": {},
   "outputs": [],
   "source": [
    "a = 2\n",
    "b = 4\n",
    "\n",
    "codigo_py = \"Um curso python\""
   ]
  },
  {
   "cell_type": "code",
   "execution_count": 4,
   "metadata": {},
   "outputs": [
    {
     "name": "stdout",
     "output_type": "stream",
     "text": [
      "52\n"
     ]
    }
   ],
   "source": [
    "a = a + 25\n",
    "print(a)"
   ]
  },
  {
   "cell_type": "markdown",
   "metadata": {},
   "source": [
    "# EXERCICIOS"
   ]
  },
  {
   "cell_type": "code",
   "execution_count": 7,
   "metadata": {},
   "outputs": [
    {
     "name": "stdout",
     "output_type": "stream",
     "text": [
      "empresa 1\n"
     ]
    }
   ],
   "source": [
    "# # Exercicio 1 - Crie uma variável que receba o nome dbe uma empresa da bolsa de valores e depois exiba o nome da empresa no terminal\n",
    "empresa = \"empresa 1\"\n",
    "print(empresa)"
   ]
  },
  {
   "cell_type": "code",
   "execution_count": 6,
   "metadata": {},
   "outputs": [
    {
     "name": "stdout",
     "output_type": "stream",
     "text": [
      "False\n",
      "True\n"
     ]
    }
   ],
   "source": [
    "# Ex 2: Crie uma programa que atribua a variável petrobras ao texto \"estatal\" depois crie dua variáveis de condição igualndo petrobras ao texto privada e ao texto estatal\n",
    "\n",
    "petrobras = \"estatal\" \n",
    "\n",
    "cond1 = petrobras == \"privada\"\n",
    "cond2 = petrobras == \"estatal\"\n",
    "\n",
    "print(cond1)\n",
    "print(cond2)"
   ]
  },
  {
   "cell_type": "code",
   "execution_count": 10,
   "metadata": {},
   "outputs": [
    {
     "name": "stdout",
     "output_type": "stream",
     "text": [
      "1\n",
      "1 : <class 'int'>\n",
      "0.5\n",
      "0.5 : <class 'float'>\n",
      "Inteiro str:  1\n"
     ]
    }
   ],
   "source": [
    "# Exericio 3: crie umobjeto de cada tipo no python. Depois, verifique o tipo de cada um deles com o comandotype e converta o objeto inteiro para o string\n",
    "inteiro = 1\n",
    "flutuante = 0.5\n",
    "string = \"string\"\n",
    "\n",
    "print(inteiro)\n",
    "print(str(inteiro),':', type(inteiro))\n",
    "\n",
    "\n",
    "print(flutuante)\n",
    "print(str(flutuante),':', type(flutuante))\n",
    "\n",
    "print(\"Inteiro str: \", str(inteiro))\n",
    "\n"
   ]
  },
  {
   "cell_type": "code",
   "execution_count": 12,
   "metadata": {},
   "outputs": [
    {
     "name": "stdout",
     "output_type": "stream",
     "text": [
      "Luiz é a pessoa mais rica do mundo\n"
     ]
    }
   ],
   "source": [
    "## exercicio 4: crie uma string variavel que receba um nome de uma pessoa e devolva uma frase dizendo que ela é a pessoa mais rico no mundo\n",
    "pessoa=\"Luiz\"\n",
    "str_rico = f\"{pessoa} é a pessoa mais rica do mundo\"\n",
    "print(str_rico)"
   ]
  },
  {
   "cell_type": "code",
   "execution_count": null,
   "metadata": {},
   "outputs": [
    {
     "name": "stdout",
     "output_type": "stream",
     "text": [
      "seu nome é luiz\n"
     ]
    }
   ],
   "source": [
    "nome = input(\"Digite seu nome:\")\n",
    "print(f\"seu nome é {nome}\")"
   ]
  },
  {
   "cell_type": "code",
   "execution_count": null,
   "metadata": {},
   "outputs": [
    {
     "name": "stdout",
     "output_type": "stream",
     "text": [
      "num + 2 = 6\n"
     ]
    }
   ],
   "source": [
    "num = int(input(\"Numero:\"))\n",
    "print(f\"num + 2 = {num +2}\")"
   ]
  },
  {
   "cell_type": "code",
   "execution_count": 18,
   "metadata": {},
   "outputs": [
    {
     "name": "stdout",
     "output_type": "stream",
     "text": [
      "Pessoa mais rica: luiz\n"
     ]
    }
   ],
   "source": [
    "#execicio: prite \"pessoa mai rica\" com nome vindo de um input\n",
    "\n",
    "pessoa = input(\"Digite o nome mais rica do mundo:\")\n",
    "print(f\"Pessoa mais rica: {pessoa}\")"
   ]
  },
  {
   "cell_type": "code",
   "execution_count": null,
   "metadata": {},
   "outputs": [
    {
     "name": "stdout",
     "output_type": "stream",
     "text": [
      "3 + 3 = 6\n"
     ]
    }
   ],
   "source": [
    "# exercicio: crie um programa que soma 3 a um numero\n",
    "\n",
    "num = int(input(\"Digite um número:\"))\n",
    "out = num + 3\n",
    "print(f\"{num} + 3 = {out}\")"
   ]
  },
  {
   "cell_type": "code",
   "execution_count": 21,
   "metadata": {},
   "outputs": [
    {
     "name": "stdout",
     "output_type": "stream",
     "text": [
      "PREÇO DE VALORIZACAO:40.0\n",
      "PREÇO DE QUEDA:10.0\n"
     ]
    }
   ],
   "source": [
    "# Desaios: input - ticker, cotacao (float) -> mostrar preco da valorização em 100% ou queda de 50%\n",
    "\n",
    "ticker = input(\"Ação:\")\n",
    "cotacao = float(input(f\"Cotação de {ticker}\"))\n",
    "\n",
    "valorizacao = cotacao*(1 +100/100)\n",
    "queda = cotacao*(1-50/100)\n",
    "print(f\"PREÇO DE VALORIZACAO:{valorizacao}\")\n",
    "print(f\"PREÇO DE QUEDA:{queda}\")\n"
   ]
  },
  {
   "cell_type": "code",
   "execution_count": 22,
   "metadata": {},
   "outputs": [
    {
     "name": "stdout",
     "output_type": "stream",
     "text": [
      "num:30\n",
      "raiz:5.477225575051661\n",
      "quadrado:900\n",
      "metade:15\n",
      "antecessor:29\n",
      "sucessor:31\n"
     ]
    }
   ],
   "source": [
    "# input - num inteiro , out: dobro, raiz quadrada, elevado ao quadrado,  divido por dois, antecessor e sucessor:\n",
    "\n",
    "num = int(input(\"Número:\"))\n",
    "raiz = num**(1/2)\n",
    "quadrado = num**2\n",
    "metade = num//2\n",
    "antecessor = num -1\n",
    "sucessor = num + 1\n",
    "\n",
    "print(f\"num:{num}\")\n",
    "print(f\"raiz:{raiz}\")\n",
    "print(f\"quadrado:{quadrado}\")\n",
    "print(f\"metade:{metade}\")\n",
    "print(f\"antecessor:{antecessor}\")\n",
    "print(f\"sucessor:{sucessor}\")\n",
    "\n",
    "\n",
    "\n"
   ]
  },
  {
   "cell_type": "code",
   "execution_count": 1,
   "metadata": {},
   "outputs": [],
   "source": [
    "import random\n",
    "from random import choice "
   ]
  },
  {
   "cell_type": "code",
   "execution_count": 12,
   "metadata": {},
   "outputs": [
    {
     "name": "stdout",
     "output_type": "stream",
     "text": [
      "entre 0 e 1: 0.36123583387813807\n"
     ]
    }
   ],
   "source": [
    "num_entre_0_1 = random.random()\n",
    "\n",
    "print(f\"entre 0 e 1: {num_entre_0_1}\")"
   ]
  },
  {
   "cell_type": "code",
   "execution_count": 13,
   "metadata": {},
   "outputs": [
    {
     "name": "stdout",
     "output_type": "stream",
     "text": [
      "num 10 a 100: 66.32609337013696\n"
     ]
    }
   ],
   "source": [
    "num_10_100_probabilidade_uniforme = random.uniform(10, 100)\n",
    "print(f\"num 10 a 100: {num_10_100_probabilidade_uniforme}\")"
   ]
  },
  {
   "cell_type": "code",
   "execution_count": 17,
   "metadata": {},
   "outputs": [
    {
     "name": "stdout",
     "output_type": "stream",
     "text": [
      " num inteiro  aleatorio 10 a 100: 44\n"
     ]
    }
   ],
   "source": [
    "num_int_random_10_100 = random.randint(10,100)\n",
    "print(f\" num inteiro  aleatorio 10 a 100: {num_int_random_10_100}\")"
   ]
  },
  {
   "cell_type": "code",
   "execution_count": 59,
   "metadata": {},
   "outputs": [
    {
     "name": "stdout",
     "output_type": "stream",
     "text": [
      "dist normal media: 10, variancia: 30 : 16.812914629281387\n"
     ]
    }
   ],
   "source": [
    "num_aleatorio_normal = random.gauss(10, 30)\n",
    "print(f\"dist normal media: 10, variancia: 30 : {num_aleatorio_normal}\")\n",
    "\n"
   ]
  },
  {
   "cell_type": "code",
   "execution_count": 65,
   "metadata": {},
   "outputs": [
    {
     "name": "stdout",
     "output_type": "stream",
     "text": [
      "Empresa escolhida: WEGE3\n"
     ]
    }
   ],
   "source": [
    "tickers = ['WEGE3', 'PCAR3', 'LREN3']\n",
    "\n",
    "\n",
    "empresa_escolhida = choice(tickers)\n",
    "\n",
    "print(f\"Empresa escolhida: {empresa_escolhida}\")\n",
    "\n"
   ]
  },
  {
   "cell_type": "markdown",
   "metadata": {},
   "source": [
    "# EXERCICIOS"
   ]
  },
  {
   "cell_type": "code",
   "execution_count": 146,
   "metadata": {},
   "outputs": [
    {
     "name": "stdout",
     "output_type": "stream",
     "text": [
      "escolha moeda: coroa\n"
     ]
    }
   ],
   "source": [
    "# Exercicio 9: Crie um programa que escolha entre cara ou coroa e printe o resultado na tela\n",
    "\n",
    "moeda = [\"cara\", \"coroa\"]\n",
    "escolha_moeda = choice(moeda)\n",
    "print(f\"escolha moeda: {escolha_moeda}\")\n",
    "\n",
    "\n",
    "\n"
   ]
  },
  {
   "cell_type": "code",
   "execution_count": 142,
   "metadata": {},
   "outputs": [
    {
     "name": "stdout",
     "output_type": "stream",
     "text": [
      "num: 5.735597483219344\n",
      "Sua nota na prova foi 5.73\n"
     ]
    }
   ],
   "source": [
    "# Exercicio 10 - Nota aleatoria entre 0 e 10 \n",
    "r = random.uniform(0,10)\n",
    "print(\"num:\", r)\n",
    "n_inteira = r%1\n",
    "inteira = r//1\n",
    "n_inteira_2_casas = ((n_inteira*100)//1)/100\n",
    "\n",
    "#s = str(r)\n",
    "#nota = float(s[0:4])\n",
    "nota = inteira + n_inteira_2_casas\n",
    "print(f\"Sua nota na prova foi {nota}\")"
   ]
  },
  {
   "cell_type": "markdown",
   "metadata": {},
   "source": [
    "# MUNDO 11"
   ]
  },
  {
   "cell_type": "code",
   "execution_count": 148,
   "metadata": {},
   "outputs": [
    {
     "name": "stdout",
     "output_type": "stream",
     "text": [
      "['Weg', 'Raia Drogasil', 'Vale', 'Lojas Renner']\n"
     ]
    }
   ],
   "source": [
    "lista_base = ['Weg', 'Raia Drogasil', 'Vale', 'Lojas Renner']\n",
    "lista_base = list(['Weg', 'Raia Drogasil', 'Vale', 'Lojas Renner'])\n",
    "print(lista_base)\n"
   ]
  },
  {
   "cell_type": "code",
   "execution_count": 149,
   "metadata": {},
   "outputs": [
    {
     "name": "stdout",
     "output_type": "stream",
     "text": [
      "['Flamengo', 8, 'campeanatos brasileiros']\n"
     ]
    }
   ],
   "source": [
    "lista_vazia = []\n",
    "lista_tipos_diferentes = ['Flamengo',8,'campeanatos brasileiros']\n",
    "\n",
    "print(lista_tipos_diferentes)"
   ]
  },
  {
   "cell_type": "code",
   "execution_count": 150,
   "metadata": {},
   "outputs": [
    {
     "name": "stdout",
     "output_type": "stream",
     "text": [
      "1 2 3 \n",
      "4 5 6 \n",
      "7 8 9 \n"
     ]
    }
   ],
   "source": [
    "lista_dentro_de_lista = [[1,2,3],[4,5,6],[7,8,9]]\n",
    "\n",
    "for lista in lista_dentro_de_lista:\n",
    "    for item in lista:\n",
    "        print(item, end= ' ')\n",
    "    print()"
   ]
  },
  {
   "cell_type": "markdown",
   "metadata": {},
   "source": [
    "# Manipulação de lista"
   ]
  },
  {
   "cell_type": "code",
   "execution_count": 151,
   "metadata": {},
   "outputs": [
    {
     "name": "stdout",
     "output_type": "stream",
     "text": [
      "['compra tudo', 'vende um pouco', 'vende sua casa para comprar', 'comprar devagar', 'vende rápido ou vai quebrar', 'compra mais']\n"
     ]
    }
   ],
   "source": [
    "lista_sinais = []\n",
    "\n",
    "\n",
    "lista_sinais.append('compra tudo')\n",
    "lista_sinais.append('vende um pouco')\n",
    "lista_sinais.append('vende sua casa para comprar')\n",
    "lista_sinais.append('comprar devagar')\n",
    "lista_sinais.append('vende rápido ou vai quebrar')\n",
    "lista_sinais.append('compra mais')\n",
    "\n",
    "\n",
    "print(lista_sinais)"
   ]
  },
  {
   "cell_type": "code",
   "execution_count": null,
   "metadata": {},
   "outputs": [
    {
     "name": "stdout",
     "output_type": "stream",
     "text": [
      "compra tudo\n",
      "vende um pouco\n",
      "compra mais\n",
      "[1, 2, 3]\n",
      "1\n"
     ]
    }
   ],
   "source": [
    "# selecionanddo elementos\n",
    "\n",
    "print(lista_sinais[0])\n",
    "print(lista_sinais[1])\n",
    "print(lista_sinais[-1])\n",
    "print(lista_dentro_de_lista[0])\n",
    "print(lista_dentro_de_lista[0][0])\n"
   ]
  },
  {
   "cell_type": "code",
   "execution_count": 157,
   "metadata": {},
   "outputs": [
    {
     "name": "stdout",
     "output_type": "stream",
     "text": [
      "['compra tudo', 'vende um pouco']\n",
      "['vende um pouco', 'vende sua casa para comprar', 'comprar devagar', 'vende rápido ou vai quebrar', 'compra mais']\n",
      "['compra tudo', 'vende um pouco', 'vende sua casa para comprar']\n",
      "['vende rápido ou vai quebrar', 'compra mais']\n",
      "['vende rápido ou vai quebrar', 'compra mais']\n"
     ]
    }
   ],
   "source": [
    "# selecionando varios elementos\n",
    "\n",
    "print(lista_sinais[0:2])\n",
    "print(lista_sinais[1:])\n",
    "print(lista_sinais[:3])\n",
    "print(lista_sinais[-2:])\n",
    "print(lista_sinais[-2:])"
   ]
  },
  {
   "cell_type": "code",
   "execution_count": 158,
   "metadata": {},
   "outputs": [
    {
     "name": "stdout",
     "output_type": "stream",
     "text": [
      "['compra tudo', 'vende um pouco', 'vende sua casa para comprar', 'comprar devagar', 'vende rápido ou vai quebrar', 'compra mais']\n",
      "['vende', 'vende um pouco', 'vende sua casa para comprar', 'comprar devagar', 'vende rápido ou vai quebrar', 'compra mais']\n"
     ]
    }
   ],
   "source": [
    "#alterando sinais\n",
    "print(lista_sinais)\n",
    "lista_sinais[0] = 'vende'\n",
    "print(lista_sinais)"
   ]
  },
  {
   "cell_type": "code",
   "execution_count": null,
   "metadata": {},
   "outputs": [
    {
     "name": "stdout",
     "output_type": "stream",
     "text": [
      "['vende', 'vende um pouco', 'vende sua casa para comprar', 'comprar devagar', 'vende rápido ou vai quebrar', 'compra mais']\n",
      "['vende', 'vende um pouco', 'compra até acabar o caixa', 'vende sua casa para comprar', 'comprar devagar', 'vende rápido ou vai quebrar', 'compra mais']\n"
     ]
    }
   ],
   "source": [
    "#inserindo elementos em ums posição escolhida\n",
    "\n",
    "print(lista_sinais)\n",
    "lista_sinais.insert(2, \"compra até acabar o caixa\")\n",
    "print(lista_sinais)\n"
   ]
  },
  {
   "cell_type": "code",
   "execution_count": 161,
   "metadata": {},
   "outputs": [
    {
     "name": "stdout",
     "output_type": "stream",
     "text": [
      "['vende', 'vende um pouco', 'compra até acabar o caixa', 'vende sua casa para comprar', 'comprar devagar', 'vende rápido ou vai quebrar', 'compra mais']\n",
      "['vende', 'vende um pouco', 'vende sua casa para comprar', 'comprar devagar', 'vende rápido ou vai quebrar', 'compra mais']\n"
     ]
    }
   ],
   "source": [
    "# remover elementos da lista\n",
    "print(lista_sinais)\n",
    "lista_sinais.remove('compra até acabar o caixa')\n",
    "print(lista_sinais)"
   ]
  },
  {
   "cell_type": "code",
   "execution_count": null,
   "metadata": {},
   "outputs": [
    {
     "name": "stdout",
     "output_type": "stream",
     "text": [
      "['vende', 'vende um pouco', 'vende sua casa para comprar', 'comprar devagar', 'vende rápido ou vai quebrar', 'compra mais']\n",
      "['vende um pouco', 'vende sua casa para comprar', 'comprar devagar', 'vende rápido ou vai quebrar', 'compra mais']\n"
     ]
    }
   ],
   "source": [
    "# remove uma posição específica\n",
    "print(lista_sinais)\n",
    "del lista_sinais[0]\n",
    "print(lista_sinais)\n"
   ]
  },
  {
   "cell_type": "code",
   "execution_count": null,
   "metadata": {},
   "outputs": [
    {
     "name": "stdout",
     "output_type": "stream",
     "text": [
      "compra tudo in lista: False\n",
      "compra tudo não in lista: True\n"
     ]
    }
   ],
   "source": [
    "# verifica se elemento em lista\n",
    "\n",
    "verificando_compra_tudo = \"compra tudo\" in lista_sinais\n",
    "verificando_compra_tudo_nao_em_lista = \"compra tudo\" not in lista_sinais\n",
    "print(f\"compra tudo in lista:\", verificando_compra_tudo)\n",
    "print(f\"compra tudo não in lista:\", verificando_compra_tudo_nao_em_lista)\n",
    " "
   ]
  },
  {
   "cell_type": "code",
   "execution_count": 166,
   "metadata": {},
   "outputs": [
    {
     "name": "stdout",
     "output_type": "stream",
     "text": [
      "lista1: [1, 2, 3]\n",
      "lista2: [4, 5, 6]\n",
      "lista1+lista2: [1, 2, 3, 4, 5, 6]\n"
     ]
    }
   ],
   "source": [
    "#junção de lista\n",
    "\n",
    "lista_1 = [1,2,3]\n",
    "lista_2 = [4,5,6]\n",
    "\n",
    "lista_final = lista_1 + lista_2\n",
    "\n",
    "print(\"lista1:\", lista_1)\n",
    "print(\"lista2:\", lista_2)\n",
    "print(\"lista1+lista2:\", lista_final)\n"
   ]
  },
  {
   "cell_type": "code",
   "execution_count": 169,
   "metadata": {},
   "outputs": [
    {
     "name": "stdout",
     "output_type": "stream",
     "text": [
      "lista desordenada: [1, -1, 7, 5, 4]\n",
      "lista ordenada crescente: [-1, 1, 4, 5, 7]\n",
      "lista ordenada decrescente: [7, 5, 4, 1, -1]\n"
     ]
    }
   ],
   "source": [
    "# ordenação em lista\n",
    "\n",
    "lista_desordenada = [1,-1,7,5,4]\n",
    "lista_ordenanda_crescente = sorted(lista_desordenada)\n",
    "lista_ordenanda_decrescente = sorted(lista_desordenada, reverse=True)\n",
    "print(\"lista desordenada:\", lista_desordenada)\n",
    "print(\"lista ordenada crescente:\", lista_ordenanda_crescente)\n",
    "print(\"lista ordenada decrescente:\", lista_ordenanda_decrescente)"
   ]
  },
  {
   "cell_type": "code",
   "execution_count": 168,
   "metadata": {},
   "outputs": [
    {
     "name": "stdout",
     "output_type": "stream",
     "text": [
      "5\n"
     ]
    }
   ],
   "source": [
    "# extraindo o tamanho de uma lista\n",
    "\n",
    "print(len(lista_ordenanda_crescente))"
   ]
  },
  {
   "cell_type": "code",
   "execution_count": 170,
   "metadata": {},
   "outputs": [
    {
     "name": "stdout",
     "output_type": "stream",
     "text": [
      "7\n",
      "-1\n",
      "16\n"
     ]
    }
   ],
   "source": [
    "# extrainfdo max min e soma de uma lista\n",
    "\n",
    "print(max(lista_desordenada))\n",
    "print(min(lista_desordenada))\n",
    "print(sum(lista_desordenada))"
   ]
  },
  {
   "cell_type": "markdown",
   "metadata": {},
   "source": [
    "# TUPLA"
   ]
  },
  {
   "cell_type": "code",
   "execution_count": 175,
   "metadata": {},
   "outputs": [
    {
     "name": "stdout",
     "output_type": "stream",
     "text": [
      "(2, 3, 5, 2, 2)\n",
      " numero de 2s: 3\n",
      "tamnho da tupla: 5\n",
      "tamnho da lista: 5\n"
     ]
    }
   ],
   "source": [
    "t = (2,3,5,2,2)\n",
    "print(t)\n",
    "print(f\" numero de 2s: {t.count(2)}\")\n",
    "\n",
    "print(f\"tamnho da tupla: {len(t)}\")\n",
    "print(f\"tamnho da lista: {len(lista_desordenada)}\")"
   ]
  },
  {
   "cell_type": "markdown",
   "metadata": {},
   "source": [
    "# DESAFIO"
   ]
  },
  {
   "cell_type": "code",
   "execution_count": 178,
   "metadata": {},
   "outputs": [
    {
     "name": "stdout",
     "output_type": "stream",
     "text": [
      "precos:[1.0, 2.0, 3.0, 4.0]\n",
      "Recomendação: 1.0\n"
     ]
    }
   ],
   "source": [
    "# desafio 11:  pegue 4 preco e coloque numa lista. Pegue a min\n",
    "l = []\n",
    "for i in range(4):\n",
    "    l.append(float(input(\"Preço do ticker da empresa{i}\")))\n",
    "print(f\"precos:{l}\")    \n",
    "print(f\"Recomendação: {min(l)}\")"
   ]
  },
  {
   "cell_type": "code",
   "execution_count": 180,
   "metadata": {},
   "outputs": [
    {
     "name": "stdout",
     "output_type": "stream",
     "text": [
      "2 menos lucros:1.0, 2.0\n"
     ]
    }
   ],
   "source": [
    "#desafio : pegue o lucro de 5 empresas e devolva os dois menores\n",
    "lucros = []\n",
    "for i in range(5):\n",
    "    lucros.append(float(input(f\"Digite o lucro da empresa {i}\")))\n",
    "    \n",
    "lucros = sorted(lucros)\n",
    "\n",
    "print(f\"2 menos lucros:{lucros[0]}, {lucros[1]}\")\n"
   ]
  },
  {
   "cell_type": "markdown",
   "metadata": {},
   "source": [
    "# MUNDO 12"
   ]
  },
  {
   "cell_type": "code",
   "execution_count": 5,
   "metadata": {},
   "outputs": [
    {
     "name": "stdout",
     "output_type": "stream",
     "text": [
      "set1:{'emp1', 'emp3', 'emp2'}\n",
      "set2:{'emp1', 'emp4', 'emp5'}\n",
      "intersecao:{'emp1'}\n",
      "diff:{'emp3', 'emp2'}\n",
      "uniao:{'emp5', 'emp3', 'emp2', 'emp1', 'emp4'}\n"
     ]
    }
   ],
   "source": [
    "#Exercicio - pehar duas carterias com 3 empresas cada - devolver interseção, diferença e união\n",
    "set1 = set()\n",
    "set2 = set()\n",
    "i = 1\n",
    "while len(set1)< 3:\n",
    "    set1.add(input(f\"Digite o nome da empresa {i} na carteira 1\"))\n",
    "    i+=1\n",
    "i =1 \n",
    "while len(set2)< 3:\n",
    "    set2.add(input(f\"Digite o nome da empresa {i} na carteira 2\"))\n",
    "    i+=1\n",
    "    \n",
    "intersecao = set1 & set2 \n",
    "diff = set1 - set2 \n",
    "uniao = set1 | set2 \n",
    "print(f\"set1:{set1}\")\n",
    "print(f\"set2:{set2}\")\n",
    "print(f\"intersecao:{intersecao}\")\n",
    "print(f\"diff:{diff}\")\n",
    "print(f\"uniao:{uniao}\")\n",
    "\n"
   ]
  },
  {
   "cell_type": "code",
   "execution_count": 6,
   "metadata": {},
   "outputs": [
    {
     "name": "stdout",
     "output_type": "stream",
     "text": [
      "{1, 2, 3, 4, 5}\n"
     ]
    }
   ],
   "source": [
    "set_a = {1, 2, 3}\n",
    "set_b = {3, 4, 5}\n",
    "union_set = set_a | set_b  # Alternate: set_a.union(set_b)\n",
    "print(union_set)"
   ]
  },
  {
   "cell_type": "markdown",
   "metadata": {},
   "source": [
    "# DICIONARIOS"
   ]
  },
  {
   "cell_type": "code",
   "execution_count": 9,
   "metadata": {},
   "outputs": [
    {
     "name": "stdout",
     "output_type": "stream",
     "text": [
      "empresa Empresa A\n",
      "cnpj 12345466\n",
      "codigo EMPA\n",
      "ano de fundação: 2000\n",
      "segmento educacao\n",
      "pl 2.4\n",
      "roe 2.23\n"
     ]
    }
   ],
   "source": [
    "# EXERCICIOS\n",
    "\n",
    "empresa = {'Nome': \"Empresa A\", \"CNPJ\": \"12345466\", \"Codigo\": \"EMPA\", \"ano\":2000, \"segmento\":\"educacao\", \"PL\": 2.4, \"ROE\":2.23}\n",
    "#print(empresa)\n",
    "print(f\"empresa {empresa['Nome']}\")\n",
    "print(f\"cnpj {empresa['CNPJ']}\")\n",
    "print(f\"codigo {empresa['Codigo']}\")\n",
    "print(f\"ano de fundação: {empresa['ano']}\")\n",
    "print(f\"segmento {empresa['segmento']}\")\n",
    "print(f\"pl {empresa['PL']}\")\n",
    "print(f\"roe {empresa['ROE']}\")\n",
    "\n",
    "compraria = input(\"Compraria essa empresa? Y/N\")"
   ]
  },
  {
   "cell_type": "markdown",
   "metadata": {},
   "source": [
    "# MANIPULAÇÃO DE TEXTOS"
   ]
  },
  {
   "cell_type": "code",
   "execution_count": 10,
   "metadata": {},
   "outputs": [],
   "source": [
    "import re"
   ]
  },
  {
   "cell_type": "code",
   "execution_count": 20,
   "metadata": {},
   "outputs": [
    {
     "name": "stdout",
     "output_type": "stream",
     "text": [
      "primeira letra:e\n",
      "ultima letra:s\n",
      "tamanho nome empresa:6\n",
      "nome empresa maiscula:EMPSSS\n",
      "nome empresa primeira letra maiscula:Empsss\n",
      "replace 2 primeiras letras:tranqueirapsss\n",
      "<re.Match object; span=(0, 13), match='(61)991234428'>\n",
      "match\n"
     ]
    }
   ],
   "source": [
    "#desafio\n",
    "''' Crie um programa que leia o nome de empresa fornecida pelo usuario e retorne as seguintes informações\n",
    "- a primeira letra da empresa\n",
    "- a ultima letra da empresa\n",
    "- o tamanho da palavra que compoe o nome da empresa\n",
    "- o nome da empresa em letra maiúscula\n",
    "- o nome da empresa com a primeira letra maiscula\n",
    "- o nome da empresa com as 2 letras da empresa subtituido por tranqueira\n",
    "\n",
    "\n",
    "-Exercicio 2: validação de telefone fico ou celular com DDD\n",
    "\n",
    "'''\n",
    "\n",
    "#empresa = input(\"Digite o nome da empresa:\")\n",
    "empresa = \"empsss\"\n",
    "\n",
    "\n",
    "print(f\"primeira letra:{empresa[0]}\")\n",
    "print(f\"ultima letra:{empresa[-1]}\")\n",
    "print(f\"tamanho nome empresa:{len(empresa)}\")\n",
    "print(f\"nome empresa maiscula:{empresa.upper()}\")\n",
    "print(f\"nome empresa primeira letra maiscula:{empresa.title()}\")\n",
    "nome_novo = empresa.replace(empresa[:2],\"tranqueira\")\n",
    "print(f\"replace 2 primeiras letras:{ nome_novo}\")\n",
    "\n",
    "\n",
    "padrao = \"([0-9]{2,3})?(\\(?[0-9]{2}\\)?)([0-9]{4,5})-?([0-9]{4})\"\n",
    "telefone = input(\"Telefone:\")\n",
    "r = re.search(padrao,telefone)\n",
    "print(r)\n",
    "\n",
    "if (r):\n",
    "    print(\"match\")\n",
    "\n",
    "\n",
    "\n",
    "\n",
    "\n"
   ]
  },
  {
   "cell_type": "markdown",
   "metadata": {},
   "source": [
    "# Mundo 16"
   ]
  },
  {
   "cell_type": "code",
   "execution_count": 1,
   "metadata": {},
   "outputs": [],
   "source": [
    "\n",
    "#banco de dados\n",
    "\n",
    "weg = {\"Ticker\": \"WEGE3\", \"Lucro\": 1700, 'Segmento de listagem': \"Novo mercado\", 'ROE': 0.20}\n",
    "\n",
    "vale = {\"Ticker\": \"VALE3\", \"Lucro\": 21700, 'Segmento de listagem': \"Novo mercado\", 'ROE': 0.19}\n",
    "\n",
    "petrobras = {\"Ticker\": [\"PETR3\", \"PETR4\"], \"Lucro\": 6700, 'Segmento de listagem': \"Nível 2\", 'ROE': 0.15}\n",
    "\n",
    "tranqueira_fc = {\"Ticker\": \"TRNQ3\", \"Lucro\": -20000, 'Segmento de listagem': \"Tradicional\", 'ROE': 0.02}\n",
    "\n",
    "\n"
   ]
  },
  {
   "cell_type": "code",
   "execution_count": null,
   "metadata": {},
   "outputs": [],
   "source": [
    "empresa_escolhida = str(input(\"Escolha uma empresa entre Weg, Petrobras ou Vale\")).lower()\n"
   ]
  },
  {
   "cell_type": "code",
   "execution_count": null,
   "metadata": {},
   "outputs": [],
   "source": [
    "if (empresa_escolhida == \"weg\"):\n",
    "    porcetagem_roe = \"{:.0%}\".format(weg['ROE'])\n",
    "    print(f\"O lucro da Weg é R${weg['Lucro']}, seu código de negociação é {weg['Ticker']}, e o ROE da empresa é de {porcetagem_roe}\")\n",
    "\n",
    "elif (empresa_escolhida == 'vale'):\n",
    "    porcetagem_roe = \"{:.0%}\".format(vale['ROE'])\n",
    "    print(f\"O lucro da Vale é R${vale['Lucro']}, seu código de negociação é {vale['Ticker']}, e o ROE da empresa é de {porcetagem_roe}\")\n",
    "\n",
    "\n",
    "elif (empresa_escolhida == 'petrobras'):\n",
    "    porcetagem_roe = \"{:.0%}\".format(petrobras['ROE'])\n",
    "    print(f\"O lucro da Vale é R${petrobras['Lucro']}, seu código de negociação é {petrobras['Ticker']}, e o ROE da empresa é de {porcetagem_roe}\")\n",
    "else:\n",
    "    print(\"Por favor, digite uma empresa válida\")\n",
    "\n",
    "    \n",
    "    \n",
    "    "
   ]
  },
  {
   "cell_type": "code",
   "execution_count": 2,
   "metadata": {},
   "outputs": [],
   "source": [
    "empresa_escolhida = str(input(\"Escolha uma empresa entre Weg, Petrobras ou Tranqueira\")).lower()\n",
    "escolha = True\n"
   ]
  },
  {
   "cell_type": "code",
   "execution_count": null,
   "metadata": {},
   "outputs": [],
   "source": [
    "if (empresa_escolhida == \"tranqueira\"):\n",
    "    \n",
    "    usuario_escolha = str(input(\"Tem certeza que deseja saber sobre a Tranqueira? Digite 'S' para sim e 'N' para não:\")).lower()\n",
    "    \n",
    "    if (usuario_escolha == 'n'):\n",
    "        escolha = False\n",
    "    else: \n",
    "        pass\n",
    "    "
   ]
  },
  {
   "cell_type": "code",
   "execution_count": null,
   "metadata": {},
   "outputs": [],
   "source": [
    "if (empresa_escolhida == \"weg\"):\n",
    "    porcetagem_roe = \"{:.0%}\".format(weg['ROE'])\n",
    "    print(f\"O lucro da Weg é R${weg['Lucro']}, seu código de negociação é {weg['Ticker']}, e o ROE da empresa é de {porcetagem_roe}\")\n",
    "\n",
    "elif (empresa_escolhida == 'vale'):\n",
    "    porcetagem_roe = \"{:.0%}\".format(vale['ROE'])\n",
    "    print(f\"O lucro da Vale é R${vale['Lucro']}, seu código de negociação é {vale['Ticker']}, e o ROE da empresa é de {porcetagem_roe}\")\n",
    "\n",
    "\n",
    "elif (empresa_escolhida == 'petrobras'):\n",
    "    porcetagem_roe = \"{:.0%}\".format(petrobras['ROE'])\n",
    "    print(f\"O lucro da Vale é R${petrobras['Lucro']}, seu código de negociação é {petrobras['Ticker']}, e o ROE da empresa é de {porcetagem_roe}\")\n",
    "    \n",
    "    \n",
    "\n",
    "elif (empresa_escolhida == 'tranqueira') and escolha != False:\n",
    "    porcetagem_roe = \"{:.0%}\".format(tranqueira_fc['ROE'])\n",
    "    print(f\"O lucro da Tranqueira é R${tranqueira_fc['Lucro']}, seu código de negociação é {tranqueira_fc['Ticker']}, e o ROE da empresa é de {porcetagem_roe}\")\n",
    "    \n",
    "    \n",
    "\n",
    "else:\n",
    "    print(\"Por favor, digite uma empresa válida\")\n"
   ]
  },
  {
   "cell_type": "code",
   "execution_count": null,
   "metadata": {},
   "outputs": [
    {
     "name": "stdout",
     "output_type": "stream",
     "text": [
      "False False False\n",
      "Comprar a\n",
      "Não comprar a2\n",
      "Comprar a3\n"
     ]
    }
   ],
   "source": [
    "# EXERCICIO 18 \n",
    "import pandas as pd\n",
    "weg = {\"Ticker\": \"WEGE3\", \"Lucro\": 1700, 'Segmento de listagem': \"Novo mercado\", 'ROE': 0.20}\n",
    "\n",
    "vale = {\"Ticker\": \"VALE3\", \"Lucro\": 21700, 'Segmento de listagem': \"Novo mercado\", 'ROE': 0.19}\n",
    "\n",
    "petrobras = {\"Ticker\": [\"PETR3\", \"PETR4\"], \"Lucro\": 6700, 'Segmento de listagem': \"Nível 2\", 'ROE': 0.15}\n",
    "\n",
    "tranqueira_fc = {\"Ticker\": \"TRNQ3\", \"Lucro\": -20000, 'Segmento de listagem': \"Tradicional\", 'ROE': 0.02}\n",
    "\n",
    "codigo = input(\"Escreva o código de negociação de uma empresa:\")\n",
    "on = False\n",
    "pn = False\n",
    "unit = False\n",
    "\n",
    "if (codigo[-1] == '3'):\n",
    "    on = True\n",
    "    \n",
    "elif (codigo[-1] == '4'):\n",
    "    pn = True\n",
    "    \n",
    "    \n",
    "elif (codigo[-2:] == '11'):\n",
    "    unit = True\n",
    "    \n",
    "print(on, pn, unit )\n",
    "empresas = []\n",
    "roes = []\n",
    "lucros = []\n",
    "for i in range(3):\n",
    "    nome_empresa = input(\"nome da empresa\")\n",
    "    empresas.append(nome_empresa)\n",
    "    roes.append(float(input(f\"roe da {nome_empresa}\")))\n",
    "    lucros.append(float(input(f\"preço/lucro da {nome_empresa}\")))\n",
    "    #\n",
    "    #roe = float(input(f\"roe da {nome_empresa}\"))\n",
    "    #lucro = float(input(f\"preço/lucro da {nome_empresa}\"))\n",
    "\n",
    "\n",
    "df = pd.DataFrame({\n",
    "    \"Empresa\": empresas,\n",
    "    \"ROE\": roes,\n",
    "    \"Lucro\": lucros\n",
    "}\n",
    ")\n",
    "\n",
    "print(df)\n",
    "\n",
    "\n",
    "for i, row in df.iterrows():\n",
    "    roe = row['ROE']\n",
    "    lucro = row['Lucro']\n",
    "    empresa = row['Empresa']\n",
    "    \n",
    "    if(roe > 0.2 and lucro > 20  ):\n",
    "        print(f\"Comprar {empresa}\")\n",
    "    elif(roe > 0.2 and lucro < 5  ):\n",
    "        print(f\"Não comprar {empresa}\")\n",
    "    \n",
    "    \n",
    "    \n",
    "    \n",
    "\n"
   ]
  },
  {
   "cell_type": "markdown",
   "metadata": {},
   "source": [
    "# Mundo 18"
   ]
  },
  {
   "cell_type": "markdown",
   "metadata": {},
   "source": [
    "# Desafios\n",
    "\n",
    "* Exercício 20: Faça um programa que leia a cotação de 5 empresas. No final, mostre na tela qual foi a maior e a menor cotação lida.\n",
    "\n",
    "\n",
    "* Exercício 21: Crie uma ferramenta que deixe o usuário montar uma carteira de investimento e receba 3 informações: nome da empresa, P/L (inteiro) e roe. A ferramenta deixará o usuário adicionar quantas empresas ele quiser. Depois que o cadastro de empresas terminar, o programa irá exibir as seguinte estatísticas da carteira montada:\n",
    "    - Numero de ativos na carteira\n",
    "    - Média de P/L\n",
    "    - Média do ROE\n",
    "    - Qual a empresa mais barata da carteira (menor P/L)\n",
    "    - Se o usuário tiver menos de 3 ativos, avisar que a carteira está muito concentrada em poucos ativos "
   ]
  },
  {
   "cell_type": "code",
   "execution_count": 15,
   "metadata": {},
   "outputs": [
    {
     "name": "stdout",
     "output_type": "stream",
     "text": [
      "Maior: 5.0\n",
      "Menor: 1.0\n"
     ]
    }
   ],
   "source": [
    "# EX 20\n",
    "maior = 0\n",
    "menor =float('inf')\n",
    "for i in range(5):\n",
    "    cotacao = float(input(f\"Cotacao da empresa {i+1}\"))\n",
    "    if cotacao > maior:\n",
    "        maior = cotacao\n",
    "    if cotacao < menor:\n",
    "        menor = cotacao\n",
    "        \n",
    "print(f\"Maior: {maior}\")\n",
    "print(f\"Menor: {menor}\")\n",
    "    "
   ]
  },
  {
   "cell_type": "code",
   "execution_count": 14,
   "metadata": {},
   "outputs": [
    {
     "name": "stdout",
     "output_type": "stream",
     "text": [
      "  Nome empresa   PL  ROE\n",
      "0            a  1.0  1.0\n",
      "0            b  2.0  2.0\n",
      "Número de ativos na carteira: 2\n",
      "Media PL 1.5\n",
      "Media ROE 1.5\n",
      "Empresa mais barata Nome empresa      a\n",
      "PL              1.0\n",
      "ROE             1.0\n",
      "Name: 0, dtype: object\n",
      "Carteira com poucos ativos\n"
     ]
    },
    {
     "data": {
      "text/plain": [
       "'- Numero de ativos na carteira\\n    - Média de P/L\\n    - Média do ROE\\n    - Qual a empresa mais barata da carteira (menor P/L)\\n    - Se o usuário tiver menos de 3 ativos, avisar que a carteira está muito concentrada em poucos ativos '"
      ]
     },
     "execution_count": 14,
     "metadata": {},
     "output_type": "execute_result"
    }
   ],
   "source": [
    "  \n",
    "import pandas as pd \n",
    "\n",
    "   \n",
    "carteira = []\n",
    "cont = 1    \n",
    "while True:\n",
    "    nome_empresa = input(f\"Nome da empresa {cont}:\")\n",
    "    pl = float(input(f\"PL da empresa {cont}: \"))\n",
    "    roe = float(input(f\"ROE da empresa {cont}: \"))\n",
    "    cont += 1\n",
    "    carteira.append(\n",
    "        pd.DataFrame({\"Nome empresa\": nome_empresa, \"PL\": pl, \"ROE\": roe}, index=[0])\n",
    "    )\n",
    "    \n",
    "    sair = input(\"Deseja adicionar mais empresas? S/N\").lower()\n",
    "    if(sair == \"n\"):\n",
    "        break\n",
    "    \n",
    "carteira = pd.concat(carteira)\n",
    "\n",
    "print(carteira)\n",
    "\n",
    "num_ativos = len(carteira)\n",
    "sum_pl = sum(carteira['PL'])\n",
    "sum_roe = sum(carteira['ROE'])\n",
    "media_pl = sum_pl/num_ativos\n",
    "media_roe = sum_roe/num_ativos \n",
    "\n",
    "minn = float('inf')\n",
    "minn_index=0\n",
    "\n",
    "for i, cotacao in carteira.iterrows():\n",
    "    \n",
    "    if(cotacao['PL'] < minn):\n",
    "        minn = cotacao['PL']\n",
    "        minn_index = i\n",
    "\n",
    "empresa_mais_barata = carteira.iloc[minn_index]\n",
    "\n",
    "print(f\"Número de ativos na carteira: {num_ativos}\")    \n",
    "print(f\"Media PL {media_pl}\")    \n",
    "print(f\"Media ROE {media_roe}\")    \n",
    "print(f\"Empresa mais barata {empresa_mais_barata}\")\n",
    "if( num_ativos < 3):\n",
    "    print(\"Carteira com poucos ativos\")    \n",
    "\n",
    "    \n",
    "'''- Numero de ativos na carteira\n",
    "    - Média de P/L\n",
    "    - Média do ROE\n",
    "    - Qual a empresa mais barata da carteira (menor P/L)\n",
    "    - Se o usuário tiver menos de 3 ativos, avisar que a carteira está muito concentrada em poucos ativos '''\n",
    "    \n",
    "    "
   ]
  },
  {
   "cell_type": "code",
   "execution_count": 11,
   "metadata": {},
   "outputs": [
    {
     "name": "stdout",
     "output_type": "stream",
     "text": [
      "  Nome empresa   PL  ROE\n",
      "0            a  1.0  1.0\n",
      "0            b  2.0  2.0\n",
      "Numero de ativos: 2\n",
      "Média PL: 1.5\n",
      "Média ROE: 1.5\n",
      "Empresa mais barata:   Nome empresa   PL  ROE\n",
      "0            a  1.0  1.0\n",
      "Carteira muito concentrada\n"
     ]
    }
   ],
   "source": [
    "'''Exercício 21: Crie uma ferramenta que deixe o usuário montar uma carteira de investimento e receba 3 informações: nome da empresa, P/L (inteiro) e roe. A ferramenta deixará o usuário adicionar quantas empresas ele quiser. Depois que o cadastro de empresas terminar, o programa irá exibir as seguinte estatísticas da carteira montada:\n",
    "    - Numero de ativos na carteira\n",
    "    - Média de P/L\n",
    "    - Média do ROE\n",
    "    - Qual a empresa mais barata da carteira (menor P/L)\n",
    "    - Se o usuário tiver menos de 3 ativos, avisar que a carteira está muito concentrada em poucos ativos '''\n",
    "    \n",
    "import pandas as pd \n",
    "\n",
    "   \n",
    "carteira = []\n",
    "cont = 1    \n",
    "while True:\n",
    "    nome_empresa = input(f\"Nome da empresa {cont}:\")\n",
    "    pl = float(input(f\"PL da empresa {cont}: \"))\n",
    "    roe = float(input(f\"ROE da empresa {cont}: \"))\n",
    "    cont += 1\n",
    "    carteira.append(\n",
    "        pd.DataFrame({\"Nome empresa\": nome_empresa, \"PL\": pl, \"ROE\": roe}, index=[0])\n",
    "    )\n",
    "    \n",
    "    sair = input(\"Deseja adicionar mais empresas? S/N\").lower()\n",
    "    if(sair == \"n\"):\n",
    "        break\n",
    "\n",
    "carteira = pd.concat(carteira)\n",
    "\n",
    "print(carteira)\n",
    "\n",
    "numero_ativos = len(carteira)\n",
    "mean_pl = carteira[\"PL\"].mean()\n",
    "mean_roe = carteira[\"ROE\"].mean()\n",
    "min_pl  = carteira[\"PL\"].min()\n",
    "min_pl_empresa = carteira.loc[carteira[\"PL\"] == min_pl] \n",
    "\n",
    "'''- Numero de ativos na carteira\n",
    "    - Média de P/L\n",
    "    - Média do ROE\n",
    "    - Qual a empresa mais barata da carteira (menor P/L)\n",
    "    - Se o usuário tiver menos de 3 ativos, avisar que a carteira está muito concentrada em poucos ativos '''\n",
    "    \n",
    "print(f\"Numero de ativos: {numero_ativos}\")\n",
    "print(f\"Média PL: {mean_pl}\")\n",
    "print(f\"Média ROE: {mean_roe}\")\n",
    "print(f\"Empresa mais barata: {min_pl_empresa}\")\n",
    "\n",
    "if(numero_ativos <3 ):\n",
    "    print(\"Carteira muito concentrada\")\n",
    "\n",
    "    \n",
    "    "
   ]
  },
  {
   "cell_type": "markdown",
   "metadata": {},
   "source": [
    "# EXERCICIOS MUNDO 20"
   ]
  },
  {
   "cell_type": "markdown",
   "metadata": {},
   "source": [
    "# Desafios\n",
    "\n",
    "* Exercício 22: Crie uma função que recebe graus celsius digitado pelo usuário e converte para Fº.\n",
    "\n",
    "\n",
    "* Exercício 23: Crie uma função recebe uma lista de cotações e retorna o retorno diário dessa lista de cotações. "
   ]
  },
  {
   "cell_type": "code",
   "execution_count": 20,
   "metadata": {},
   "outputs": [
    {
     "name": "stdout",
     "output_type": "stream",
     "text": [
      "10 C: 50.0\n"
     ]
    }
   ],
   "source": [
    "# Exercicio 22\n",
    "#C/5 = F-32/9\n",
    "#F = 32 + C*9/5 \n",
    "\n",
    "def celsious_to_fahrenheit(c:float):\n",
    "    return 32 + (c*9)/5\n",
    "\n",
    "\n",
    "print(f\"10 C: {celsious_to_fahrenheit(10)}\")\n",
    "\n",
    "\n"
   ]
  },
  {
   "cell_type": "code",
   "execution_count": 19,
   "metadata": {},
   "outputs": [
    {
     "name": "stdout",
     "output_type": "stream",
     "text": [
      "1.4\n"
     ]
    }
   ],
   "source": [
    "cotacoes = [10,20,30]\n",
    "retorno = 0.01\n",
    "retorno = [0.01,0.02,0.03]\n",
    "\n",
    "list(zip(cotacoes,retorno))\n",
    "l = sum(list(map(lambda x:x[0]*x[1], list(zip(cotacoes,retorno)))))\n",
    "print(l)\n"
   ]
  },
  {
   "cell_type": "code",
   "execution_count": null,
   "metadata": {},
   "outputs": [
    {
     "name": "stdout",
     "output_type": "stream",
     "text": [
      "retorno diario com retorno constante: 0.6\n",
      "retorno diario com retorno unicos: 1.4\n"
     ]
    }
   ],
   "source": [
    "# Exercicio 23\n",
    "\n",
    "cotacoes = [10,20,30]\n",
    "retorno = 0.01\n",
    "\n",
    "retorno_diario = sum(list(map(lambda x:x*retorno, cotacoes )))\n",
    "\n",
    "print(f\"retorno diario com retorno constante: {retorno_diario:.2}\")\n",
    "\n",
    "retorno = [0.01,0.02,0.03]\n",
    "\n",
    "\n",
    "l = sum(list(map(lambda x:x[0]*x[1], list(zip(cotacoes,retorno)))))\n",
    "\n",
    "print(f\"retorno diario com retorno unicos: {l:.2}\")\n",
    "\n",
    "\n"
   ]
  },
  {
   "cell_type": "code",
   "execution_count": null,
   "metadata": {},
   "outputs": [
    {
     "name": "stdout",
     "output_type": "stream",
     "text": [
      "Retorno 1 ao dia 2: 2.0\n",
      "Retorno 2 ao dia 3: 1.5\n",
      "[2.0, 1.5]\n"
     ]
    }
   ],
   "source": [
    "# Exercicio 23 2 - com usuario colocadno as ações e com elas calculando o retorno diario\n",
    "\n",
    "cotacoes  = []\n",
    "dia = 1\n",
    "retornos = []\n",
    "while True:\n",
    "    cotacao = float(input(f\"Digite a cotação no dia {dia}: \"))\n",
    "    dia += 1\n",
    "    \n",
    "    cotacoes.append(cotacao)\n",
    "    \n",
    "    if(len(cotacoes)> 1):\n",
    "        retorno = cotacoes[-1]/cotacoes[-2]\n",
    "        print(f\"Retorno {dia-2} ao dia {dia-1}: {retorno}\")\n",
    "        \n",
    "        retornos.append(retorno)\n",
    "        \n",
    "    continuar = input(\"Continuar?S/N\").lower()\n",
    "    \n",
    "    if(continuar == 'n'):\n",
    "        break\n",
    "    \n",
    "    \n",
    "print(retornos)\n",
    "    \n",
    "    \n",
    "    \n",
    "\n"
   ]
  },
  {
   "cell_type": "markdown",
   "metadata": {},
   "source": [
    "# Mundo 22"
   ]
  },
  {
   "cell_type": "code",
   "execution_count": 24,
   "metadata": {},
   "outputs": [
    {
     "name": "stdout",
     "output_type": "stream",
     "text": [
      "Parabéns, luiz, quando você for 33 anos de idade será um excelente programador\n"
     ]
    }
   ],
   "source": [
    "\n",
    "#* Exercício 24: Crie um programa que receba dois dados do usuário: nome e idade. O programa deve parabenizar por estar participando do #curso codigo.py e indicar que quando ele tiver a idade atual + 3 anos ele será muito bom em python. Além disso, o programa deve tratar #erros caso sejam digitados dados estranhos no input.  \n",
    "\n",
    "import re\n",
    "nome = 0\n",
    "idade = ''\n",
    "    \n",
    "    \n",
    "def is_valid_name(name:str):\n",
    "    #pattern = r\"^[A-Za-z]+([ '-][A-Za-z]+)*\"\n",
    "    pattern = r\"^[A-Za-zÀ-ÖØ-öø-ÿ]*([ '-][A-Za-zÀ-ÖØ-öø-ÿ]+)*$\"\n",
    "\n",
    "    \n",
    "    return bool(re.fullmatch(pattern, name) and 2<= len(name) < 100)\n",
    "\n",
    "def is_valid_num(num:str):\n",
    "    pattern = r\"^[1-9][0-9]*\"\n",
    "    \n",
    "    if(bool(re.fullmatch(pattern, num))):\n",
    "        return int(num)\n",
    "    \n",
    "    return 0\n",
    "\n",
    "\n",
    "while not is_valid_name(str(nome)):\n",
    "    nome = input(\"Digite o nome do usuário\")\n",
    "\n",
    "\n",
    "while not is_valid_num(idade):\n",
    "    idade  = input(f\"Digite a idade do usuario {nome}\") \n",
    "\n",
    "print(f\"Parabéns, {nome}, quando você for {idade} anos de idade será um excelente programador\")\n",
    "\n",
    "\n"
   ]
  },
  {
   "cell_type": "code",
   "execution_count": 27,
   "metadata": {},
   "outputs": [
    {
     "name": "stdout",
     "output_type": "stream",
     "text": [
      "Ocorreu um problema com os dados digitados\n",
      "Usuario:1, idade: \n",
      "Siga pra o próximo passo\n"
     ]
    }
   ],
   "source": [
    "nome = 0\n",
    "idade = ''\n",
    "\n",
    "while not isinstance(nome,str) and not isinstance(idade, int):\n",
    "    try:\n",
    "        nome = str(input(\"Digite seu nome:\")).title()\n",
    "        idade = int(input(\"Digite quantos anos você tem:\"))\n",
    "    except ValueError:\n",
    "        print(\"Ocorreu um problema com os dados digitados\")\n",
    "    finally:\n",
    "        print(f\"Usuario:{nome}, idade: {idade}\")\n",
    "        print(\"Siga pra o próximo passo\")\n"
   ]
  },
  {
   "cell_type": "code",
   "execution_count": null,
   "metadata": {},
   "outputs": [],
   "source": [
    "# Exercicio 25: O mundo 22 será o primeiro que iremos tratar sobre ferramentas. Não terá nenhum assunto 100% novo, mas quero te mostrar coisas úteis de #como otimizar seu código, filtrar listas e muito mais! \n",
    "\n",
    "\n"
   ]
  },
  {
   "cell_type": "markdown",
   "metadata": {},
   "source": [
    "# MUNDO 25"
   ]
  },
  {
   "cell_type": "markdown",
   "metadata": {},
   "source": [
    "# Desafios\n",
    "\n",
    "* Exercício 25: Crie um programa que filtre a lista [2, 4, 5, 6, 10] apenas para números acima de 5.\n",
    "\n",
    "\n",
    "* Exercício 26: Crie um programa que converta a lista [2, 4, 5, 6, 10] para tipo float.\n",
    "\n",
    "\n",
    "* Exercício 27: Crie um programa que selecione na lista ['WEGE3', 'PETR4', 'PETR3', 'PCAR3', 'ALPA4'] todos os tickers que começam com P.\n"
   ]
  },
  {
   "cell_type": "code",
   "execution_count": 32,
   "metadata": {},
   "outputs": [
    {
     "name": "stdout",
     "output_type": "stream",
     "text": [
      "[6, 10]\n",
      "[6, 10]\n"
     ]
    }
   ],
   "source": [
    "\n",
    "\n",
    "#* Exercício 25: Crie um programa que filtre a lista [2, 4, 5, 6, 10] apenas para números acima de 5.\n",
    "\n",
    "\n",
    "\n",
    "numeros = [2,4,5,6,10]\n",
    "numeros_filtrados1 = list(filter(lambda x:x>5, numeros))\n",
    "print(numeros_filtrados1)\n",
    "numeros_filtrados2 = [num for num in numeros if num > 5]\n",
    "\n",
    "print(numeros_filtrados2)\n",
    "\n"
   ]
  },
  {
   "cell_type": "code",
   "execution_count": 33,
   "metadata": {},
   "outputs": [
    {
     "name": "stdout",
     "output_type": "stream",
     "text": [
      "[2.0, 4.0, 5.0, 6.0, 10.0]\n",
      "[2.0, 4.0, 5.0, 6.0, 10.0]\n"
     ]
    }
   ],
   "source": [
    "#* Exercício 26: Crie um programa que converta a lista [2, 4, 5, 6, 10] para tipo float.\n",
    "\n",
    "\n",
    "numeros = [2,4,5,6,10]\n",
    "\n",
    "\n",
    "numeros_float1 = [float(num) for num in numeros]\n",
    "\n",
    "print(numeros_float1)\n",
    "\n",
    "numeros_float2 = list(map(lambda x:float(x), numeros)) \n",
    "\n",
    "print(numeros_float2)\n"
   ]
  },
  {
   "cell_type": "code",
   "execution_count": 35,
   "metadata": {},
   "outputs": [
    {
     "name": "stdout",
     "output_type": "stream",
     "text": [
      "['PETR4', 'PETR3', 'PCAR3']\n",
      "['PETR4', 'PETR3', 'PCAR3']\n"
     ]
    }
   ],
   "source": [
    "#* Exercício 27: Crie um programa que selecione na lista ['WEGE3', 'PETR4', 'PETR3', 'PCAR3', 'ALPA4'] todos os tickers que começam com P.\n",
    "\n",
    "\n",
    "acoes = ['WEGE3', 'PETR4', 'PETR3', 'PCAR3', 'ALPA4']\n",
    "\n",
    "acoes_filtradas = [acao for acao in acoes if acao[0] == 'P' ]\n",
    "print(acoes_filtradas)\n",
    "\n",
    "acoes_filtradas2 = list(filter(lambda acao:acao[0]=='P', acoes))\n",
    "print(acoes_filtradas2)"
   ]
  },
  {
   "cell_type": "markdown",
   "metadata": {},
   "source": [
    "# MUNDO 23"
   ]
  },
  {
   "cell_type": "markdown",
   "metadata": {},
   "source": [
    "# Desafios\n",
    "\n",
    "* Exercício 9: : Crie uma data a partir do módulo datetime e exiba na tela as seguintes características:\n",
    "    - Dia da data\n",
    "    - Mês da data\n",
    "    - Ano da data\n",
    "    - Hora da data\n",
    "    - Minuto da data\n",
    "    - Segundo da data\n",
    "\n",
    "* Exercício 10: Peça para o usuário digitar uma data no formato brasileiro no terminal e devolva para ele:\n",
    "    - Qual a data ele digitou.\n",
    "    - O dia anterior da data digitada.\n",
    "    - A data daqui a 1 ano. "
   ]
  },
  {
   "cell_type": "markdown",
   "metadata": {},
   "source": [
    "* Exercício 9: : Crie uma data a partir do módulo datetime e exiba na tela as seguintes características:\n",
    "    - Dia da data\n",
    "    - Mês da data\n",
    "    - Ano da data\n",
    "    - Hora da data\n",
    "    - Minuto da data\n",
    "    - Segundo da data"
   ]
  },
  {
   "cell_type": "code",
   "execution_count": 44,
   "metadata": {},
   "outputs": [
    {
     "name": "stdout",
     "output_type": "stream",
     "text": [
      "Dia:14\n",
      "Mês:12\n",
      "Ano:2024\n",
      "Hora:17\n",
      "Minute:1\n",
      "Seconds:42\n"
     ]
    }
   ],
   "source": [
    "from datetime import datetime \n",
    "hoje = datetime.now()\n",
    "print(f\"Dia:{hoje.day}\")\n",
    "print(f\"Mês:{hoje.month}\")\n",
    "print(f\"Ano:{hoje.year}\")\n",
    "print(f\"Hora:{hoje.hour}\")\n",
    "print(f\"Minute:{hoje.minute}\")\n",
    "print(f\"Seconds:{hoje.second}\")\n"
   ]
  },
  {
   "cell_type": "markdown",
   "metadata": {},
   "source": [
    "* Exercício 10: Peça para o usuário digitar uma data no formato brasileiro no terminal e devolva para ele:\n",
    "    - Qual a data ele digitou.\n",
    "    - O dia anterior da data digitada.\n",
    "    - A data daqui a 1 ano. "
   ]
  },
  {
   "cell_type": "code",
   "execution_count": 51,
   "metadata": {},
   "outputs": [
    {
     "name": "stdout",
     "output_type": "stream",
     "text": [
      "data digita 2024-12-14\n",
      "Dia anterior:2024-12-13 00:00:00\n",
      "Ano que vem:2025-12-14 00:00:00\n"
     ]
    }
   ],
   "source": [
    "from datetime import datetime, timedelta\n",
    "from dateutil.relativedelta import relativedelta\n",
    "\n",
    "data_texto = input(\"Digite uma fata no formato dd/mm/yyyy\")\n",
    "data = datetime.strptime(data_texto, '%d/%m/%Y')\n",
    "\n",
    "print(f\"data digita {data.date()}\")\n",
    "\n",
    "\n",
    "timedelta = timedelta(days = 1) #dia é a maior escala\n",
    "\n",
    "dia_anterior = data - timedelta\n",
    "print(f\"Dia anterior:{dia_anterior}\")\n",
    "\n",
    "ano_que_vem = data + relativedelta(years =1)\n",
    "print(f\"Ano que vem:{ano_que_vem}\")\n",
    "\n"
   ]
  },
  {
   "cell_type": "markdown",
   "metadata": {},
   "source": []
  }
 ],
 "metadata": {
  "kernelspec": {
   "display_name": "Python 3",
   "language": "python",
   "name": "python3"
  },
  "language_info": {
   "codemirror_mode": {
    "name": "ipython",
    "version": 3
   },
   "file_extension": ".py",
   "mimetype": "text/x-python",
   "name": "python",
   "nbconvert_exporter": "python",
   "pygments_lexer": "ipython3",
   "version": "3.10.12"
  }
 },
 "nbformat": 4,
 "nbformat_minor": 2
}
