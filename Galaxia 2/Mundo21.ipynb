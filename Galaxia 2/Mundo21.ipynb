{
 "cells": [
  {
   "cell_type": "markdown",
   "id": "6b6071ff",
   "metadata": {},
   "source": [
    "# Mundo 21"
   ]
  },
  {
   "cell_type": "code",
   "execution_count": 4,
   "id": "40e722f8",
   "metadata": {
    "scrolled": true
   },
   "outputs": [
    {
     "name": "stdout",
     "output_type": "stream",
     "text": [
      "Digite um número: 20\n",
      "Digite outro número: 0\n"
     ]
    },
    {
     "ename": "ZeroDivisionError",
     "evalue": "float division by zero",
     "output_type": "error",
     "traceback": [
      "\u001b[1;31m---------------------------------------------------------------------------\u001b[0m",
      "\u001b[1;31mZeroDivisionError\u001b[0m                         Traceback (most recent call last)",
      "Input \u001b[1;32mIn [4]\u001b[0m, in \u001b[0;36m<cell line: 6>\u001b[1;34m()\u001b[0m\n\u001b[0;32m      3\u001b[0m numero1 \u001b[38;5;241m=\u001b[39m \u001b[38;5;28mfloat\u001b[39m(\u001b[38;5;28minput\u001b[39m(\u001b[38;5;124m\"\u001b[39m\u001b[38;5;124mDigite um número: \u001b[39m\u001b[38;5;124m\"\u001b[39m))\n\u001b[0;32m      4\u001b[0m numero2 \u001b[38;5;241m=\u001b[39m \u001b[38;5;28mfloat\u001b[39m(\u001b[38;5;28minput\u001b[39m(\u001b[38;5;124m\"\u001b[39m\u001b[38;5;124mDigite outro número: \u001b[39m\u001b[38;5;124m\"\u001b[39m))\n\u001b[1;32m----> 6\u001b[0m divisao \u001b[38;5;241m=\u001b[39m \u001b[43mnumero1\u001b[49m\u001b[38;5;241;43m/\u001b[39;49m\u001b[43mnumero2\u001b[49m\n\u001b[0;32m      8\u001b[0m \u001b[38;5;28mprint\u001b[39m(\u001b[38;5;124mf\u001b[39m\u001b[38;5;124m'\u001b[39m\u001b[38;5;124mA divisão entre o 1º e o 2º número é \u001b[39m\u001b[38;5;132;01m{\u001b[39;00mdivisao\u001b[38;5;132;01m}\u001b[39;00m\u001b[38;5;124m'\u001b[39m)\n",
      "\u001b[1;31mZeroDivisionError\u001b[0m: float division by zero"
     ]
    }
   ],
   "source": [
    "#calculadora\n",
    "\n",
    "numero1 = float(input(\"Digite um número: \"))\n",
    "numero2 = float(input(\"Digite outro número: \"))\n",
    "\n",
    "divisao = numero1/numero2\n",
    "\n",
    "print(f'A divisão entre o 1º e o 2º número é {divisao}')\n"
   ]
  },
  {
   "cell_type": "code",
   "execution_count": 9,
   "id": "db081958",
   "metadata": {},
   "outputs": [
    {
     "name": "stdout",
     "output_type": "stream",
     "text": [
      "Digite um número: 20\n",
      "Digite outro número: sete\n",
      "Ocorreu um erro com o tipo de dado digitado\n",
      "Obrigado por participar!\n"
     ]
    }
   ],
   "source": [
    "#calculadora 2 \n",
    "\n",
    "try:\n",
    "\n",
    "    numero1 = float(input(\"Digite um número: \"))\n",
    "    numero2 = float(input(\"Digite outro número: \"))\n",
    "\n",
    "    divisao = numero1/numero2\n",
    "    \n",
    "except ZeroDivisionError:\n",
    "\n",
    "    print(\"Não é possível dividir um número por 0!\")\n",
    "    \n",
    "except ValueError:\n",
    "    \n",
    "    print(\"Ocorreu um erro com o tipo de dado digitado\")\n",
    "\n",
    "else:\n",
    "\n",
    "    print(f'A divisão entre o 1º e o 2º número é {divisao}')\n",
    "\n",
    "finally:\n",
    "\n",
    "    print(\"Obrigado por participar!\")"
   ]
  },
  {
   "cell_type": "code",
   "execution_count": 14,
   "id": "f8e08d08",
   "metadata": {},
   "outputs": [
    {
     "name": "stdout",
     "output_type": "stream",
     "text": [
      "Digite um número: 20\n",
      "Digite outro número: 10\n"
     ]
    }
   ],
   "source": [
    "#calculadora 3\n",
    "\n",
    "\n",
    "numero1 = float(input(\"Digite um número: \"))\n",
    "numero2 = float(input(\"Digite outro número: \"))\n",
    "\n",
    "divisao = numero1/numero2\n"
   ]
  },
  {
   "cell_type": "markdown",
   "id": "d6769546",
   "metadata": {},
   "source": [
    "# Desafios\n",
    "\n",
    "* Exercício 24: Crie um programa que receba dois dados do usuário: nome e idade. O programa deve parabenizar por estar participando do curso codigo.py e indicar que quando ele tiver a idade atual + 3 anos ele será muito bom em python. Além disso, o programa deve tratar erros caso sejam digitados dados estranhos no input.  "
   ]
  },
  {
   "cell_type": "code",
   "execution_count": 16,
   "id": "3b5964da",
   "metadata": {},
   "outputs": [
    {
     "name": "stdout",
     "output_type": "stream",
     "text": [
      "Digite seu nome: Brenno\n",
      "Digite quantos anos você tem: 40\n",
      "Parabens por estar fazendo o curso código.py Brenno! Quando você tiver 43 anos, você será um monstro no python!\n",
      "Siga para o próximo mundo para avançar no seu conhecimento em python!\n"
     ]
    }
   ],
   "source": [
    "try:\n",
    "\n",
    "    nome = str(input(\"Digite seu nome: \")).title()\n",
    "    idade = int(input(\"Digite quantos anos você tem: \"))\n",
    "\n",
    "except ValueError:\n",
    "\n",
    "    print(\"Ocorreu um problema com os dados digitados!\")\n",
    "\n",
    "else:\n",
    "    print(f\"Parabens por estar fazendo o curso código.py {nome}! Quando você tiver {idade + 3} anos, você será um monstro no python!\")\n",
    "\n",
    "finally:\n",
    "\n",
    "    print(\"Siga para o próximo mundo para avançar no seu conhecimento em python!\")"
   ]
  },
  {
   "cell_type": "markdown",
   "id": "aecd6815",
   "metadata": {},
   "source": [
    "# Mundo 22\n",
    "\n",
    "O mundo 22 será o primeiro que iremos tratar sobre ferramentas. Não terá nenhum assunto 100% novo, mas quero te mostrar coisas úteis de como otimizar seu código, filtrar listas e muito mais! "
   ]
  },
  {
   "cell_type": "code",
   "execution_count": null,
   "id": "771719d4",
   "metadata": {},
   "outputs": [],
   "source": []
  },
  {
   "cell_type": "code",
   "execution_count": null,
   "id": "f0b3af2d",
   "metadata": {},
   "outputs": [],
   "source": []
  },
  {
   "cell_type": "code",
   "execution_count": null,
   "id": "d52f89b4",
   "metadata": {},
   "outputs": [],
   "source": []
  },
  {
   "cell_type": "code",
   "execution_count": null,
   "id": "5405da4a",
   "metadata": {},
   "outputs": [],
   "source": []
  },
  {
   "cell_type": "code",
   "execution_count": null,
   "id": "007f8e8a",
   "metadata": {},
   "outputs": [],
   "source": []
  },
  {
   "cell_type": "code",
   "execution_count": null,
   "id": "49fb4362",
   "metadata": {},
   "outputs": [],
   "source": []
  },
  {
   "cell_type": "code",
   "execution_count": null,
   "id": "f7495524",
   "metadata": {},
   "outputs": [],
   "source": []
  },
  {
   "cell_type": "code",
   "execution_count": null,
   "id": "554d8efc",
   "metadata": {},
   "outputs": [],
   "source": []
  },
  {
   "cell_type": "code",
   "execution_count": null,
   "id": "5687a7df",
   "metadata": {},
   "outputs": [],
   "source": []
  },
  {
   "cell_type": "code",
   "execution_count": null,
   "id": "fbd1f78f",
   "metadata": {},
   "outputs": [],
   "source": []
  },
  {
   "cell_type": "code",
   "execution_count": null,
   "id": "12e12c89",
   "metadata": {},
   "outputs": [],
   "source": []
  },
  {
   "cell_type": "code",
   "execution_count": null,
   "id": "709f9796",
   "metadata": {},
   "outputs": [],
   "source": []
  }
 ],
 "metadata": {
  "kernelspec": {
   "display_name": "Python 3 (ipykernel)",
   "language": "python",
   "name": "python3"
  },
  "language_info": {
   "codemirror_mode": {
    "name": "ipython",
    "version": 3
   },
   "file_extension": ".py",
   "mimetype": "text/x-python",
   "name": "python",
   "nbconvert_exporter": "python",
   "pygments_lexer": "ipython3",
   "version": "3.9.12"
  }
 },
 "nbformat": 4,
 "nbformat_minor": 5
}
