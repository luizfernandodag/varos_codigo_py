{
 "cells": [
  {
   "cell_type": "markdown",
   "id": "6b6071ff",
   "metadata": {},
   "source": [
    "# Mundo 18"
   ]
  },
  {
   "cell_type": "code",
   "execution_count": 1,
   "id": "40e722f8",
   "metadata": {},
   "outputs": [],
   "source": [
    "import time\n",
    "import pandas as pd\n",
    "import datetime\n",
    "\n",
    "#loop simples em uma lista\n",
    "\n",
    "lista_empresas = ['Weg', 'Vale', 'Petrobras']"
   ]
  },
  {
   "cell_type": "code",
   "execution_count": 2,
   "id": "db081958",
   "metadata": {},
   "outputs": [
    {
     "name": "stdout",
     "output_type": "stream",
     "text": [
      "WEG\n",
      "VALE\n",
      "PETROBRAS\n"
     ]
    }
   ],
   "source": [
    "for empresa in lista_empresas:\n",
    "\n",
    "    print(empresa.upper())\n",
    "    time.sleep(1)"
   ]
  },
  {
   "cell_type": "code",
   "execution_count": 3,
   "id": "f8e08d08",
   "metadata": {},
   "outputs": [
    {
     "name": "stdout",
     "output_type": "stream",
     "text": [
      "range(0, 3)\n",
      "Weg\n",
      "Vale\n",
      "Petrobras\n"
     ]
    }
   ],
   "source": [
    "#loop em um range. \n",
    "\n",
    "print(range(0, 3))\n",
    "\n",
    "for i in range(0, len(lista_empresas)):\n",
    "\n",
    "    print(lista_empresas[i])"
   ]
  },
  {
   "cell_type": "code",
   "execution_count": 11,
   "id": "6e9e5a23",
   "metadata": {},
   "outputs": [
    {
     "name": "stdout",
     "output_type": "stream",
     "text": [
      "  Nome empresa  Cotação\n",
      "0          Weg       20\n",
      "0         Vale       30\n",
      "0    Petrobras       45\n"
     ]
    }
   ],
   "source": [
    "#por que usar um range?\n",
    "\n",
    "lista_cotacoes = [20, 30, 45]\n",
    "lista_empresas = ['Weg', 'Vale', 'Petrobras']\n",
    "\n",
    "lista_dicionarios = []\n",
    "\n",
    "for i in range(0, 3):\n",
    "\n",
    "    lista_dicionarios.append(pd.DataFrame(\n",
    "        {'Nome empresa': lista_empresas[i], 'Cotação': lista_cotacoes[i]}, index=[0]))\n",
    "\n",
    "    \n",
    "tabela = pd.concat(lista_dicionarios)\n",
    "\n",
    "print(tabela)"
   ]
  },
  {
   "cell_type": "code",
   "execution_count": 6,
   "id": "0f12714d",
   "metadata": {
    "scrolled": true
   },
   "outputs": [
    {
     "name": "stdout",
     "output_type": "stream",
     "text": [
      "0 20\n",
      "1 30\n",
      "2 45\n",
      "  Nome empresa  Cotação\n",
      "0          Weg       20\n",
      "0         Vale       30\n",
      "0    Petrobras       45\n"
     ]
    }
   ],
   "source": [
    "#enumerate usa os dois mundos\n",
    "\n",
    "lista_dicionarios = []\n",
    "\n",
    "lista_cotacoes = [20, 30, 45]\n",
    "lista_empresas = ['Weg', 'Vale', 'Petrobras']\n",
    "\n",
    "for indice, cotacao in enumerate(lista_cotacoes): #o enumerate \n",
    "\n",
    "    print(indice, cotacao)\n",
    "\n",
    "    lista_dicionarios.append(pd.DataFrame(\n",
    "        {'Nome empresa': lista_empresas[indice], 'Cotação': cotacao}, index=[0]))\n",
    "\n",
    "\n",
    "tabela = pd.concat(lista_dicionarios)\n",
    "\n",
    "print(tabela)"
   ]
  },
  {
   "cell_type": "code",
   "execution_count": 8,
   "id": "781a5382",
   "metadata": {},
   "outputs": [
    {
     "name": "stdout",
     "output_type": "stream",
     "text": [
      "O programa está rodando há 0:00:00.000152 segundos\n",
      "O programa está rodando há 0:00:05.005626 segundos\n",
      "O programa está rodando há 0:00:10.011354 segundos\n",
      "O programa está rodando há 0:00:15.015869 segundos\n",
      "O programa está rodando há 0:00:20.021398 segundos\n",
      "O programa está rodando há 0:00:25.026977 segundos\n"
     ]
    },
    {
     "ename": "KeyboardInterrupt",
     "evalue": "",
     "output_type": "error",
     "traceback": [
      "\u001b[0;31m---------------------------------------------------------------------------\u001b[0m",
      "\u001b[0;31mKeyboardInterrupt\u001b[0m                         Traceback (most recent call last)",
      "Cell \u001b[0;32mIn[8], line 7\u001b[0m\n\u001b[1;32m      4\u001b[0m tempo_rodando \u001b[38;5;241m=\u001b[39m datetime\u001b[38;5;241m.\u001b[39mdatetime\u001b[38;5;241m.\u001b[39mnow() \u001b[38;5;241m-\u001b[39m tempo  \n\u001b[1;32m      5\u001b[0m \u001b[38;5;28mprint\u001b[39m(\u001b[38;5;124mf\u001b[39m\u001b[38;5;124m'\u001b[39m\u001b[38;5;124mO programa está rodando há \u001b[39m\u001b[38;5;132;01m{\u001b[39;00mtempo_rodando\u001b[38;5;132;01m}\u001b[39;00m\u001b[38;5;124m segundos\u001b[39m\u001b[38;5;124m'\u001b[39m)\n\u001b[0;32m----> 7\u001b[0m \u001b[43mtime\u001b[49m\u001b[38;5;241;43m.\u001b[39;49m\u001b[43msleep\u001b[49m\u001b[43m(\u001b[49m\u001b[38;5;241;43m5\u001b[39;49m\u001b[43m)\u001b[49m\n",
      "\u001b[0;31mKeyboardInterrupt\u001b[0m: "
     ]
    }
   ],
   "source": [
    "tempo = datetime.datetime.now()\n",
    "while True:\n",
    "    \n",
    "    tempo_rodando = datetime.datetime.now() - tempo  \n",
    "    print(f'O programa está rodando há {tempo_rodando} segundos')\n",
    "\n",
    "    time.sleep(5)"
   ]
  },
  {
   "cell_type": "code",
   "execution_count": 9,
   "id": "11bbc8f0",
   "metadata": {},
   "outputs": [
    {
     "name": "stdout",
     "output_type": "stream",
     "text": [
      "20\n",
      "30\n"
     ]
    }
   ],
   "source": [
    "#usando while sem ser infinito\n",
    "\n",
    "contador = 0\n",
    "\n",
    "lista_cotacoes = [20, 30, 45]\n",
    "\n",
    "while lista_cotacoes[contador] < 35:\n",
    "\n",
    "    print(lista_cotacoes[contador])\n",
    "\n",
    "    contador = contador + 1"
   ]
  },
  {
   "cell_type": "markdown",
   "id": "d6769546",
   "metadata": {},
   "source": [
    "# Desafios\n",
    "\n",
    "* Exercício 20: Faça um programa que leia a cotação de 5 empresas. No final, mostre na tela qual foi a maior e a menor cotação lida.\n",
    "\n",
    "\n",
    "* Exercício 21: Crie uma ferramenta que deixe o usuário montar uma carteira de investimento e receba 3 informações: nome da empresa, P/L (inteiro) e roe. A ferramenta deixará o usuário adicionar quantas empresas ele quiser. Depois que o cadastro de empresas terminar, o programa irá exibir as seguinte estatísticas da carteira montada:\n",
    "    - Numero de ativos na carteira\n",
    "    - Média de P/L\n",
    "    - Média do ROE\n",
    "    - Qual a empresa mais barata da carteira (menor P/L)\n",
    "    - Se o usuário tiver menos de 3 ativos, avisar que a carteira está muito concentrada em poucos ativos "
   ]
  },
  {
   "cell_type": "code",
   "execution_count": 17,
   "id": "3b5964da",
   "metadata": {},
   "outputs": [
    {
     "name": "stdout",
     "output_type": "stream",
     "text": [
      "Digite uma cotação:20\n",
      "Digite uma cotação:30\n",
      "Digite uma cotação:40\n",
      "Digite uma cotação:50\n",
      "Digite uma cotação:60\n",
      "A maior cotação digitada foi R$60.0 e a menor foi R$20.0\n"
     ]
    }
   ],
   "source": [
    "maior = 0\n",
    "menor = 0\n",
    "\n",
    "for i in range(0, 5):\n",
    "\n",
    "    cotacao = float(input('Digite uma cotação:'))\n",
    "\n",
    "    if i == 0:\n",
    "\n",
    "        menor = cotacao\n",
    "        maior = cotacao\n",
    "\n",
    "    else:\n",
    "\n",
    "        if cotacao > maior:\n",
    "\n",
    "            maior = cotacao\n",
    "\n",
    "        if cotacao < menor:\n",
    "            \n",
    "            menor = cotacao\n",
    "\n",
    "print(f\"A maior cotação digitada foi R${maior} e a menor foi R${menor}\")"
   ]
  },
  {
   "cell_type": "code",
   "execution_count": 16,
   "id": "442af11c",
   "metadata": {
    "scrolled": true
   },
   "outputs": [
    {
     "name": "stdout",
     "output_type": "stream",
     "text": [
      "Seja bem vindo ao analisador de carteira de investimentos. \n",
      "      Nós iremos analisar a carteira que for passada para nós.\n",
      "Vamos pedir informações para você: nome da empresa, P/L e ROE, ok? \n",
      "      Não esqueça de digitar o ROE no formato decimal!\n",
      "Digite o nome da empresa: weg\n",
      "Digite o P/L da empresa: 90\n",
      "Digite o ROE da empresa: 0.4\n",
      "Deseja cadastrar mais empresas? [S/N]ojfsiojfido\n",
      "Por favor, digite um comando válido: [S/N]S\n",
      "Digite o nome da empresa: vale\n",
      "Digite o P/L da empresa: 80\n",
      "Digite o ROE da empresa: 0.8\n",
      "Deseja cadastrar mais empresas? [S/N]N\n",
      "Aqui está as estatísticas da sua carteira:\n",
      "Número de ativos: 2\n",
      "Roe médio: 60%\n",
      "A empresa com o menor P/L da carteira é a Vale\n",
      "Tome cuidado com a concentração em poucos ativos. \n",
      "          Você só possui 2 ativo(s) na carteira.\n"
     ]
    }
   ],
   "source": [
    "print('''Seja bem vindo ao analisador de carteira de investimentos. \n",
    "      Nós iremos analisar a carteira que for passada para nós.''')\n",
    "\n",
    "print('''Vamos pedir algumas informações para você: nome da empresa, P/L e ROE. \n",
    "      Não esqueça de digitar o ROE no formato decimal!''')\n",
    "\n",
    "continuar = True\n",
    "\n",
    "lista_empresas = []\n",
    "lista_pl = []\n",
    "lista_roe = []\n",
    "\n",
    "menor_valor_pl = 100000000000\n",
    "\n",
    "while continuar:\n",
    "\n",
    "    nome_empresa = str(input(\"Digite o nome da empresa: \")).title()\n",
    "    pl = int(input(\"Digite o P/L da empresa: \"))\n",
    "    roe = float(input(\"Digite o ROE da empresa: \"))\n",
    "\n",
    "    lista_empresas.append(nome_empresa)\n",
    "    lista_pl.append(pl)\n",
    "    lista_roe.append(roe)\n",
    "\n",
    "    if pl < menor_valor_pl:\n",
    "\n",
    "        empresa_com_menor_pl = nome_empresa\n",
    "        menor_valor_pl = pl\n",
    "\n",
    "    deseja_continuar = str(input(\"Deseja cadastrar mais empresas? [S/N]\")).lower()\n",
    "\n",
    "    if deseja_continuar != \"n\" and deseja_continuar != \"s\":\n",
    "\n",
    "        invalido = True\n",
    "\n",
    "        while invalido:\n",
    "\n",
    "            deseja_continuar = str(input(\"Por favor, digite um comando válido: [S/N]\")).lower()\n",
    "\n",
    "            if deseja_continuar == \"n\" or deseja_continuar == \"s\":\n",
    "\n",
    "                break\n",
    "\n",
    "    if deseja_continuar == \"n\":\n",
    "\n",
    "        break\n",
    "\n",
    "\n",
    "ativos_na_carteira = len(lista_empresas)\n",
    "roe_medio = sum(lista_roe)/len(lista_roe)\n",
    "pl_medio = sum(lista_pl)/len(lista_pl)\n",
    "\n",
    "roe_medio = \"{:.0%}\".format(roe_medio)\n",
    "\n",
    "print(\"Aqui está as estatísticas da sua carteira:\")\n",
    "print(f\"Número de ativos: {ativos_na_carteira}\")\n",
    "print(f\"Roe médio: {roe_medio}\")\n",
    "print(f\"A empresa com o menor P/L da carteira é a {empresa_com_menor_pl}\")\n",
    "\n",
    "if ativos_na_carteira < 3:\n",
    "\n",
    "    print(f'''Tome cuidado com a concentração em poucos ativos. \n",
    "          Você só possui {ativos_na_carteira} ativo(s) na carteira.''')"
   ]
  },
  {
   "cell_type": "markdown",
   "id": "aecd6815",
   "metadata": {},
   "source": [
    "# Mundo 19\n",
    "\n",
    "Ufa! finalmente saímos de programinhas simples dentro do python e estamos avançando em direção a análise de dados. Caso algo não tenha ficado claro, não se preocupe: você pode reassistir a aula quantas vezes você quiser. E se não foi intuitivo pra você resolver o exercício 2 de primeira também\n",
    "não se abala, provavelmente você começou a programar ontem! Esses desafios é pra puxar nosso nível pra cima e em breve, com a prática, você irá conseguir realizar as coisas. Se você fez sozinho, meus parabens, está no caminho certíssimo a analista de dados. Na próxima aula nós vamos aprender outra ferramenta essencial pros fundamentos de python: funções! Elas permitem a gente eliminar muito código inútil e criar coisas legais como uma função que converte graus celsius pra Fº por exemplo. Te vejo no mundo 19! "
   ]
  },
  {
   "cell_type": "code",
   "execution_count": null,
   "id": "771719d4",
   "metadata": {},
   "outputs": [],
   "source": []
  },
  {
   "cell_type": "code",
   "execution_count": null,
   "id": "fbd1f78f",
   "metadata": {},
   "outputs": [],
   "source": []
  },
  {
   "cell_type": "code",
   "execution_count": null,
   "id": "12e12c89",
   "metadata": {},
   "outputs": [],
   "source": []
  },
  {
   "cell_type": "code",
   "execution_count": null,
   "id": "375437a0",
   "metadata": {},
   "outputs": [],
   "source": []
  },
  {
   "cell_type": "code",
   "execution_count": null,
   "id": "efcb95dc",
   "metadata": {},
   "outputs": [],
   "source": []
  },
  {
   "cell_type": "code",
   "execution_count": null,
   "id": "67185740",
   "metadata": {},
   "outputs": [],
   "source": []
  },
  {
   "cell_type": "code",
   "execution_count": null,
   "id": "9e3373ce",
   "metadata": {},
   "outputs": [],
   "source": []
  },
  {
   "cell_type": "code",
   "execution_count": null,
   "id": "d1f5d797",
   "metadata": {},
   "outputs": [],
   "source": []
  },
  {
   "cell_type": "code",
   "execution_count": null,
   "id": "709f9796",
   "metadata": {},
   "outputs": [],
   "source": []
  }
 ],
 "metadata": {
  "kernelspec": {
   "display_name": "Python 3",
   "language": "python",
   "name": "python3"
  },
  "language_info": {
   "codemirror_mode": {
    "name": "ipython",
    "version": 3
   },
   "file_extension": ".py",
   "mimetype": "text/x-python",
   "name": "python",
   "nbconvert_exporter": "python",
   "pygments_lexer": "ipython3",
   "version": "3.10.12"
  }
 },
 "nbformat": 4,
 "nbformat_minor": 5
}
